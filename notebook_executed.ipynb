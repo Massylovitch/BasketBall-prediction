{
 "cells": [
  {
   "attachments": {},
   "cell_type": "markdown",
   "id": "f8e4f389",
   "metadata": {},
   "source": [
    "### Production Features Pipeline"
   ]
  },
  {
   "cell_type": "code",
   "execution_count": 1,
   "id": "89fd0a47",
   "metadata": {
    "execution": {
     "iopub.execute_input": "2025-03-21T23:31:08.958519Z",
     "iopub.status.busy": "2025-03-21T23:31:08.958196Z",
     "iopub.status.idle": "2025-03-21T23:31:08.961672Z",
     "shell.execute_reply": "2025-03-21T23:31:08.961188Z"
    }
   },
   "outputs": [],
   "source": [
    "# select web scraper; 'SCRAPINGANT' or 'SELENIUM'\n",
    "# SCRAPINGANT requires a subscription but includes a proxy server\n",
    "\n",
    "# WEBSCRAPER = 'SCRAPINGANT'\n",
    "WEBSCRAPER = \"SELENIUM\""
   ]
  },
  {
   "cell_type": "code",
   "execution_count": 2,
   "id": "2f0c58a3-8738-42ad-be18-8e13c171108f",
   "metadata": {
    "execution": {
     "iopub.execute_input": "2025-03-21T23:31:08.963341Z",
     "iopub.status.busy": "2025-03-21T23:31:08.963171Z",
     "iopub.status.idle": "2025-03-21T23:31:09.955622Z",
     "shell.execute_reply": "2025-03-21T23:31:09.955006Z"
    }
   },
   "outputs": [
    {
     "name": "stdout",
     "output_type": "stream",
     "text": [
      "notebooks\n",
      "BasketBall-prediction\n"
     ]
    }
   ],
   "source": [
    "import os\n",
    "\n",
    "import pandas as pd\n",
    "import numpy as np\n",
    "\n",
    "import hopsworks\n",
    "\n",
    "from datetime import datetime, timedelta\n",
    "from pytz import timezone\n",
    "\n",
    "import json\n",
    "\n",
    "import time\n",
    "\n",
    "from pathlib import Path  # for Windows/Linux compatibility\n",
    "\n",
    "# change working directory to project root when running from notebooks folder to make it easier to import modules\n",
    "# and to access sibling folders\n",
    "print(os.path.basename(os.getcwd()))\n",
    "if os.path.basename(os.getcwd()) == \"notebooks\":\n",
    "\n",
    "    INDIRECT = False\n",
    "\n",
    "    os.chdir(\n",
    "        \"..\"\n",
    "    ) \n",
    "print(os.path.basename(os.getcwd()))\n",
    "\n",
    "from src.utils.webscraping import (\n",
    "    get_new_games,\n",
    "    activate_web_driver,\n",
    "    get_todays_matchups,\n",
    ")\n",
    "\n",
    "from src.data.cleaning import (\n",
    "    process_games,\n",
    "    add_TARGET,\n",
    ")\n",
    "\n",
    "from src.data.build_features import (\n",
    "    process_features,\n",
    ")\n",
    "\n",
    "from src.utils.hopsworks_utils import (\n",
    "    save_feature_names,\n",
    "    convert_feature_names,\n",
    ")\n",
    "\n",
    "from src.utils.constants import (\n",
    "    FEATURE_GROUP_VERSION,\n",
    ")\n",
    "\n",
    "DATAPATH = Path(r\"data\")"
   ]
  },
  {
   "cell_type": "markdown",
   "id": "e754aaa7",
   "metadata": {},
   "source": [
    "**Load API keys**"
   ]
  },
  {
   "cell_type": "code",
   "execution_count": 3,
   "id": "1124d9cf-8a24-4a04-bf68-c7dc7ff1d276",
   "metadata": {
    "execution": {
     "iopub.execute_input": "2025-03-21T23:31:09.957712Z",
     "iopub.status.busy": "2025-03-21T23:31:09.957297Z",
     "iopub.status.idle": "2025-03-21T23:31:10.608895Z",
     "shell.execute_reply": "2025-03-21T23:31:10.608264Z"
    }
   },
   "outputs": [],
   "source": [
    "from dotenv import load_dotenv\n",
    "\n",
    "load_dotenv()\n",
    "\n",
    "try:\n",
    "    HOPSWORKS_API_KEY = os.environ[\"HOPSWORKS_API_KEY\"]\n",
    "except:\n",
    "    raise Exception(\"Set environment variable HOPSWORKS_API_KEY\")\n",
    "\n",
    "# if scrapingant is chosen then set the api key, otherwise load the selenium webdriver\n",
    "if WEBSCRAPER == \"SCRAPINGANT\":\n",
    "    try:\n",
    "        SCRAPINGANT_API_KEY = os.environ[\"SCRAPINGANT_API_KEY\"]\n",
    "    except:\n",
    "        raise Exception(\"Set environment variable SCRAPINGANT_API_KEY\")\n",
    "    driver = None\n",
    "\n",
    "elif WEBSCRAPER == \"SELENIUM\":\n",
    "    driver = activate_web_driver()\n",
    "    SCRAPINGANT_API_KEY = \"\""
   ]
  },
  {
   "attachments": {},
   "cell_type": "markdown",
   "id": "2f29eac3-4b58-4a07-bdba-b4c72cb491ec",
   "metadata": {},
   "source": [
    "**Scrape New Completed Games and Format Them**"
   ]
  },
  {
   "cell_type": "code",
   "execution_count": 4,
   "id": "0e81e4bd-45fa-44f6-bbb3-7d1821c56963",
   "metadata": {
    "execution": {
     "iopub.execute_input": "2025-03-21T23:31:10.611141Z",
     "iopub.status.busy": "2025-03-21T23:31:10.610804Z",
     "iopub.status.idle": "2025-03-21T23:31:34.806825Z",
     "shell.execute_reply": "2025-03-21T23:31:34.806328Z"
    }
   },
   "outputs": [
    {
     "name": "stdout",
     "output_type": "stream",
     "text": [
      "Current month is 03\n",
      "Scraping https://www.nba.com/stats/teams/boxscores?SeasonType=Regular+Season&DateFrom=03/14/25&DateTo=03/21/25\n"
     ]
    },
    {
     "name": "stdout",
     "output_type": "stream",
     "text": [
      "No new games to process\n"
     ]
    }
   ],
   "source": [
    "df_new = get_new_games(SCRAPINGANT_API_KEY, driver)\n",
    "\n",
    "if df_new.empty:\n",
    "    print(\"No new games to process\")\n",
    "else:\n",
    "\n",
    "    # get the SEASON of the last game in the database\n",
    "    # this will used when constructing rows for prediction\n",
    "    SEASON = df_new[\"SEASON\"].max()\n",
    "\n",
    "    print(df_new.head())\n"
   ]
  },
  {
   "attachments": {},
   "cell_type": "markdown",
   "id": "dfd78420",
   "metadata": {},
   "source": [
    "**Retrieve todays games**"
   ]
  },
  {
   "cell_type": "code",
   "execution_count": 5,
   "id": "45afa738",
   "metadata": {
    "execution": {
     "iopub.execute_input": "2025-03-21T23:31:34.808833Z",
     "iopub.status.busy": "2025-03-21T23:31:34.808505Z",
     "iopub.status.idle": "2025-03-21T23:31:46.076633Z",
     "shell.execute_reply": "2025-03-21T23:31:46.076136Z"
    }
   },
   "outputs": [
    {
     "name": "stdout",
     "output_type": "stream",
     "text": [
      "Friday, March 21\n",
      "[['1610612753', '1610612764'], ['1610612745', '1610612748'], ['1610612740', '1610612750'], ['1610612766', '1610612760'], ['1610612755', '1610612759'], ['1610612765', '1610612742'], ['1610612738', '1610612762'], ['1610612739', '1610612756'], ['1610612743', '1610612757'], ['1610612763', '1610612746']]\n",
      "['22401015', '22401016', '22401017', '22401018', '22401019', '22401020', '22401021', '22401022', '22401023']\n"
     ]
    }
   ],
   "source": [
    "# retrieve list of teams playing today\n",
    "\n",
    "# get today's games on NBA schedule\n",
    "matchups, game_ids = get_todays_matchups(SCRAPINGANT_API_KEY, driver)\n",
    "\n",
    "if matchups is None:\n",
    "    print(\"No games today\")\n",
    "else:\n",
    "    print(matchups)\n",
    "    print(game_ids)"
   ]
  },
  {
   "attachments": {},
   "cell_type": "markdown",
   "id": "3aef12e5",
   "metadata": {},
   "source": [
    "**Close Webdriver**"
   ]
  },
  {
   "cell_type": "code",
   "execution_count": 6,
   "id": "5766c712",
   "metadata": {
    "execution": {
     "iopub.execute_input": "2025-03-21T23:31:46.078655Z",
     "iopub.status.busy": "2025-03-21T23:31:46.078298Z",
     "iopub.status.idle": "2025-03-21T23:31:46.219143Z",
     "shell.execute_reply": "2025-03-21T23:31:46.218527Z"
    }
   },
   "outputs": [],
   "source": [
    "if WEBSCRAPER == \"SELENIUM\":\n",
    "    driver.close()"
   ]
  },
  {
   "attachments": {},
   "cell_type": "markdown",
   "id": "4a4abb60",
   "metadata": {},
   "source": [
    "**Check if anything is going on in the season**"
   ]
  },
  {
   "cell_type": "code",
   "execution_count": 7,
   "id": "0b720127",
   "metadata": {
    "execution": {
     "iopub.execute_input": "2025-03-21T23:31:46.221822Z",
     "iopub.status.busy": "2025-03-21T23:31:46.221461Z",
     "iopub.status.idle": "2025-03-21T23:31:46.224888Z",
     "shell.execute_reply": "2025-03-21T23:31:46.224305Z"
    }
   },
   "outputs": [],
   "source": [
    "UPDATE_WF = True\n",
    "\n",
    "if (df_new.empty) and (matchups is None):\n",
    "    print(\"No new games to process\")\n",
    "\n",
    "    UPDATE_WF = False\n",
    "    exit()"
   ]
  },
  {
   "cell_type": "markdown",
   "id": "acfb1180-ea38-452c-9afd-73eea3ee7e17",
   "metadata": {},
   "source": [
    "**Access Feature Store**"
   ]
  },
  {
   "cell_type": "code",
   "execution_count": 8,
   "id": "f28ad207",
   "metadata": {
    "execution": {
     "iopub.execute_input": "2025-03-21T23:31:46.226831Z",
     "iopub.status.busy": "2025-03-21T23:31:46.226462Z",
     "iopub.status.idle": "2025-03-21T23:31:46.229845Z",
     "shell.execute_reply": "2025-03-21T23:31:46.229270Z"
    }
   },
   "outputs": [
    {
     "name": "stdout",
     "output_type": "stream",
     "text": [
      "NJgan\n"
     ]
    }
   ],
   "source": [
    "print(HOPSWORKS_API_KEY[:5])"
   ]
  }
 ],
 "metadata": {
  "kernelspec": {
   "display_name": "basketball-prediction-klrE3EAW-py3.12",
   "language": "python",
   "name": "python3"
  },
  "language_info": {
   "codemirror_mode": {
    "name": "ipython",
    "version": 3
   },
   "file_extension": ".py",
   "mimetype": "text/x-python",
   "name": "python",
   "nbconvert_exporter": "python",
   "pygments_lexer": "ipython3",
   "version": "3.12.3"
  }
 },
 "nbformat": 4,
 "nbformat_minor": 5
}
