{
 "cells": [
  {
   "attachments": {},
   "cell_type": "markdown",
   "id": "f8e4f389",
   "metadata": {},
   "source": [
    "### Production Features Pipeline"
   ]
  },
  {
   "cell_type": "code",
   "execution_count": 1,
   "id": "89fd0a47",
   "metadata": {
    "execution": {
     "iopub.execute_input": "2025-03-22T12:17:57.315654Z",
     "iopub.status.busy": "2025-03-22T12:17:57.315480Z",
     "iopub.status.idle": "2025-03-22T12:17:57.318515Z",
     "shell.execute_reply": "2025-03-22T12:17:57.318111Z"
    }
   },
   "outputs": [],
   "source": [
    "# select web scraper; 'SCRAPINGANT' or 'SELENIUM'\n",
    "# SCRAPINGANT requires a subscription but includes a proxy server\n",
    "\n",
    "WEBSCRAPER = 'SCRAPINGANT'\n",
    "# WEBSCRAPER = \"SELENIUM\""
   ]
  },
  {
   "cell_type": "code",
   "execution_count": 2,
   "id": "2f0c58a3-8738-42ad-be18-8e13c171108f",
   "metadata": {
    "execution": {
     "iopub.execute_input": "2025-03-22T12:17:57.320290Z",
     "iopub.status.busy": "2025-03-22T12:17:57.319968Z",
     "iopub.status.idle": "2025-03-22T12:17:58.303947Z",
     "shell.execute_reply": "2025-03-22T12:17:58.303368Z"
    }
   },
   "outputs": [],
   "source": [
    "import os\n",
    "\n",
    "import pandas as pd\n",
    "import numpy as np\n",
    "\n",
    "import hopsworks\n",
    "\n",
    "from datetime import datetime, timedelta\n",
    "from pytz import timezone\n",
    "\n",
    "import json\n",
    "\n",
    "import time\n",
    "\n",
    "from pathlib import Path  # for Windows/Linux compatibility\n",
    "\n",
    "# change working directory to project root when running from notebooks folder to make it easier to import modules\n",
    "# and to access sibling folders\n",
    "os.chdir(\"..\")\n",
    "\n",
    "\n",
    "from src.utils.webscraping import (\n",
    "    get_new_games,\n",
    "    activate_web_driver,\n",
    "    get_todays_matchups,\n",
    ")\n",
    "\n",
    "from src.data.cleaning import (\n",
    "    process_games,\n",
    "    add_TARGET,\n",
    ")\n",
    "\n",
    "from src.data.build_features import (\n",
    "    process_features,\n",
    ")\n",
    "\n",
    "from src.utils.hopsworks_utils import (\n",
    "    save_feature_names,\n",
    "    convert_feature_names,\n",
    ")\n",
    "\n",
    "from src.utils.constants import (\n",
    "    FEATURE_GROUP_VERSION,\n",
    ")\n",
    "\n",
    "DATAPATH = Path(r\"data\")"
   ]
  },
  {
   "cell_type": "markdown",
   "id": "e754aaa7",
   "metadata": {},
   "source": [
    "**Load API keys**"
   ]
  },
  {
   "cell_type": "code",
   "execution_count": 3,
   "id": "1124d9cf-8a24-4a04-bf68-c7dc7ff1d276",
   "metadata": {
    "execution": {
     "iopub.execute_input": "2025-03-22T12:17:58.306365Z",
     "iopub.status.busy": "2025-03-22T12:17:58.305953Z",
     "iopub.status.idle": "2025-03-22T12:17:58.312681Z",
     "shell.execute_reply": "2025-03-22T12:17:58.312258Z"
    }
   },
   "outputs": [],
   "source": [
    "from dotenv import load_dotenv\n",
    "\n",
    "load_dotenv()\n",
    "\n",
    "try:\n",
    "    HOPSWORKS_API_KEY = os.environ[\"HOPSWORKS_API_KEY\"]\n",
    "except:\n",
    "    raise Exception(\"Set environment variable HOPSWORKS_API_KEY\")\n",
    "\n",
    "# if scrapingant is chosen then set the api key, otherwise load the selenium webdriver\n",
    "if WEBSCRAPER == \"SCRAPINGANT\":\n",
    "    try:\n",
    "        SCRAPINGANT_API_KEY = os.environ[\"SCRAPINGANT_API_KEY\"]\n",
    "    except:\n",
    "        raise Exception(\"Set environment variable SCRAPINGANT_API_KEY\")\n",
    "    driver = None\n",
    "\n",
    "elif WEBSCRAPER == \"SELENIUM\":\n",
    "    driver = activate_web_driver()\n",
    "    SCRAPINGANT_API_KEY = \"\""
   ]
  },
  {
   "attachments": {},
   "cell_type": "markdown",
   "id": "2f29eac3-4b58-4a07-bdba-b4c72cb491ec",
   "metadata": {},
   "source": [
    "**Scrape New Completed Games and Format Them**"
   ]
  },
  {
   "cell_type": "code",
   "execution_count": 4,
   "id": "0e81e4bd-45fa-44f6-bbb3-7d1821c56963",
   "metadata": {
    "execution": {
     "iopub.execute_input": "2025-03-22T12:17:58.314574Z",
     "iopub.status.busy": "2025-03-22T12:17:58.314251Z",
     "iopub.status.idle": "2025-03-22T12:18:42.262566Z",
     "shell.execute_reply": "2025-03-22T12:18:42.261997Z"
    }
   },
   "outputs": [
    {
     "name": "stdout",
     "output_type": "stream",
     "text": [
      "Current month is 03\n",
      "Scraping https://www.nba.com/stats/teams/boxscores?SeasonType=Regular+Season&DateFrom=03/15/25&DateTo=03/22/25\n",
      "USING SCARAPER API\n"
     ]
    },
    {
     "name": "stdout",
     "output_type": "stream",
     "text": [
      "2024\n",
      "  GAME_DATE_EST  HOME_TEAM_WINS  PTS_home  FG_PCT_home  FG3_PCT_home  \\\n",
      "0    2025-03-21               1       128         54.0          40.0   \n",
      "1    2025-03-21               1       128         57.7          50.0   \n",
      "2    2025-03-21               1       123         52.2          45.2   \n",
      "3    2025-03-21               0        99         45.2          40.0   \n",
      "4    2025-03-21               1       123         52.5          35.3   \n",
      "\n",
      "   FT_PCT_home  REB_home  AST_home  HOME_TEAM_ID   GAME_ID  PTS_away  \\\n",
      "0         80.0        38        30    1610612757  22401022       109   \n",
      "1         80.8        43        29    1610612746  22401023       108   \n",
      "2        100.0        46        33    1610612756  22401021       112   \n",
      "3         75.0        38        24    1610612762  22401020       121   \n",
      "4         75.0        44        25    1610612742  22401019       117   \n",
      "\n",
      "   FG_PCT_away  FG3_PCT_away  FT_PCT_away  REB_away  AST_away  \\\n",
      "0         50.0          34.6         85.7        31        24   \n",
      "1         42.1          38.8         69.2        40        28   \n",
      "2         44.7          37.8         78.6        44        24   \n",
      "3         46.4          33.3         87.5        48        27   \n",
      "4         46.9          35.5         73.7        41        24   \n",
      "\n",
      "   VISITOR_TEAM_ID  SEASON  \n",
      "0       1610612743    2024  \n",
      "1       1610612763    2024  \n",
      "2       1610612739    2024  \n",
      "3       1610612738    2024  \n",
      "4       1610612765    2024  \n"
     ]
    },
    {
     "name": "stderr",
     "output_type": "stream",
     "text": [
      "FutureWarning: Passing literal html to 'read_html' is deprecated and will be removed in a future version. To read from a literal string, wrap it in a 'StringIO' object.\n"
     ]
    }
   ],
   "source": [
    "df_new = get_new_games(SCRAPINGANT_API_KEY, driver)\n",
    "\n",
    "if df_new.empty:\n",
    "    print(\"No new games to process\")\n",
    "else:\n",
    "\n",
    "    # get the SEASON of the last game in the database\n",
    "    # this will used when constructing rows for prediction\n",
    "    SEASON = df_new[\"SEASON\"].max()\n",
    "\n",
    "    print(SEASON)\n",
    "    print(df_new.head())"
   ]
  },
  {
   "attachments": {},
   "cell_type": "markdown",
   "id": "dfd78420",
   "metadata": {},
   "source": [
    "**Retrieve todays games**"
   ]
  },
  {
   "cell_type": "code",
   "execution_count": 5,
   "id": "45afa738",
   "metadata": {
    "execution": {
     "iopub.execute_input": "2025-03-22T12:18:42.264580Z",
     "iopub.status.busy": "2025-03-22T12:18:42.264255Z",
     "iopub.status.idle": "2025-03-22T12:19:41.670002Z",
     "shell.execute_reply": "2025-03-22T12:19:41.669422Z"
    }
   },
   "outputs": [
    {
     "name": "stdout",
     "output_type": "stream",
     "text": [
      "[['1610612751', '1610612754'], ['1610612744', '1610612737'], ['1610612764', '1610612752'], ['1610612749', '1610612758'], ['1610612741', '1610612747']]\n",
      "['22401024', '22401025', '22401026', '22401027', '22401028']\n"
     ]
    }
   ],
   "source": [
    "# retrieve list of teams playing today\n",
    "\n",
    "# get today's games on NBA schedule\n",
    "matchups, game_ids = get_todays_matchups(SCRAPINGANT_API_KEY, driver)\n",
    "\n",
    "if matchups is None:\n",
    "    print(\"No games today\")\n",
    "else:\n",
    "    print(matchups)\n",
    "    print(game_ids)"
   ]
  },
  {
   "attachments": {},
   "cell_type": "markdown",
   "id": "3aef12e5",
   "metadata": {},
   "source": [
    "**Close Webdriver**"
   ]
  },
  {
   "cell_type": "code",
   "execution_count": 6,
   "id": "5766c712",
   "metadata": {
    "execution": {
     "iopub.execute_input": "2025-03-22T12:19:41.671932Z",
     "iopub.status.busy": "2025-03-22T12:19:41.671610Z",
     "iopub.status.idle": "2025-03-22T12:19:41.674081Z",
     "shell.execute_reply": "2025-03-22T12:19:41.673631Z"
    }
   },
   "outputs": [],
   "source": [
    "if WEBSCRAPER == \"SELENIUM\":\n",
    "    driver.close()"
   ]
  },
  {
   "attachments": {},
   "cell_type": "markdown",
   "id": "4a4abb60",
   "metadata": {},
   "source": [
    "**Check if anything is going on in the season**"
   ]
  },
  {
   "cell_type": "code",
   "execution_count": 7,
   "id": "0b720127",
   "metadata": {
    "execution": {
     "iopub.execute_input": "2025-03-22T12:19:41.675732Z",
     "iopub.status.busy": "2025-03-22T12:19:41.675462Z",
     "iopub.status.idle": "2025-03-22T12:19:41.678399Z",
     "shell.execute_reply": "2025-03-22T12:19:41.677952Z"
    }
   },
   "outputs": [],
   "source": [
    "UPDATE_WF = True\n",
    "\n",
    "if (df_new.empty) and (matchups is None):\n",
    "    print(\"No new games to process\")\n",
    "\n",
    "    UPDATE_WF = False\n",
    "    exit()"
   ]
  },
  {
   "attachments": {},
   "cell_type": "markdown",
   "id": "a43729ef",
   "metadata": {},
   "source": [
    "**Create Rows for Today's Games with Empty Stats**"
   ]
  },
  {
   "cell_type": "code",
   "execution_count": 8,
   "id": "dc4f3393",
   "metadata": {
    "execution": {
     "iopub.execute_input": "2025-03-22T12:19:41.680174Z",
     "iopub.status.busy": "2025-03-22T12:19:41.679839Z",
     "iopub.status.idle": "2025-03-22T12:19:41.696670Z",
     "shell.execute_reply": "2025-03-22T12:19:41.696245Z"
    }
   },
   "outputs": [
    {
     "name": "stdout",
     "output_type": "stream",
     "text": [
      "  GAME_DATE_EST  HOME_TEAM_WINS  PTS_home  FG_PCT_home  FG3_PCT_home  \\\n",
      "0    2025-03-22             0.0       0.0          0.0           0.0   \n",
      "1    2025-03-22             0.0       0.0          0.0           0.0   \n",
      "2    2025-03-22             0.0       0.0          0.0           0.0   \n",
      "3    2025-03-22             0.0       0.0          0.0           0.0   \n",
      "4    2025-03-22             0.0       0.0          0.0           0.0   \n",
      "\n",
      "   FT_PCT_home  REB_home  AST_home HOME_TEAM_ID   GAME_ID  PTS_away  \\\n",
      "0          0.0       0.0       0.0   1610612754  22401024       0.0   \n",
      "1          0.0       0.0       0.0   1610612737  22401025       0.0   \n",
      "2          0.0       0.0       0.0   1610612752  22401026       0.0   \n",
      "3          0.0       0.0       0.0   1610612758  22401027       0.0   \n",
      "4          0.0       0.0       0.0   1610612747  22401028       0.0   \n",
      "\n",
      "   FG_PCT_away  FG3_PCT_away  FT_PCT_away  REB_away  AST_away VISITOR_TEAM_ID  \\\n",
      "0          0.0           0.0          0.0       0.0       0.0      1610612751   \n",
      "1          0.0           0.0          0.0       0.0       0.0      1610612744   \n",
      "2          0.0           0.0          0.0       0.0       0.0      1610612764   \n",
      "3          0.0           0.0          0.0       0.0       0.0      1610612749   \n",
      "4          0.0           0.0          0.0       0.0       0.0      1610612741   \n",
      "\n",
      "   SEASON  \n",
      "0    2024  \n",
      "1    2024  \n",
      "2    2024  \n",
      "3    2024  \n",
      "4    2024  \n"
     ]
    }
   ],
   "source": [
    "# reformat today's matchups to the new games dataframe\n",
    "\n",
    "if matchups is None:\n",
    "    print(\"No games going on. Nothing to do.\")\n",
    "    exit()\n",
    "\n",
    "else:\n",
    "\n",
    "    df_today = df_new.drop(df_new.index)  # empty copy of df_new with same columns\n",
    "    for i, matchup in enumerate(matchups):\n",
    "        game_details = {\n",
    "            \"HOME_TEAM_ID\": matchup[1],\n",
    "            \"VISITOR_TEAM_ID\": matchup[0],\n",
    "            \"GAME_DATE_EST\": datetime.now(timezone(\"EST\")).strftime(\"%Y-%m-%d\"),\n",
    "            \"GAME_ID\": int(game_ids[i]),\n",
    "            \"SEASON\": SEASON,\n",
    "        }\n",
    "        game_details_df = pd.DataFrame(game_details, index=[i])\n",
    "        # append to new games dataframe\n",
    "        df_today = pd.concat([df_today, game_details_df], ignore_index=True)\n",
    "\n",
    "    # blank rows will be filled with 0 to prevent issues with feature engineering\n",
    "    df_today = df_today.fillna(0)\n",
    "\n",
    "    print(df_today)"
   ]
  },
  {
   "cell_type": "markdown",
   "id": "acfb1180-ea38-452c-9afd-73eea3ee7e17",
   "metadata": {},
   "source": [
    "**Access Feature Store**"
   ]
  },
  {
   "cell_type": "code",
   "execution_count": 9,
   "id": "ba69a88c-691e-4f8d-b68e-e79f5582a939",
   "metadata": {
    "execution": {
     "iopub.execute_input": "2025-03-22T12:19:41.698409Z",
     "iopub.status.busy": "2025-03-22T12:19:41.698235Z",
     "iopub.status.idle": "2025-03-22T12:19:42.749505Z",
     "shell.execute_reply": "2025-03-22T12:19:42.748888Z"
    }
   },
   "outputs": [
    {
     "name": "stdout",
     "output_type": "stream",
     "text": [
      "2025-03-22 12:19:41,700 INFO: Initializing external client\n"
     ]
    },
    {
     "name": "stdout",
     "output_type": "stream",
     "text": [
      "2025-03-22 12:19:41,700 INFO: Base URL: https://c.app.hopsworks.ai:443\n"
     ]
    },
    {
     "name": "stdout",
     "output_type": "stream",
     "text": [
      "2025-03-22 12:19:42,375 INFO: Python Engine initialized.\n"
     ]
    },
    {
     "name": "stdout",
     "output_type": "stream",
     "text": [
      "\n",
      "Logged in to project, explore it here https://c.app.hopsworks.ai:443/p/90261\n"
     ]
    }
   ],
   "source": [
    "if UPDATE_WF:\n",
    "\n",
    "    project = hopsworks.login(api_key_value=HOPSWORKS_API_KEY)\n",
    "\n",
    "    # HOPSWORKS can be kinda buggy and has been throwing a lot of errors recently or even just failing to return data\n",
    "    # so I'm adding a try/except block to retry the query if it fails\n",
    "    tries = 5\n",
    "\n",
    "    for i in range(tries):\n",
    "\n",
    "        try:\n",
    "            fs = project.get_feature_store()\n",
    "        except KeyError as e:\n",
    "            if i < tries - 1:  # i is zero indexed\n",
    "                time.sleep(30)\n",
    "                continue\n",
    "            else:\n",
    "                raise ValueError(\"HOPSWORKS failed to connect\")\n",
    "        break"
   ]
  },
  {
   "cell_type": "markdown",
   "id": "256829e7",
   "metadata": {},
   "source": [
    "**Access Feature Group**"
   ]
  },
  {
   "cell_type": "code",
   "execution_count": 10,
   "id": "641d97e5-0888-42c3-a9b1-97c9ef2b7082",
   "metadata": {
    "execution": {
     "iopub.execute_input": "2025-03-22T12:19:42.751381Z",
     "iopub.status.busy": "2025-03-22T12:19:42.751207Z",
     "iopub.status.idle": "2025-03-22T12:19:43.464751Z",
     "shell.execute_reply": "2025-03-22T12:19:43.464206Z"
    }
   },
   "outputs": [],
   "source": [
    "# HOPSWORKS can be kinda buggy and has been throwing a lot of errors recently or even just failing to return data\n",
    "# so I'm adding a try/except block to retry the query if it fails\n",
    "tries = 5\n",
    "\n",
    "if UPDATE_WF:\n",
    "    for i in range(tries):\n",
    "\n",
    "        try:\n",
    "            rolling_stats_fg = fs.get_feature_group(\n",
    "                name=\"rolling_stats\",\n",
    "                version=FEATURE_GROUP_VERSION,\n",
    "            )\n",
    "        except KeyError as e:\n",
    "            if i < tries - 1:  # i is zero indexed\n",
    "                time.sleep(30)\n",
    "                continue\n",
    "            else:\n",
    "                raise ValueError(\"HOPSWORKS failed to connect\")\n",
    "        break"
   ]
  },
  {
   "attachments": {},
   "cell_type": "markdown",
   "id": "0acc836a",
   "metadata": {},
   "source": [
    "**Query Old Data Needed for Feature Engineering of New Data**\n",
    "\n",
    "To generate features like rolling averages for the new games, older data from previous games is needed since some of the rolling averages might extend back 15 or 20 games or so."
   ]
  },
  {
   "cell_type": "code",
   "execution_count": 11,
   "id": "69a2b254",
   "metadata": {
    "execution": {
     "iopub.execute_input": "2025-03-22T12:19:43.466744Z",
     "iopub.status.busy": "2025-03-22T12:19:43.466571Z",
     "iopub.status.idle": "2025-03-22T12:19:45.839508Z",
     "shell.execute_reply": "2025-03-22T12:19:45.838999Z"
    }
   },
   "outputs": [
    {
     "name": "stdout",
     "output_type": "stream",
     "text": [
      "Reading data from Hopsworks, using Hopsworks Feature Query Service.   \r"
     ]
    },
    {
     "name": "stdout",
     "output_type": "stream",
     "text": [
      "Reading data from Hopsworks, using Hopsworks Feature Query Service..   \r"
     ]
    },
    {
     "name": "stdout",
     "output_type": "stream",
     "text": [
      "Reading data from Hopsworks, using Hopsworks Feature Query Service...   \r"
     ]
    },
    {
     "name": "stdout",
     "output_type": "stream",
     "text": [
      "\r",
      "Finished: Reading data from Hopsworks, using Hopsworks Feature Query Service (1.46s) \n"
     ]
    }
   ],
   "source": [
    "BASE_FEATURES = [\n",
    "    \"game_date_est\",\n",
    "    \"game_id\",\n",
    "    \"home_team_id\",\n",
    "    \"visitor_team_id\",\n",
    "    \"season\",\n",
    "    \"pts_home\",\n",
    "    \"fg_pct_home\",\n",
    "    \"ft_pct_home\",\n",
    "    \"fg3_pct_home\",\n",
    "    \"ast_home\",\n",
    "    \"reb_home\",\n",
    "    \"pts_away\",\n",
    "    \"fg_pct_away\",\n",
    "    \"ft_pct_away\",\n",
    "    \"fg3_pct_away\",\n",
    "    \"ast_away\",\n",
    "    \"reb_away\",\n",
    "    \"home_team_wins\",\n",
    "]\n",
    "\n",
    "if UPDATE_WF:\n",
    "    ds_query = rolling_stats_fg.select(BASE_FEATURES)\n",
    "\n",
    "    # HOPSWORKS can be kinda buggy and has been throwing a lot of errors recently or even just failing to return data\n",
    "    # so I'm adding a try/except block to retry the query if it fails\n",
    "    tries = 5\n",
    "\n",
    "    for i in range(tries):\n",
    "        for j in range(tries):\n",
    "            try:\n",
    "                df_old = ds_query.read()\n",
    "            except KeyError as e:\n",
    "                if j < tries - 1:\n",
    "                    time.sleep(10)\n",
    "                    continue\n",
    "                else:\n",
    "                    raise ValueError(\"HOPSWORKS failed to connect\")\n",
    "            break\n",
    "\n",
    "        if df_old.empty:\n",
    "            if i < tries - 1:\n",
    "                time.sleep(10)\n",
    "            else:\n",
    "                raise ValueError(\"HOPSWORKS failed to return data\")\n",
    "        else:\n",
    "            break"
   ]
  },
  {
   "attachments": {},
   "cell_type": "markdown",
   "id": "3185e1e1",
   "metadata": {},
   "source": [
    "**Convert Feature Names back to original mixed case**"
   ]
  },
  {
   "cell_type": "code",
   "execution_count": 12,
   "id": "11fc2684",
   "metadata": {
    "execution": {
     "iopub.execute_input": "2025-03-22T12:19:45.841523Z",
     "iopub.status.busy": "2025-03-22T12:19:45.841177Z",
     "iopub.status.idle": "2025-03-22T12:19:45.850626Z",
     "shell.execute_reply": "2025-03-22T12:19:45.850089Z"
    }
   },
   "outputs": [
    {
     "name": "stdout",
     "output_type": "stream",
     "text": [
      "                  GAME_DATE_EST   GAME_ID  HOME_TEAM_ID  VISITOR_TEAM_ID  \\\n",
      "0     2018-01-05 00:00:00+00:00  21700570    1610612738       1610612750   \n",
      "1     2006-12-11 00:00:00+00:00  20600301    1610612753       1610612756   \n",
      "2     2007-11-10 00:00:00+00:00  20700084    1610612758       1610612750   \n",
      "3     2005-01-11 00:00:00+00:00  20400504    1610612760       1610612746   \n",
      "4     2016-10-29 00:00:00+00:00  21600028    1610612752       1610612763   \n",
      "...                         ...       ...           ...              ...   \n",
      "26258 2025-01-23 00:00:00+00:00  22400983    1610612746       1610612764   \n",
      "26259 2015-04-10 00:00:00+00:00  21401175    1610612753       1610612761   \n",
      "26260 2005-01-15 00:00:00+00:00  20400537    1610612745       1610612759   \n",
      "26261 2012-03-07 00:00:00+00:00  21100575    1610612749       1610612741   \n",
      "26262 2009-01-23 00:00:00+00:00  20800635    1610612750       1610612740   \n",
      "\n",
      "       SEASON  PTS_home  FG_PCT_home  FT_PCT_home  FG3_PCT_home  AST_home  \\\n",
      "0        2017        91     0.404053     0.691895      0.166992        24   \n",
      "1        2006        89     0.451904     0.523926      0.166992        18   \n",
      "2        2007       100     0.405029     0.850098      0.399902        12   \n",
      "3        2004       104     0.437988     0.889160      0.500000        24   \n",
      "4        2016       111     0.525879     0.641113      0.285889        24   \n",
      "...       ...       ...          ...          ...           ...       ...   \n",
      "26258    2024       110    45.500000    94.375000     34.187500        29   \n",
      "26259    2014        99     0.460938     1.000000      0.350098        21   \n",
      "26260    2004        73     0.333008     0.730957      0.399902        15   \n",
      "26261    2011       104     0.477051     0.789062      0.333008        29   \n",
      "26262    2008       116     0.513184     0.765137      0.476074        26   \n",
      "\n",
      "       REB_home  PTS_away  FG_PCT_away  FT_PCT_away  FG3_PCT_away  AST_away  \\\n",
      "0            56        84     0.367920     0.750000      0.303955        15   \n",
      "1            42       103     0.514160     0.852051      0.250000        25   \n",
      "2            38        93     0.438965     0.750000      0.213989        15   \n",
      "3            40        99     0.438965     0.758789      0.333008        23   \n",
      "4            41       104     0.429932     0.808105      0.360107        19   \n",
      "...         ...       ...          ...          ...           ...       ...   \n",
      "26258        55        93    34.000000    85.687500     23.906250        24   \n",
      "26259        46       101     0.415039     0.933105      0.300049        22   \n",
      "26260        49        67     0.353027     0.629883      0.125000        10   \n",
      "26261        35       106     0.518066     0.881836      0.312988        26   \n",
      "26262        42       108     0.532227     0.846191      0.590820        23   \n",
      "\n",
      "       REB_away  HOME_TEAM_WINS  \n",
      "0            43               1  \n",
      "1            36               0  \n",
      "2            43               1  \n",
      "3            47               1  \n",
      "4            40               1  \n",
      "...         ...             ...  \n",
      "26258        49               1  \n",
      "26259        46               0  \n",
      "26260        39               1  \n",
      "26261        43               0  \n",
      "26262        26               1  \n",
      "\n",
      "[26263 rows x 18 columns]\n"
     ]
    }
   ],
   "source": [
    "# hopsworks converts all feature names to lowercase, and for code reuse, we need to convert them back\n",
    "if UPDATE_WF:\n",
    "    df_old = convert_feature_names(df_old)\n",
    "    df_old\n",
    "    df_old[df_old[\"PTS_home\"] == 0]\n",
    "    print(df_old)"
   ]
  },
  {
   "attachments": {},
   "cell_type": "markdown",
   "id": "9453ea9a",
   "metadata": {},
   "source": [
    "**Update Yesterday's Matchup Predictions with New Final Results**"
   ]
  },
  {
   "cell_type": "code",
   "execution_count": 13,
   "id": "f5be2f9c",
   "metadata": {
    "execution": {
     "iopub.execute_input": "2025-03-22T12:19:45.852615Z",
     "iopub.status.busy": "2025-03-22T12:19:45.852281Z",
     "iopub.status.idle": "2025-03-22T12:19:45.877683Z",
     "shell.execute_reply": "2025-03-22T12:19:45.877130Z"
    }
   },
   "outputs": [
    {
     "name": "stdout",
     "output_type": "stream",
     "text": [
      "                   GAME_DATE_EST   GAME_ID  HOME_TEAM_ID  VISITOR_TEAM_ID  \\\n",
      "0      2018-01-05 00:00:00+00:00  21700570    1610612738       1610612750   \n",
      "1      2006-12-11 00:00:00+00:00  20600301    1610612753       1610612756   \n",
      "2      2007-11-10 00:00:00+00:00  20700084    1610612758       1610612750   \n",
      "3      2005-01-11 00:00:00+00:00  20400504    1610612760       1610612746   \n",
      "4      2016-10-29 00:00:00+00:00  21600028    1610612752       1610612763   \n",
      "...                          ...       ...           ...              ...   \n",
      "26278        2025-03-19 00:00:00  22401003    1610612759       1610612752   \n",
      "26279        2025-03-19 00:00:00  22401001    1610612750       1610612740   \n",
      "26280        2025-03-19 00:00:00  22401002    1610612760       1610612755   \n",
      "26281        2025-03-19 00:00:00  22401000    1610612748       1610612765   \n",
      "26282        2025-03-19 00:00:00  22400998    1610612754       1610612742   \n",
      "\n",
      "       SEASON  PTS_home  FG_PCT_home  FT_PCT_home  FG3_PCT_home  AST_home  \\\n",
      "0        2017        91     0.404053     0.691895      0.166992        24   \n",
      "1        2006        89     0.451904     0.523926      0.166992        18   \n",
      "2        2007       100     0.405029     0.850098      0.399902        12   \n",
      "3        2004       104     0.437988     0.889160      0.500000        24   \n",
      "4        2016       111     0.525879     0.641113      0.285889        24   \n",
      "...       ...       ...          ...          ...           ...       ...   \n",
      "26278    2024       120    50.000000    70.000000     45.700000        28   \n",
      "26279    2024       115    45.500000    80.600000     41.000000        21   \n",
      "26280    2024       133    52.200000    75.000000     46.200000        36   \n",
      "26281    2024       113    48.900000    83.300000     31.300000        24   \n",
      "26282    2024       135    54.900000    78.400000     45.700000        29   \n",
      "\n",
      "       REB_home  PTS_away  FG_PCT_away  FT_PCT_away  FG3_PCT_away  AST_away  \\\n",
      "0            56        84     0.367920     0.750000      0.303955        15   \n",
      "1            42       103     0.514160     0.852051      0.250000        25   \n",
      "2            38        93     0.438965     0.750000      0.213989        15   \n",
      "3            40        99     0.438965     0.758789      0.333008        23   \n",
      "4            41       104     0.429932     0.808105      0.360107        19   \n",
      "...         ...       ...          ...          ...           ...       ...   \n",
      "26278        52       105    42.400000    76.200000     29.700000        28   \n",
      "26279        40       119    52.800000    54.500000     44.800000        28   \n",
      "26280        55       100    36.800000    75.000000     31.600000        24   \n",
      "26281        37       116    50.500000    83.300000     39.100000        25   \n",
      "26282        38       131    54.500000    75.000000     40.700000        23   \n",
      "\n",
      "       REB_away  HOME_TEAM_WINS  \n",
      "0            43               1  \n",
      "1            36               0  \n",
      "2            43               1  \n",
      "3            47               1  \n",
      "4            40               1  \n",
      "...         ...             ...  \n",
      "26278        44               1  \n",
      "26279        46               0  \n",
      "26280        41               1  \n",
      "26281        47               0  \n",
      "26282        41               1  \n",
      "\n",
      "[26283 rows x 18 columns]\n"
     ]
    }
   ],
   "source": [
    "# filter out games that are pending final results\n",
    "# (these were the rows used for prediction yesterday)\n",
    "# and then update these with the new results\n",
    "\n",
    "\n",
    "# one approach is to simply drop the rows that were used for prediction yesterday\n",
    "# which are games that have 0 points for home team\n",
    "# and then append the new rows to the dataframe\n",
    "if UPDATE_WF:\n",
    "\n",
    "    df_old = df_old[df_old[\"PTS_home\"] != 0]\n",
    "    df_old = pd.concat([df_old, df_new], ignore_index=True)\n",
    "    print(df_old)"
   ]
  },
  {
   "attachments": {},
   "cell_type": "markdown",
   "id": "f169f4ce",
   "metadata": {},
   "source": [
    "**Add Today's Matchups for Feature Engineering**"
   ]
  },
  {
   "cell_type": "code",
   "execution_count": 14,
   "id": "a82bf4a8",
   "metadata": {
    "execution": {
     "iopub.execute_input": "2025-03-22T12:19:45.879598Z",
     "iopub.status.busy": "2025-03-22T12:19:45.879273Z",
     "iopub.status.idle": "2025-03-22T12:19:45.892698Z",
     "shell.execute_reply": "2025-03-22T12:19:45.892245Z"
    }
   },
   "outputs": [
    {
     "name": "stdout",
     "output_type": "stream",
     "text": [
      "                   GAME_DATE_EST   GAME_ID HOME_TEAM_ID VISITOR_TEAM_ID  \\\n",
      "0      2018-01-05 00:00:00+00:00  21700570   1610612738      1610612750   \n",
      "1      2006-12-11 00:00:00+00:00  20600301   1610612753      1610612756   \n",
      "2      2007-11-10 00:00:00+00:00  20700084   1610612758      1610612750   \n",
      "3      2005-01-11 00:00:00+00:00  20400504   1610612760      1610612746   \n",
      "4      2016-10-29 00:00:00+00:00  21600028   1610612752      1610612763   \n",
      "...                          ...       ...          ...             ...   \n",
      "26283                 2025-03-22  22401024   1610612754      1610612751   \n",
      "26284                 2025-03-22  22401025   1610612737      1610612744   \n",
      "26285                 2025-03-22  22401026   1610612752      1610612764   \n",
      "26286                 2025-03-22  22401027   1610612758      1610612749   \n",
      "26287                 2025-03-22  22401028   1610612747      1610612741   \n",
      "\n",
      "       SEASON  PTS_home  FG_PCT_home  FT_PCT_home  FG3_PCT_home  AST_home  \\\n",
      "0        2017      91.0     0.404053     0.691895      0.166992      24.0   \n",
      "1        2006      89.0     0.451904     0.523926      0.166992      18.0   \n",
      "2        2007     100.0     0.405029     0.850098      0.399902      12.0   \n",
      "3        2004     104.0     0.437988     0.889160      0.500000      24.0   \n",
      "4        2016     111.0     0.525879     0.641113      0.285889      24.0   \n",
      "...       ...       ...          ...          ...           ...       ...   \n",
      "26283    2024       0.0     0.000000     0.000000      0.000000       0.0   \n",
      "26284    2024       0.0     0.000000     0.000000      0.000000       0.0   \n",
      "26285    2024       0.0     0.000000     0.000000      0.000000       0.0   \n",
      "26286    2024       0.0     0.000000     0.000000      0.000000       0.0   \n",
      "26287    2024       0.0     0.000000     0.000000      0.000000       0.0   \n",
      "\n",
      "       REB_home  PTS_away  FG_PCT_away  FT_PCT_away  FG3_PCT_away  AST_away  \\\n",
      "0          56.0      84.0     0.367920     0.750000      0.303955      15.0   \n",
      "1          42.0     103.0     0.514160     0.852051      0.250000      25.0   \n",
      "2          38.0      93.0     0.438965     0.750000      0.213989      15.0   \n",
      "3          40.0      99.0     0.438965     0.758789      0.333008      23.0   \n",
      "4          41.0     104.0     0.429932     0.808105      0.360107      19.0   \n",
      "...         ...       ...          ...          ...           ...       ...   \n",
      "26283       0.0       0.0     0.000000     0.000000      0.000000       0.0   \n",
      "26284       0.0       0.0     0.000000     0.000000      0.000000       0.0   \n",
      "26285       0.0       0.0     0.000000     0.000000      0.000000       0.0   \n",
      "26286       0.0       0.0     0.000000     0.000000      0.000000       0.0   \n",
      "26287       0.0       0.0     0.000000     0.000000      0.000000       0.0   \n",
      "\n",
      "       REB_away  HOME_TEAM_WINS  \n",
      "0          43.0             1.0  \n",
      "1          36.0             0.0  \n",
      "2          43.0             1.0  \n",
      "3          47.0             1.0  \n",
      "4          40.0             1.0  \n",
      "...         ...             ...  \n",
      "26283       0.0             0.0  \n",
      "26284       0.0             0.0  \n",
      "26285       0.0             0.0  \n",
      "26286       0.0             0.0  \n",
      "26287       0.0             0.0  \n",
      "\n",
      "[26288 rows x 18 columns]\n"
     ]
    }
   ],
   "source": [
    "if UPDATE_WF:\n",
    "\n",
    "    if matchups is None:\n",
    "        print(\"No games today\")\n",
    "        df_combined = df_old\n",
    "    else:\n",
    "        df_combined = pd.concat([df_old, df_today], ignore_index=True)\n",
    "        print(df_combined)"
   ]
  },
  {
   "cell_type": "markdown",
   "id": "835625fc-be47-4a8f-a532-02dc8e79363e",
   "metadata": {},
   "source": [
    "**Data Processing**"
   ]
  },
  {
   "cell_type": "code",
   "execution_count": 15,
   "id": "8577f0e2-39f7-4cef-9f8f-e687cb73f1bb",
   "metadata": {
    "execution": {
     "iopub.execute_input": "2025-03-22T12:19:45.894636Z",
     "iopub.status.busy": "2025-03-22T12:19:45.894305Z",
     "iopub.status.idle": "2025-03-22T12:19:45.910691Z",
     "shell.execute_reply": "2025-03-22T12:19:45.910236Z"
    }
   },
   "outputs": [
    {
     "name": "stdout",
     "output_type": "stream",
     "text": [
      "                   GAME_DATE_EST   GAME_ID HOME_TEAM_ID VISITOR_TEAM_ID  \\\n",
      "0      2018-01-05 00:00:00+00:00  21700570   1610612738      1610612750   \n",
      "1      2006-12-11 00:00:00+00:00  20600301   1610612753      1610612756   \n",
      "2      2007-11-10 00:00:00+00:00  20700084   1610612758      1610612750   \n",
      "3      2005-01-11 00:00:00+00:00  20400504   1610612760      1610612746   \n",
      "4      2016-10-29 00:00:00+00:00  21600028   1610612752      1610612763   \n",
      "...                          ...       ...          ...             ...   \n",
      "26283                 2025-03-22  22401024   1610612754      1610612751   \n",
      "26284                 2025-03-22  22401025   1610612737      1610612744   \n",
      "26285                 2025-03-22  22401026   1610612752      1610612764   \n",
      "26286                 2025-03-22  22401027   1610612758      1610612749   \n",
      "26287                 2025-03-22  22401028   1610612747      1610612741   \n",
      "\n",
      "       SEASON  PTS_home  FG_PCT_home  FT_PCT_home  FG3_PCT_home  AST_home  \\\n",
      "0        2017      91.0     0.404053     0.691895      0.166992      24.0   \n",
      "1        2006      89.0     0.451904     0.523926      0.166992      18.0   \n",
      "2        2007     100.0     0.405029     0.850098      0.399902      12.0   \n",
      "3        2004     104.0     0.437988     0.889160      0.500000      24.0   \n",
      "4        2016     111.0     0.525879     0.641113      0.285889      24.0   \n",
      "...       ...       ...          ...          ...           ...       ...   \n",
      "26283    2024       0.0     0.000000     0.000000      0.000000       0.0   \n",
      "26284    2024       0.0     0.000000     0.000000      0.000000       0.0   \n",
      "26285    2024       0.0     0.000000     0.000000      0.000000       0.0   \n",
      "26286    2024       0.0     0.000000     0.000000      0.000000       0.0   \n",
      "26287    2024       0.0     0.000000     0.000000      0.000000       0.0   \n",
      "\n",
      "       REB_home  PTS_away  FG_PCT_away  FT_PCT_away  FG3_PCT_away  AST_away  \\\n",
      "0          56.0      84.0     0.367920     0.750000      0.303955      15.0   \n",
      "1          42.0     103.0     0.514160     0.852051      0.250000      25.0   \n",
      "2          38.0      93.0     0.438965     0.750000      0.213989      15.0   \n",
      "3          40.0      99.0     0.438965     0.758789      0.333008      23.0   \n",
      "4          41.0     104.0     0.429932     0.808105      0.360107      19.0   \n",
      "...         ...       ...          ...          ...           ...       ...   \n",
      "26283       0.0       0.0     0.000000     0.000000      0.000000       0.0   \n",
      "26284       0.0       0.0     0.000000     0.000000      0.000000       0.0   \n",
      "26285       0.0       0.0     0.000000     0.000000      0.000000       0.0   \n",
      "26286       0.0       0.0     0.000000     0.000000      0.000000       0.0   \n",
      "26287       0.0       0.0     0.000000     0.000000      0.000000       0.0   \n",
      "\n",
      "       REB_away  HOME_TEAM_WINS  PLAYOFF  TARGET  \n",
      "0          43.0             1.0        0     1.0  \n",
      "1          36.0             0.0        0     0.0  \n",
      "2          43.0             1.0        0     1.0  \n",
      "3          47.0             1.0        0     1.0  \n",
      "4          40.0             1.0        0     1.0  \n",
      "...         ...             ...      ...     ...  \n",
      "26283       0.0             0.0        0     0.0  \n",
      "26284       0.0             0.0        0     0.0  \n",
      "26285       0.0             0.0        0     0.0  \n",
      "26286       0.0             0.0        0     0.0  \n",
      "26287       0.0             0.0        0     0.0  \n",
      "\n",
      "[26278 rows x 20 columns]\n"
     ]
    }
   ],
   "source": [
    "if UPDATE_WF:\n",
    "    df_combined = process_games(df_combined)\n",
    "    df_combined = add_TARGET(df_combined)\n",
    "    print(df_combined)"
   ]
  },
  {
   "cell_type": "markdown",
   "id": "cccb588e",
   "metadata": {},
   "source": [
    "**Feature Engineering**"
   ]
  },
  {
   "cell_type": "code",
   "execution_count": 16,
   "id": "19484061",
   "metadata": {
    "execution": {
     "iopub.execute_input": "2025-03-22T12:19:45.912510Z",
     "iopub.status.busy": "2025-03-22T12:19:45.912171Z",
     "iopub.status.idle": "2025-03-22T12:19:51.960385Z",
     "shell.execute_reply": "2025-03-22T12:19:51.959845Z"
    }
   },
   "outputs": [
    {
     "name": "stderr",
     "output_type": "stream",
     "text": [
      "SettingWithCopyWarning: \n",
      "A value is trying to be set on a copy of a slice from a DataFrame\n",
      "\n",
      "See the caveats in the documentation: https://pandas.pydata.org/pandas-docs/stable/user_guide/indexing.html#returning-a-view-versus-a-copy\n"
     ]
    },
    {
     "name": "stdout",
     "output_type": "stream",
     "text": [
      "['HOME_PTS_home_AVG_LAST_3_HOME', 'HOME_PTS_home_AVG_LAST_7_HOME', 'HOME_PTS_home_AVG_LAST_10_HOME', 'HOME_FG_PCT_home_AVG_LAST_3_HOME', 'HOME_FG_PCT_home_AVG_LAST_7_HOME', 'HOME_FG_PCT_home_AVG_LAST_10_HOME', 'HOME_FT_PCT_home_AVG_LAST_3_HOME', 'HOME_FT_PCT_home_AVG_LAST_7_HOME', 'HOME_FT_PCT_home_AVG_LAST_10_HOME', 'HOME_FG3_PCT_home_AVG_LAST_3_HOME', 'HOME_FG3_PCT_home_AVG_LAST_7_HOME', 'HOME_FG3_PCT_home_AVG_LAST_10_HOME', 'HOME_AST_home_AVG_LAST_3_HOME', 'HOME_AST_home_AVG_LAST_7_HOME', 'HOME_AST_home_AVG_LAST_10_HOME', 'HOME_REB_home_AVG_LAST_3_HOME', 'HOME_REB_home_AVG_LAST_7_HOME', 'HOME_REB_home_AVG_LAST_10_HOME', 'HOME_TEAM_ID', 'GAME_DATE_EST']\n"
     ]
    },
    {
     "name": "stderr",
     "output_type": "stream",
     "text": [
      "SettingWithCopyWarning: \n",
      "A value is trying to be set on a copy of a slice from a DataFrame\n",
      "\n",
      "See the caveats in the documentation: https://pandas.pydata.org/pandas-docs/stable/user_guide/indexing.html#returning-a-view-versus-a-copy\n"
     ]
    },
    {
     "name": "stdout",
     "output_type": "stream",
     "text": [
      "['VISITOR_TEAM_WINS_AVG_LAST_3_VISITOR', 'VISITOR_TEAM_WINS_AVG_LAST_7_VISITOR', 'VISITOR_TEAM_WINS_AVG_LAST_10_VISITOR', 'VISITOR_PTS_away_AVG_LAST_3_VISITOR', 'VISITOR_PTS_away_AVG_LAST_7_VISITOR', 'VISITOR_PTS_away_AVG_LAST_10_VISITOR', 'VISITOR_FG_PCT_away_AVG_LAST_3_VISITOR', 'VISITOR_FG_PCT_away_AVG_LAST_7_VISITOR', 'VISITOR_FG_PCT_away_AVG_LAST_10_VISITOR', 'VISITOR_FT_PCT_away_AVG_LAST_3_VISITOR', 'VISITOR_FT_PCT_away_AVG_LAST_7_VISITOR', 'VISITOR_FT_PCT_away_AVG_LAST_10_VISITOR', 'VISITOR_FG3_PCT_away_AVG_LAST_3_VISITOR', 'VISITOR_FG3_PCT_away_AVG_LAST_7_VISITOR', 'VISITOR_FG3_PCT_away_AVG_LAST_10_VISITOR', 'VISITOR_AST_away_AVG_LAST_3_VISITOR', 'VISITOR_AST_away_AVG_LAST_7_VISITOR', 'VISITOR_AST_away_AVG_LAST_10_VISITOR', 'VISITOR_REB_away_AVG_LAST_3_VISITOR', 'VISITOR_REB_away_AVG_LAST_7_VISITOR', 'VISITOR_REB_away_AVG_LAST_10_VISITOR', 'VISITOR_TEAM_ID', 'GAME_DATE_EST']\n"
     ]
    },
    {
     "name": "stderr",
     "output_type": "stream",
     "text": [
      "SettingWithCopyWarning: \n",
      "A value is trying to be set on a copy of a slice from a DataFrame\n",
      "\n",
      "See the caveats in the documentation: https://pandas.pydata.org/pandas-docs/stable/user_guide/indexing.html#returning-a-view-versus-a-copy\n",
      "SettingWithCopyWarning: \n",
      "A value is trying to be set on a copy of a slice from a DataFrame\n",
      "\n",
      "See the caveats in the documentation: https://pandas.pydata.org/pandas-docs/stable/user_guide/indexing.html#returning-a-view-versus-a-copy\n",
      "SettingWithCopyWarning: \n",
      "A value is trying to be set on a copy of a slice from a DataFrame\n",
      "\n",
      "See the caveats in the documentation: https://pandas.pydata.org/pandas-docs/stable/user_guide/indexing.html#returning-a-view-versus-a-copy\n"
     ]
    },
    {
     "name": "stdout",
     "output_type": "stream",
     "text": [
      "['PTS_AVG_LAST_3_ALL', 'PTS_AVG_LAST_7_ALL', 'PTS_AVG_LAST_10_ALL', 'PTS_AVG_LAST_15_ALL', 'FG_PCT_AVG_LAST_3_ALL', 'FG_PCT_AVG_LAST_7_ALL', 'FG_PCT_AVG_LAST_10_ALL', 'FG_PCT_AVG_LAST_15_ALL', 'FT_PCT_AVG_LAST_3_ALL', 'FT_PCT_AVG_LAST_7_ALL', 'FT_PCT_AVG_LAST_10_ALL', 'FT_PCT_AVG_LAST_15_ALL', 'FG3_PCT_AVG_LAST_3_ALL', 'FG3_PCT_AVG_LAST_7_ALL', 'FG3_PCT_AVG_LAST_10_ALL', 'FG3_PCT_AVG_LAST_15_ALL', 'AST_AVG_LAST_3_ALL', 'AST_AVG_LAST_7_ALL', 'AST_AVG_LAST_10_ALL', 'AST_AVG_LAST_15_ALL', 'REB_AVG_LAST_3_ALL', 'REB_AVG_LAST_7_ALL', 'REB_AVG_LAST_10_ALL', 'REB_AVG_LAST_15_ALL', 'TEAM1', 'GAME_DATE_EST']\n"
     ]
    },
    {
     "name": "stdout",
     "output_type": "stream",
     "text": [
      "      GAME_DATE_EST   GAME_ID  HOME_TEAM_ID  VISITOR_TEAM_ID  SEASON  \\\n",
      "0        2003-10-28  20300003    1610612747       1610612742    2003   \n",
      "1        2003-10-28  20300001    1610612755       1610612748    2003   \n",
      "2        2003-10-28  20300002    1610612759       1610612756    2003   \n",
      "3        2003-10-29  20300006    1610612740       1610612737    2003   \n",
      "4        2003-10-29  20300010    1610612741       1610612764    2003   \n",
      "...             ...       ...           ...              ...     ...   \n",
      "26273    2025-03-22  22401025    1610612737       1610612744    2024   \n",
      "26274    2025-03-22  22401028    1610612747       1610612741    2024   \n",
      "26275    2025-03-22  22401026    1610612752       1610612764    2024   \n",
      "26276    2025-03-22  22401024    1610612754       1610612751    2024   \n",
      "26277    2025-03-22  22401027    1610612758       1610612749    2024   \n",
      "\n",
      "       PTS_home  FG_PCT_home  FT_PCT_home  FG3_PCT_home  AST_home  ...  \\\n",
      "0           109     0.505859     0.600098      0.350098        32  ...   \n",
      "1            89     0.439941     0.533203      0.350098        25  ...   \n",
      "2            83     0.425049     0.769043      0.099976        20  ...   \n",
      "3            88     0.323975     0.700195      0.160034        24  ...   \n",
      "4            74     0.316895     0.612793      0.230957        16  ...   \n",
      "...         ...          ...          ...           ...       ...  ...   \n",
      "26273         0     0.000000     0.000000      0.000000         0  ...   \n",
      "26274         0     0.000000     0.000000      0.000000         0  ...   \n",
      "26275         0     0.000000     0.000000      0.000000         0  ...   \n",
      "26276         0     0.000000     0.000000      0.000000         0  ...   \n",
      "26277         0     0.000000     0.000000      0.000000         0  ...   \n",
      "\n",
      "       FG3_PCT_AVG_LAST_10_ALL_x_minus_y  FG3_PCT_AVG_LAST_15_ALL_x_minus_y  \\\n",
      "0                                    NaN                                NaN   \n",
      "1                                    NaN                                NaN   \n",
      "2                                    NaN                                NaN   \n",
      "3                                    NaN                                NaN   \n",
      "4                                    NaN                                NaN   \n",
      "...                                  ...                                ...   \n",
      "26273                          -0.526562                          -0.675000   \n",
      "26274                           4.389063                           1.541667   \n",
      "26275                          -0.889063                           0.053125   \n",
      "26276                          -1.481250                           3.167188   \n",
      "26277                           0.889063                           2.330208   \n",
      "\n",
      "       AST_AVG_LAST_3_ALL_x_minus_y  AST_AVG_LAST_7_ALL_x_minus_y  \\\n",
      "0                               NaN                           NaN   \n",
      "1                               NaN                           NaN   \n",
      "2                               NaN                           NaN   \n",
      "3                               NaN                           NaN   \n",
      "4                               NaN                           NaN   \n",
      "...                             ...                           ...   \n",
      "26273                      0.000000                     -0.857143   \n",
      "26274                     -1.666667                     -1.000000   \n",
      "26275                      1.333333                      0.142857   \n",
      "26276                      0.333333                      0.285714   \n",
      "26277                      8.666667                      2.000000   \n",
      "\n",
      "       AST_AVG_LAST_10_ALL_x_minus_y  AST_AVG_LAST_15_ALL_x_minus_y  \\\n",
      "0                                NaN                            NaN   \n",
      "1                                NaN                            NaN   \n",
      "2                                NaN                            NaN   \n",
      "3                                NaN                            NaN   \n",
      "4                                NaN                            NaN   \n",
      "...                              ...                            ...   \n",
      "26273                           -0.5                      -1.533333   \n",
      "26274                           -1.3                      -3.533333   \n",
      "26275                           -0.9                      -1.000000   \n",
      "26276                            1.3                       3.200000   \n",
      "26277                            2.8                       3.000000   \n",
      "\n",
      "       REB_AVG_LAST_3_ALL_x_minus_y  REB_AVG_LAST_7_ALL_x_minus_y  \\\n",
      "0                               NaN                           NaN   \n",
      "1                               NaN                           NaN   \n",
      "2                               NaN                           NaN   \n",
      "3                               NaN                           NaN   \n",
      "4                               NaN                           NaN   \n",
      "...                             ...                           ...   \n",
      "26273                      0.000000                      1.142857   \n",
      "26274                      0.333333                     -3.000000   \n",
      "26275                     -1.333333                     -2.285714   \n",
      "26276                      5.666667                     -1.285714   \n",
      "26277                      2.000000                     -3.714286   \n",
      "\n",
      "       REB_AVG_LAST_10_ALL_x_minus_y  REB_AVG_LAST_15_ALL_x_minus_y  \n",
      "0                                NaN                            NaN  \n",
      "1                                NaN                            NaN  \n",
      "2                                NaN                            NaN  \n",
      "3                                NaN                            NaN  \n",
      "4                                NaN                            NaN  \n",
      "...                              ...                            ...  \n",
      "26273                           -1.0                      -1.066667  \n",
      "26274                           -1.6                      -1.066667  \n",
      "26275                           -2.0                      -1.333333  \n",
      "26276                            0.0                      -1.466667  \n",
      "26277                           -3.7                      -1.266667  \n",
      "\n",
      "[26278 rows x 245 columns]\n"
     ]
    }
   ],
   "source": [
    "# Feature engineering to add:\n",
    "# rolling averages of key stats,\n",
    "# win/lose streaks,\n",
    "# home/away streaks,\n",
    "# specific matchup (team X vs team Y) rolling averages and streaks\n",
    "if UPDATE_WF:\n",
    "    df_combined = process_features(df_combined)\n",
    "\n",
    "    # fix type conversion issues with hopsworks\n",
    "    df_combined[\"TARGET\"] = df_combined[\"TARGET\"].astype(\"int16\")\n",
    "    df_combined[\"HOME_TEAM_WINS\"] = df_combined[\"HOME_TEAM_WINS\"].astype(\"int16\")\n",
    "    print(df_combined)"
   ]
  },
  {
   "attachments": {},
   "cell_type": "markdown",
   "id": "67eea1e5",
   "metadata": {},
   "source": [
    "**Insert New Data into Feature Group**"
   ]
  },
  {
   "cell_type": "code",
   "execution_count": 17,
   "id": "a76fc400",
   "metadata": {
    "execution": {
     "iopub.execute_input": "2025-03-22T12:19:51.962396Z",
     "iopub.status.busy": "2025-03-22T12:19:51.962040Z",
     "iopub.status.idle": "2025-03-22T12:20:18.135698Z",
     "shell.execute_reply": "2025-03-22T12:20:18.135070Z"
    }
   },
   "outputs": [
    {
     "name": "stderr",
     "output_type": "stream",
     "text": [
      "JobWarning: All jobs associated to feature group `rolling_stats`, version `2` will be removed.\n"
     ]
    },
    {
     "name": "stderr",
     "output_type": "stream",
     "text": [
      "FeatureGroupWarning: The ingested dataframe contains upper case letters in feature names: `['GAME_DATE_EST', 'GAME_ID', 'HOME_TEAM_ID', 'VISITOR_TEAM_ID', 'SEASON', 'PTS_home', 'FG_PCT_home', 'FT_PCT_home', 'FG3_PCT_home', 'AST_home', 'REB_home', 'PTS_away', 'FG_PCT_away', 'FT_PCT_away', 'FG3_PCT_away', 'AST_away', 'REB_away', 'HOME_TEAM_WINS', 'TARGET', 'MONTH', 'HOME_TEAM_WIN_STREAK', 'HOME_TEAM_WINS_AVG_LAST_3_HOME', 'HOME_TEAM_WINS_AVG_LAST_7_HOME', 'HOME_TEAM_WINS_AVG_LAST_10_HOME', 'HOME_PTS_home_AVG_LAST_3_HOME', 'HOME_PTS_home_AVG_LAST_7_HOME', 'HOME_PTS_home_AVG_LAST_10_HOME', 'HOME_FG_PCT_home_AVG_LAST_3_HOME', 'HOME_FG_PCT_home_AVG_LAST_7_HOME', 'HOME_FG_PCT_home_AVG_LAST_10_HOME', 'HOME_FT_PCT_home_AVG_LAST_3_HOME', 'HOME_FT_PCT_home_AVG_LAST_7_HOME', 'HOME_FT_PCT_home_AVG_LAST_10_HOME', 'HOME_FG3_PCT_home_AVG_LAST_3_HOME', 'HOME_FG3_PCT_home_AVG_LAST_7_HOME', 'HOME_FG3_PCT_home_AVG_LAST_10_HOME', 'HOME_AST_home_AVG_LAST_3_HOME', 'HOME_AST_home_AVG_LAST_7_HOME', 'HOME_AST_home_AVG_LAST_10_HOME', 'HOME_REB_home_AVG_LAST_3_HOME', 'HOME_REB_home_AVG_LAST_7_HOME', 'HOME_REB_home_AVG_LAST_10_HOME', 'HOME_PTS_home_AVG_LAST_3_HOME_MINUS_LEAGUE_AVG', 'HOME_PTS_home_AVG_LAST_7_HOME_MINUS_LEAGUE_AVG', 'HOME_PTS_home_AVG_LAST_10_HOME_MINUS_LEAGUE_AVG', 'HOME_FG_PCT_home_AVG_LAST_3_HOME_MINUS_LEAGUE_AVG', 'HOME_FG_PCT_home_AVG_LAST_7_HOME_MINUS_LEAGUE_AVG', 'HOME_FG_PCT_home_AVG_LAST_10_HOME_MINUS_LEAGUE_AVG', 'HOME_FT_PCT_home_AVG_LAST_3_HOME_MINUS_LEAGUE_AVG', 'HOME_FT_PCT_home_AVG_LAST_7_HOME_MINUS_LEAGUE_AVG', 'HOME_FT_PCT_home_AVG_LAST_10_HOME_MINUS_LEAGUE_AVG', 'HOME_FG3_PCT_home_AVG_LAST_3_HOME_MINUS_LEAGUE_AVG', 'HOME_FG3_PCT_home_AVG_LAST_7_HOME_MINUS_LEAGUE_AVG', 'HOME_FG3_PCT_home_AVG_LAST_10_HOME_MINUS_LEAGUE_AVG', 'HOME_AST_home_AVG_LAST_3_HOME_MINUS_LEAGUE_AVG', 'HOME_AST_home_AVG_LAST_7_HOME_MINUS_LEAGUE_AVG', 'HOME_AST_home_AVG_LAST_10_HOME_MINUS_LEAGUE_AVG', 'HOME_REB_home_AVG_LAST_3_HOME_MINUS_LEAGUE_AVG', 'HOME_REB_home_AVG_LAST_7_HOME_MINUS_LEAGUE_AVG', 'HOME_REB_home_AVG_LAST_10_HOME_MINUS_LEAGUE_AVG', 'VISITOR_TEAM_WIN_STREAK', 'VISITOR_TEAM_WINS_AVG_LAST_3_VISITOR', 'VISITOR_TEAM_WINS_AVG_LAST_7_VISITOR', 'VISITOR_TEAM_WINS_AVG_LAST_10_VISITOR', 'VISITOR_PTS_away_AVG_LAST_3_VISITOR', 'VISITOR_PTS_away_AVG_LAST_7_VISITOR', 'VISITOR_PTS_away_AVG_LAST_10_VISITOR', 'VISITOR_FG_PCT_away_AVG_LAST_3_VISITOR', 'VISITOR_FG_PCT_away_AVG_LAST_7_VISITOR', 'VISITOR_FG_PCT_away_AVG_LAST_10_VISITOR', 'VISITOR_FT_PCT_away_AVG_LAST_3_VISITOR', 'VISITOR_FT_PCT_away_AVG_LAST_7_VISITOR', 'VISITOR_FT_PCT_away_AVG_LAST_10_VISITOR', 'VISITOR_FG3_PCT_away_AVG_LAST_3_VISITOR', 'VISITOR_FG3_PCT_away_AVG_LAST_7_VISITOR', 'VISITOR_FG3_PCT_away_AVG_LAST_10_VISITOR', 'VISITOR_AST_away_AVG_LAST_3_VISITOR', 'VISITOR_AST_away_AVG_LAST_7_VISITOR', 'VISITOR_AST_away_AVG_LAST_10_VISITOR', 'VISITOR_REB_away_AVG_LAST_3_VISITOR', 'VISITOR_REB_away_AVG_LAST_7_VISITOR', 'VISITOR_REB_away_AVG_LAST_10_VISITOR', 'VISITOR_TEAM_WINS_AVG_LAST_3_VISITOR_MINUS_LEAGUE_AVG', 'VISITOR_TEAM_WINS_AVG_LAST_7_VISITOR_MINUS_LEAGUE_AVG', 'VISITOR_TEAM_WINS_AVG_LAST_10_VISITOR_MINUS_LEAGUE_AVG', 'VISITOR_PTS_away_AVG_LAST_3_VISITOR_MINUS_LEAGUE_AVG', 'VISITOR_PTS_away_AVG_LAST_7_VISITOR_MINUS_LEAGUE_AVG', 'VISITOR_PTS_away_AVG_LAST_10_VISITOR_MINUS_LEAGUE_AVG', 'VISITOR_FG_PCT_away_AVG_LAST_3_VISITOR_MINUS_LEAGUE_AVG', 'VISITOR_FG_PCT_away_AVG_LAST_7_VISITOR_MINUS_LEAGUE_AVG', 'VISITOR_FG_PCT_away_AVG_LAST_10_VISITOR_MINUS_LEAGUE_AVG', 'VISITOR_FT_PCT_away_AVG_LAST_3_VISITOR_MINUS_LEAGUE_AVG', 'VISITOR_FT_PCT_away_AVG_LAST_7_VISITOR_MINUS_LEAGUE_AVG', 'VISITOR_FT_PCT_away_AVG_LAST_10_VISITOR_MINUS_LEAGUE_AVG', 'VISITOR_FG3_PCT_away_AVG_LAST_3_VISITOR_MINUS_LEAGUE_AVG', 'VISITOR_FG3_PCT_away_AVG_LAST_7_VISITOR_MINUS_LEAGUE_AVG', 'VISITOR_FG3_PCT_away_AVG_LAST_10_VISITOR_MINUS_LEAGUE_AVG', 'VISITOR_AST_away_AVG_LAST_3_VISITOR_MINUS_LEAGUE_AVG', 'VISITOR_AST_away_AVG_LAST_7_VISITOR_MINUS_LEAGUE_AVG', 'VISITOR_AST_away_AVG_LAST_10_VISITOR_MINUS_LEAGUE_AVG', 'VISITOR_REB_away_AVG_LAST_3_VISITOR_MINUS_LEAGUE_AVG', 'VISITOR_REB_away_AVG_LAST_7_VISITOR_MINUS_LEAGUE_AVG', 'VISITOR_REB_away_AVG_LAST_10_VISITOR_MINUS_LEAGUE_AVG', 'MATCHUP_WINPCT_3_x', 'MATCHUP_WINPCT_7_x', 'MATCHUP_WINPCT_10_x', 'MATCHUP_WIN_STREAK_x', 'WIN_STREAK_x', 'HOME_AWAY_STREAK_x', 'TEAM1_win_AVG_LAST_3_ALL_x', 'TEAM1_win_AVG_LAST_7_ALL_x', 'TEAM1_win_AVG_LAST_10_ALL_x', 'TEAM1_win_AVG_LAST_15_ALL_x', 'PTS_AVG_LAST_3_ALL_x', 'PTS_AVG_LAST_7_ALL_x', 'PTS_AVG_LAST_10_ALL_x', 'PTS_AVG_LAST_15_ALL_x', 'FG_PCT_AVG_LAST_3_ALL_x', 'FG_PCT_AVG_LAST_7_ALL_x', 'FG_PCT_AVG_LAST_10_ALL_x', 'FG_PCT_AVG_LAST_15_ALL_x', 'FT_PCT_AVG_LAST_3_ALL_x', 'FT_PCT_AVG_LAST_7_ALL_x', 'FT_PCT_AVG_LAST_10_ALL_x', 'FT_PCT_AVG_LAST_15_ALL_x', 'FG3_PCT_AVG_LAST_3_ALL_x', 'FG3_PCT_AVG_LAST_7_ALL_x', 'FG3_PCT_AVG_LAST_10_ALL_x', 'FG3_PCT_AVG_LAST_15_ALL_x', 'AST_AVG_LAST_3_ALL_x', 'AST_AVG_LAST_7_ALL_x', 'AST_AVG_LAST_10_ALL_x', 'AST_AVG_LAST_15_ALL_x', 'REB_AVG_LAST_3_ALL_x', 'REB_AVG_LAST_7_ALL_x', 'REB_AVG_LAST_10_ALL_x', 'REB_AVG_LAST_15_ALL_x', 'PTS_AVG_LAST_3_ALL_MINUS_LEAGUE_AVG_x', 'PTS_AVG_LAST_7_ALL_MINUS_LEAGUE_AVG_x', 'PTS_AVG_LAST_10_ALL_MINUS_LEAGUE_AVG_x', 'PTS_AVG_LAST_15_ALL_MINUS_LEAGUE_AVG_x', 'FG_PCT_AVG_LAST_3_ALL_MINUS_LEAGUE_AVG_x', 'FG_PCT_AVG_LAST_7_ALL_MINUS_LEAGUE_AVG_x', 'FG_PCT_AVG_LAST_10_ALL_MINUS_LEAGUE_AVG_x', 'FG_PCT_AVG_LAST_15_ALL_MINUS_LEAGUE_AVG_x', 'FT_PCT_AVG_LAST_3_ALL_MINUS_LEAGUE_AVG_x', 'FT_PCT_AVG_LAST_7_ALL_MINUS_LEAGUE_AVG_x', 'FT_PCT_AVG_LAST_10_ALL_MINUS_LEAGUE_AVG_x', 'FT_PCT_AVG_LAST_15_ALL_MINUS_LEAGUE_AVG_x', 'FG3_PCT_AVG_LAST_3_ALL_MINUS_LEAGUE_AVG_x', 'FG3_PCT_AVG_LAST_7_ALL_MINUS_LEAGUE_AVG_x', 'FG3_PCT_AVG_LAST_10_ALL_MINUS_LEAGUE_AVG_x', 'FG3_PCT_AVG_LAST_15_ALL_MINUS_LEAGUE_AVG_x', 'AST_AVG_LAST_3_ALL_MINUS_LEAGUE_AVG_x', 'AST_AVG_LAST_7_ALL_MINUS_LEAGUE_AVG_x', 'AST_AVG_LAST_10_ALL_MINUS_LEAGUE_AVG_x', 'AST_AVG_LAST_15_ALL_MINUS_LEAGUE_AVG_x', 'REB_AVG_LAST_3_ALL_MINUS_LEAGUE_AVG_x', 'REB_AVG_LAST_7_ALL_MINUS_LEAGUE_AVG_x', 'REB_AVG_LAST_10_ALL_MINUS_LEAGUE_AVG_x', 'REB_AVG_LAST_15_ALL_MINUS_LEAGUE_AVG_x', 'WIN_STREAK_y', 'HOME_AWAY_STREAK_y', 'TEAM1_win_AVG_LAST_3_ALL_y', 'TEAM1_win_AVG_LAST_7_ALL_y', 'TEAM1_win_AVG_LAST_10_ALL_y', 'TEAM1_win_AVG_LAST_15_ALL_y', 'PTS_AVG_LAST_3_ALL_y', 'PTS_AVG_LAST_7_ALL_y', 'PTS_AVG_LAST_10_ALL_y', 'PTS_AVG_LAST_15_ALL_y', 'FG_PCT_AVG_LAST_3_ALL_y', 'FG_PCT_AVG_LAST_7_ALL_y', 'FG_PCT_AVG_LAST_10_ALL_y', 'FG_PCT_AVG_LAST_15_ALL_y', 'FT_PCT_AVG_LAST_3_ALL_y', 'FT_PCT_AVG_LAST_7_ALL_y', 'FT_PCT_AVG_LAST_10_ALL_y', 'FT_PCT_AVG_LAST_15_ALL_y', 'FG3_PCT_AVG_LAST_3_ALL_y', 'FG3_PCT_AVG_LAST_7_ALL_y', 'FG3_PCT_AVG_LAST_10_ALL_y', 'FG3_PCT_AVG_LAST_15_ALL_y', 'AST_AVG_LAST_3_ALL_y', 'AST_AVG_LAST_7_ALL_y', 'AST_AVG_LAST_10_ALL_y', 'AST_AVG_LAST_15_ALL_y', 'REB_AVG_LAST_3_ALL_y', 'REB_AVG_LAST_7_ALL_y', 'REB_AVG_LAST_10_ALL_y', 'REB_AVG_LAST_15_ALL_y', 'PTS_AVG_LAST_3_ALL_MINUS_LEAGUE_AVG_y', 'PTS_AVG_LAST_7_ALL_MINUS_LEAGUE_AVG_y', 'PTS_AVG_LAST_10_ALL_MINUS_LEAGUE_AVG_y', 'PTS_AVG_LAST_15_ALL_MINUS_LEAGUE_AVG_y', 'FG_PCT_AVG_LAST_3_ALL_MINUS_LEAGUE_AVG_y', 'FG_PCT_AVG_LAST_7_ALL_MINUS_LEAGUE_AVG_y', 'FG_PCT_AVG_LAST_10_ALL_MINUS_LEAGUE_AVG_y', 'FG_PCT_AVG_LAST_15_ALL_MINUS_LEAGUE_AVG_y', 'FT_PCT_AVG_LAST_3_ALL_MINUS_LEAGUE_AVG_y', 'FT_PCT_AVG_LAST_7_ALL_MINUS_LEAGUE_AVG_y', 'FT_PCT_AVG_LAST_10_ALL_MINUS_LEAGUE_AVG_y', 'FT_PCT_AVG_LAST_15_ALL_MINUS_LEAGUE_AVG_y', 'FG3_PCT_AVG_LAST_3_ALL_MINUS_LEAGUE_AVG_y', 'FG3_PCT_AVG_LAST_7_ALL_MINUS_LEAGUE_AVG_y', 'FG3_PCT_AVG_LAST_10_ALL_MINUS_LEAGUE_AVG_y', 'FG3_PCT_AVG_LAST_15_ALL_MINUS_LEAGUE_AVG_y', 'AST_AVG_LAST_3_ALL_MINUS_LEAGUE_AVG_y', 'AST_AVG_LAST_7_ALL_MINUS_LEAGUE_AVG_y', 'AST_AVG_LAST_10_ALL_MINUS_LEAGUE_AVG_y', 'AST_AVG_LAST_15_ALL_MINUS_LEAGUE_AVG_y', 'REB_AVG_LAST_3_ALL_MINUS_LEAGUE_AVG_y', 'REB_AVG_LAST_7_ALL_MINUS_LEAGUE_AVG_y', 'REB_AVG_LAST_10_ALL_MINUS_LEAGUE_AVG_y', 'REB_AVG_LAST_15_ALL_MINUS_LEAGUE_AVG_y', 'WIN_STREAK_x_minus_y', 'HOME_AWAY_STREAK_x_minus_y', 'TEAM1_win_AVG_LAST_3_ALL_x_minus_y', 'TEAM1_win_AVG_LAST_7_ALL_x_minus_y', 'TEAM1_win_AVG_LAST_10_ALL_x_minus_y', 'TEAM1_win_AVG_LAST_15_ALL_x_minus_y', 'PTS_AVG_LAST_3_ALL_x_minus_y', 'PTS_AVG_LAST_7_ALL_x_minus_y', 'PTS_AVG_LAST_10_ALL_x_minus_y', 'PTS_AVG_LAST_15_ALL_x_minus_y', 'FG_PCT_AVG_LAST_3_ALL_x_minus_y', 'FG_PCT_AVG_LAST_7_ALL_x_minus_y', 'FG_PCT_AVG_LAST_10_ALL_x_minus_y', 'FG_PCT_AVG_LAST_15_ALL_x_minus_y', 'FT_PCT_AVG_LAST_3_ALL_x_minus_y', 'FT_PCT_AVG_LAST_7_ALL_x_minus_y', 'FT_PCT_AVG_LAST_10_ALL_x_minus_y', 'FT_PCT_AVG_LAST_15_ALL_x_minus_y', 'FG3_PCT_AVG_LAST_3_ALL_x_minus_y', 'FG3_PCT_AVG_LAST_7_ALL_x_minus_y', 'FG3_PCT_AVG_LAST_10_ALL_x_minus_y', 'FG3_PCT_AVG_LAST_15_ALL_x_minus_y', 'AST_AVG_LAST_3_ALL_x_minus_y', 'AST_AVG_LAST_7_ALL_x_minus_y', 'AST_AVG_LAST_10_ALL_x_minus_y', 'AST_AVG_LAST_15_ALL_x_minus_y', 'REB_AVG_LAST_3_ALL_x_minus_y', 'REB_AVG_LAST_7_ALL_x_minus_y', 'REB_AVG_LAST_10_ALL_x_minus_y', 'REB_AVG_LAST_15_ALL_x_minus_y']`. Feature names are sanitized to lower case in the feature store.\n"
     ]
    },
    {
     "name": "stdout",
     "output_type": "stream",
     "text": [
      "Feature Group created successfully, explore it at \n",
      "https://c.app.hopsworks.ai:443/p/90261/fs/90180/fg/1422834\n"
     ]
    },
    {
     "name": "stderr",
     "output_type": "stream",
     "text": [
      "\r",
      "Uploading Dataframe: 0.00% |          | Rows 0/26278 | Elapsed Time: 00:00 | Remaining Time: ?"
     ]
    },
    {
     "name": "stderr",
     "output_type": "stream",
     "text": [
      "\r",
      "Uploading Dataframe: 6.95% |▋         | Rows 1827/26278 | Elapsed Time: 00:01 | Remaining Time: 00:13"
     ]
    },
    {
     "name": "stderr",
     "output_type": "stream",
     "text": [
      "\r",
      "Uploading Dataframe: 13.96% |█▍        | Rows 3668/26278 | Elapsed Time: 00:02 | Remaining Time: 00:12"
     ]
    },
    {
     "name": "stderr",
     "output_type": "stream",
     "text": [
      "\r",
      "Uploading Dataframe: 21.38% |██▏       | Rows 5619/26278 | Elapsed Time: 00:03 | Remaining Time: 00:10"
     ]
    },
    {
     "name": "stderr",
     "output_type": "stream",
     "text": [
      "\r",
      "Uploading Dataframe: 28.86% |██▉       | Rows 7584/26278 | Elapsed Time: 00:04 | Remaining Time: 00:09"
     ]
    },
    {
     "name": "stderr",
     "output_type": "stream",
     "text": [
      "\r",
      "Uploading Dataframe: 36.22% |███▌      | Rows 9518/26278 | Elapsed Time: 00:05 | Remaining Time: 00:08"
     ]
    },
    {
     "name": "stderr",
     "output_type": "stream",
     "text": [
      "\r",
      "Uploading Dataframe: 43.65% |████▎     | Rows 11471/26278 | Elapsed Time: 00:06 | Remaining Time: 00:07"
     ]
    },
    {
     "name": "stderr",
     "output_type": "stream",
     "text": [
      "\r",
      "Uploading Dataframe: 51.06% |█████     | Rows 13418/26278 | Elapsed Time: 00:07 | Remaining Time: 00:06"
     ]
    },
    {
     "name": "stderr",
     "output_type": "stream",
     "text": [
      "\r",
      "Uploading Dataframe: 58.54% |█████▊    | Rows 15384/26278 | Elapsed Time: 00:08 | Remaining Time: 00:05"
     ]
    },
    {
     "name": "stderr",
     "output_type": "stream",
     "text": [
      "\r",
      "Uploading Dataframe: 65.95% |██████▌   | Rows 17330/26278 | Elapsed Time: 00:09 | Remaining Time: 00:04"
     ]
    },
    {
     "name": "stderr",
     "output_type": "stream",
     "text": [
      "\r",
      "Uploading Dataframe: 73.26% |███████▎  | Rows 19252/26278 | Elapsed Time: 00:10 | Remaining Time: 00:03"
     ]
    },
    {
     "name": "stderr",
     "output_type": "stream",
     "text": [
      "\r",
      "Uploading Dataframe: 80.63% |████████  | Rows 21189/26278 | Elapsed Time: 00:11 | Remaining Time: 00:02"
     ]
    },
    {
     "name": "stderr",
     "output_type": "stream",
     "text": [
      "\r",
      "Uploading Dataframe: 88.09% |████████▊ | Rows 23147/26278 | Elapsed Time: 00:12 | Remaining Time: 00:01"
     ]
    },
    {
     "name": "stderr",
     "output_type": "stream",
     "text": [
      "\r",
      "Uploading Dataframe: 95.44% |█████████▌| Rows 25081/26278 | Elapsed Time: 00:13 | Remaining Time: 00:00"
     ]
    },
    {
     "name": "stderr",
     "output_type": "stream",
     "text": [
      "\r",
      "Uploading Dataframe: 100.00% |██████████| Rows 26278/26278 | Elapsed Time: 00:13 | Remaining Time: 00:00"
     ]
    },
    {
     "name": "stderr",
     "output_type": "stream",
     "text": [
      "\n"
     ]
    },
    {
     "name": "stdout",
     "output_type": "stream",
     "text": [
      "Launching job: rolling_stats_2_offline_fg_materialization\n"
     ]
    },
    {
     "name": "stdout",
     "output_type": "stream",
     "text": [
      "Job started successfully, you can follow the progress at \n",
      "https://c.app.hopsworks.ai:443/p/90261/jobs/named/rolling_stats_2_offline_fg_materialization/executions\n"
     ]
    }
   ],
   "source": [
    "# HOPSWORKS can be kinda buggy and has been throwing a lot of errors recently or even just failing to return data\n",
    "# so I'm adding a try/except block to retry the query if it fails\n",
    "\n",
    "# overwriting feature group doesn't work for some reason\n",
    "# temporary solution is to delete the FG andcreate it again with new data\n",
    "tries = 5\n",
    "\n",
    "if UPDATE_WF:\n",
    "    for i in range(tries):\n",
    "\n",
    "        try:\n",
    "            rolling_stats_fg.delete()\n",
    "\n",
    "            rolling_stats_fg = fs.create_feature_group(\n",
    "                name=\"rolling_stats\",\n",
    "                version=FEATURE_GROUP_VERSION,\n",
    "                description=\"Rolling averages and current win/lose streaks\",\n",
    "                primary_key=[\"GAME_DATE_EST\", \"HOME_TEAM_ID\"],\n",
    "                event_time=\"game_date_est\",\n",
    "            )\n",
    "\n",
    "            rolling_stats_fg.insert(df_combined, write_options={\"wait_for_job\": False})\n",
    "\n",
    "            # rolling_stats_fg.insert(\n",
    "            #     df_combined, write_options={\"wait_for_job\": False}\n",
    "            # )\n",
    "        except KeyError as e:\n",
    "            if i < tries - 1:\n",
    "                time.sleep(30)\n",
    "                continue\n",
    "            else:\n",
    "                raise ValueError(\"HOPSWORKS failed to connect\")\n",
    "        break"
   ]
  }
 ],
 "metadata": {
  "kernelspec": {
   "display_name": "basketball-prediction-klrE3EAW-py3.12",
   "language": "python",
   "name": "python3"
  },
  "language_info": {
   "codemirror_mode": {
    "name": "ipython",
    "version": 3
   },
   "file_extension": ".py",
   "mimetype": "text/x-python",
   "name": "python",
   "nbconvert_exporter": "python",
   "pygments_lexer": "ipython3",
   "version": "3.12.3"
  }
 },
 "nbformat": 4,
 "nbformat_minor": 5
}
