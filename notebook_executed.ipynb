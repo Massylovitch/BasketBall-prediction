{
 "cells": [
  {
   "attachments": {},
   "cell_type": "markdown",
   "id": "f8e4f389",
   "metadata": {},
   "source": [
    "### Production Features Pipeline"
   ]
  },
  {
   "cell_type": "code",
   "execution_count": 1,
   "id": "89fd0a47",
   "metadata": {
    "execution": {
     "iopub.execute_input": "2024-01-15T08:10:51.377855Z",
     "iopub.status.busy": "2024-01-15T08:10:51.377659Z",
     "iopub.status.idle": "2024-01-15T08:10:51.383893Z",
     "shell.execute_reply": "2024-01-15T08:10:51.383284Z"
    }
   },
   "outputs": [],
   "source": [
    "# select web scraper; 'SCRAPINGANT' or 'SELENIUM'\n",
    "# SCRAPINGANT requires a subscription but includes a proxy server\n",
    "\n",
    "WEBSCRAPER = 'SCRAPINGANT'\n",
    "# WEBSCRAPER = 'SELENIUM'"
   ]
  },
  {
   "cell_type": "code",
   "execution_count": 2,
   "id": "2f0c58a3-8738-42ad-be18-8e13c171108f",
   "metadata": {
    "execution": {
     "iopub.execute_input": "2024-01-15T08:10:51.386556Z",
     "iopub.status.busy": "2024-01-15T08:10:51.386009Z",
     "iopub.status.idle": "2024-01-15T08:10:53.368271Z",
     "shell.execute_reply": "2024-01-15T08:10:53.367604Z"
    }
   },
   "outputs": [],
   "source": [
    "import os\n",
    "\n",
    "import pandas as pd\n",
    "import numpy as np\n",
    "\n",
    "import hopsworks\n",
    "\n",
    "from datetime import datetime, timedelta\n",
    "from pytz import timezone\n",
    "\n",
    "import json\n",
    "\n",
    "import time\n",
    "\n",
    "from pathlib import Path  #for Windows/Linux compatibility\n",
    "\n",
    "# change working directory to project root when running from notebooks folder to make it easier to import modules\n",
    "# and to access sibling folders\n",
    "os.chdir('..') \n",
    "\n",
    " \n",
    "from src.utils.webscraping import (\n",
    "    get_new_games,\n",
    "    activate_web_driver,\n",
    "    get_todays_matchups,\n",
    ")\n",
    "\n",
    "from src.data.cleaning import (\n",
    "    process_games,\n",
    "    add_TARGET,\n",
    ")\n",
    "\n",
    "from src.data.build_features import (\n",
    "    process_features,\n",
    ")\n",
    "\n",
    "from src.utils.hopsworks_utils import (\n",
    "    save_feature_names,\n",
    "    convert_feature_names,\n",
    ")\n",
    "\n",
    "from src.utils.constants import (\n",
    "    FEATURE_GROUP_VERSION,\n",
    ")\n",
    "\n",
    "DATAPATH = Path(r'data')"
   ]
  },
  {
   "cell_type": "markdown",
   "id": "e754aaa7",
   "metadata": {},
   "source": [
    "**Load API keys**"
   ]
  },
  {
   "cell_type": "code",
   "execution_count": 3,
   "id": "1124d9cf-8a24-4a04-bf68-c7dc7ff1d276",
   "metadata": {
    "execution": {
     "iopub.execute_input": "2024-01-15T08:10:53.371562Z",
     "iopub.status.busy": "2024-01-15T08:10:53.370980Z",
     "iopub.status.idle": "2024-01-15T08:10:53.375463Z",
     "shell.execute_reply": "2024-01-15T08:10:53.374818Z"
    }
   },
   "outputs": [],
   "source": [
    "from dotenv import load_dotenv\n",
    "\n",
    "load_dotenv()\n",
    "\n",
    "try:\n",
    "    HOPSWORKS_API_KEY = os.environ['HOPSWORKS_API_KEY']\n",
    "except:\n",
    "    raise Exception('Set environment variable HOPSWORKS_API_KEY')\n",
    "\n",
    "# if scrapingant is chosen then set the api key, otherwise load the selenium webdriver\n",
    "if WEBSCRAPER == 'SCRAPINGANT':\n",
    "    try:\n",
    "        SCRAPINGANT_API_KEY = os.environ['SCRAPINGANT_API_KEY']\n",
    "    except:\n",
    "        raise Exception('Set environment variable SCRAPINGANT_API_KEY')\n",
    "    driver = None\n",
    "    \n",
    "elif WEBSCRAPER == 'SELENIUM':\n",
    "    driver = activate_web_driver('chromium')\n",
    "    SCRAPINGANT_API_KEY = \"\"\n",
    "    \n",
    "\n"
   ]
  },
  {
   "attachments": {},
   "cell_type": "markdown",
   "id": "2f29eac3-4b58-4a07-bdba-b4c72cb491ec",
   "metadata": {},
   "source": [
    "**Scrape New Completed Games and Format Them**"
   ]
  },
  {
   "cell_type": "code",
   "execution_count": 4,
   "id": "0e81e4bd-45fa-44f6-bbb3-7d1821c56963",
   "metadata": {
    "execution": {
     "iopub.execute_input": "2024-01-15T08:10:53.378028Z",
     "iopub.status.busy": "2024-01-15T08:10:53.377671Z",
     "iopub.status.idle": "2024-01-15T08:11:05.564523Z",
     "shell.execute_reply": "2024-01-15T08:11:05.563883Z"
    }
   },
   "outputs": [
    {
     "name": "stdout",
     "output_type": "stream",
     "text": [
      "Current month is 01\n",
      "Scraping https://www.nba.com/stats/teams/boxscores?SeasonType=Regular+Season&DateFrom=01/08/24&DateTo=01/15/24\n"
     ]
    }
   ],
   "source": [
    "df_new = get_new_games(SCRAPINGANT_API_KEY, driver)\n",
    "\n",
    "if df_new.empty:\n",
    "    print('No new games to process')\n",
    "else:\n",
    "\n",
    "    # get the SEASON of the last game in the database\n",
    "    # this will used when constructing rows for prediction\n",
    "    SEASON = df_new['SEASON'].max()\n",
    "\n",
    "    df_new.head()"
   ]
  },
  {
   "attachments": {},
   "cell_type": "markdown",
   "id": "dfd78420",
   "metadata": {},
   "source": [
    "**Retrieve todays games**"
   ]
  },
  {
   "cell_type": "code",
   "execution_count": 5,
   "id": "45afa738",
   "metadata": {
    "execution": {
     "iopub.execute_input": "2024-01-15T08:11:05.567295Z",
     "iopub.status.busy": "2024-01-15T08:11:05.567093Z",
     "iopub.status.idle": "2024-01-15T08:11:19.731041Z",
     "shell.execute_reply": "2024-01-15T08:11:19.730373Z"
    }
   },
   "outputs": [
    {
     "name": "stdout",
     "output_type": "stream",
     "text": [
      "Sunday, January 14\n",
      "Monday, January 15\n",
      "[['1610612745', '1610612755'], ['1610612740', '1610612742'], ['1610612753', '1610612752'], ['1610612765', '1610612764'], ['1610612759', '1610612737'], ['1610612744', '1610612763'], ['1610612741', '1610612739'], ['1610612748', '1610612751'], ['1610612738', '1610612761'], ['1610612754', '1610612762'], ['1610612760', '1610612747']]\n",
      "['22300555', '22300556', '22300557', '22300558', '22300559', '22300560', '22300561', '22300562', '22300563', '22300564', '22300565']\n"
     ]
    }
   ],
   "source": [
    "#retrieve list of teams playing today\n",
    "\n",
    "# get today's games on NBA schedule\n",
    "matchups, game_ids = get_todays_matchups(SCRAPINGANT_API_KEY, driver)\n",
    "\n",
    "if matchups is None:\n",
    "    print('No games today')\n",
    "else:\n",
    "    print(matchups)\n",
    "    print(game_ids)\n",
    "\n"
   ]
  },
  {
   "attachments": {},
   "cell_type": "markdown",
   "id": "3aef12e5",
   "metadata": {},
   "source": [
    "**Close Webdriver**"
   ]
  },
  {
   "cell_type": "code",
   "execution_count": 6,
   "id": "5766c712",
   "metadata": {
    "execution": {
     "iopub.execute_input": "2024-01-15T08:11:19.733510Z",
     "iopub.status.busy": "2024-01-15T08:11:19.733308Z",
     "iopub.status.idle": "2024-01-15T08:11:19.736397Z",
     "shell.execute_reply": "2024-01-15T08:11:19.735867Z"
    }
   },
   "outputs": [],
   "source": [
    "if WEBSCRAPER == 'SELENIUM':\n",
    "    driver.close() "
   ]
  },
  {
   "attachments": {},
   "cell_type": "markdown",
   "id": "4a4abb60",
   "metadata": {},
   "source": [
    "**Check if anything is going on in the season**"
   ]
  },
  {
   "cell_type": "code",
   "execution_count": 7,
   "id": "0b720127",
   "metadata": {
    "execution": {
     "iopub.execute_input": "2024-01-15T08:11:19.738870Z",
     "iopub.status.busy": "2024-01-15T08:11:19.738482Z",
     "iopub.status.idle": "2024-01-15T08:11:19.741701Z",
     "shell.execute_reply": "2024-01-15T08:11:19.741081Z"
    }
   },
   "outputs": [],
   "source": [
    "UPDATE_WF = True\n",
    "\n",
    "if (df_new.empty) and (matchups is None):\n",
    "    print('No new games to process')\n",
    "\n",
    "    UPDATE_WF = False\n",
    "    # exit()\n",
    "    "
   ]
  },
  {
   "attachments": {},
   "cell_type": "markdown",
   "id": "a43729ef",
   "metadata": {},
   "source": [
    "**Create Rows for Today's Games with Empty Stats**"
   ]
  },
  {
   "cell_type": "code",
   "execution_count": 8,
   "id": "dc4f3393",
   "metadata": {
    "execution": {
     "iopub.execute_input": "2024-01-15T08:11:19.744355Z",
     "iopub.status.busy": "2024-01-15T08:11:19.743924Z",
     "iopub.status.idle": "2024-01-15T08:11:19.766716Z",
     "shell.execute_reply": "2024-01-15T08:11:19.766081Z"
    }
   },
   "outputs": [
    {
     "name": "stderr",
     "output_type": "stream",
     "text": [
      "DeprecationWarning: np.find_common_type is deprecated.  Please use `np.result_type` or `np.promote_types`.\n",
      "See https://numpy.org/devdocs/release/1.25.0-notes.html and the docs for more information.  (Deprecated NumPy 1.25)\n"
     ]
    }
   ],
   "source": [
    "# reformat today's matchups to the new games dataframe\n",
    "\n",
    "if matchups is None:\n",
    "    print('No games going on. Nothing to do.')\n",
    "    # exit()    \n",
    "\n",
    "else:\n",
    "\n",
    "    df_today = df_new.drop(df_new.index) #empty copy of df_new with same columns\n",
    "    for i, matchup in enumerate(matchups):\n",
    "        game_details = {'HOME_TEAM_ID': matchup[1], \n",
    "                        'VISITOR_TEAM_ID': matchup[0], \n",
    "                        'GAME_DATE_EST': datetime.now(timezone('EST')).strftime(\"%Y-%m-%d\"), \n",
    "                        'GAME_ID': int(game_ids[i]),                       \n",
    "                        'SEASON': SEASON,\n",
    "                        } \n",
    "        game_details_df = pd.DataFrame(game_details, index=[i])\n",
    "        # append to new games dataframe\n",
    "        df_today = pd.concat([df_today, game_details_df], ignore_index = True)\n",
    "\n",
    "    #blank rows will be filled with 0 to prevent issues with feature engineering\n",
    "    df_today = df_today.fillna(0) \n",
    "\n",
    "    df_today\n",
    "\n"
   ]
  },
  {
   "cell_type": "markdown",
   "id": "acfb1180-ea38-452c-9afd-73eea3ee7e17",
   "metadata": {},
   "source": [
    "**Access Feature Store**"
   ]
  },
  {
   "cell_type": "code",
   "execution_count": 9,
   "id": "ba69a88c-691e-4f8d-b68e-e79f5582a939",
   "metadata": {
    "execution": {
     "iopub.execute_input": "2024-01-15T08:11:19.769494Z",
     "iopub.status.busy": "2024-01-15T08:11:19.768984Z",
     "iopub.status.idle": "2024-01-15T08:11:20.362080Z",
     "shell.execute_reply": "2024-01-15T08:11:20.361441Z"
    }
   },
   "outputs": [
    {
     "name": "stdout",
     "output_type": "stream",
     "text": [
      "Connected. Call `.close()` to terminate connection gracefully.\n"
     ]
    },
    {
     "name": "stdout",
     "output_type": "stream",
     "text": [
      "\n",
      "Logged in to project, explore it here https://c.app.hopsworks.ai:443/p/90261\n",
      "Connected. Call `.close()` to terminate connection gracefully.\n"
     ]
    }
   ],
   "source": [
    "if UPDATE_WF:\n",
    "\n",
    "    project = hopsworks.login(api_key_value=HOPSWORKS_API_KEY)\n",
    "\n",
    "    # HOPSWORKS can be kinda buggy and has been throwing a lot of errors recently or even just failing to return data\n",
    "    # so I'm adding a try/except block to retry the query if it fails\n",
    "    tries = 5\n",
    "\n",
    "    for i in range(tries):\n",
    "        \n",
    "        try:\n",
    "            fs = project.get_feature_store()\n",
    "        except KeyError as e:\n",
    "            if i < tries - 1: # i is zero indexed\n",
    "                time.sleep(30)\n",
    "                continue\n",
    "            else:\n",
    "                raise ValueError('HOPSWORKS failed to connect')\n",
    "        break\n",
    "\n"
   ]
  },
  {
   "cell_type": "markdown",
   "id": "256829e7",
   "metadata": {},
   "source": [
    "**Access Feature Group**"
   ]
  },
  {
   "cell_type": "code",
   "execution_count": 10,
   "id": "641d97e5-0888-42c3-a9b1-97c9ef2b7082",
   "metadata": {
    "execution": {
     "iopub.execute_input": "2024-01-15T08:11:20.364589Z",
     "iopub.status.busy": "2024-01-15T08:11:20.364389Z",
     "iopub.status.idle": "2024-01-15T08:11:20.685104Z",
     "shell.execute_reply": "2024-01-15T08:11:20.684469Z"
    }
   },
   "outputs": [],
   "source": [
    "# HOPSWORKS can be kinda buggy and has been throwing a lot of errors recently or even just failing to return data\n",
    "# so I'm adding a try/except block to retry the query if it fails\n",
    "tries = 5\n",
    "\n",
    "if UPDATE_WF:\n",
    "    for i in range(tries):\n",
    "        \n",
    "        try:\n",
    "            rolling_stats_fg = fs.get_feature_group(\n",
    "            name=\"rolling_stats\",\n",
    "            version=FEATURE_GROUP_VERSION,\n",
    "            )\n",
    "        except KeyError as e:\n",
    "            if i < tries - 1: # i is zero indexed\n",
    "                time.sleep(30)\n",
    "                continue\n",
    "            else:\n",
    "                raise ValueError('HOPSWORKS failed to connect')\n",
    "        break\n",
    "\n"
   ]
  },
  {
   "attachments": {},
   "cell_type": "markdown",
   "id": "0acc836a",
   "metadata": {},
   "source": [
    "**Query Old Data Needed for Feature Engineering of New Data**\n",
    "\n",
    "To generate features like rolling averages for the new games, older data from previous games is needed since some of the rolling averages might extend back 15 or 20 games or so."
   ]
  },
  {
   "cell_type": "code",
   "execution_count": 11,
   "id": "69a2b254",
   "metadata": {
    "execution": {
     "iopub.execute_input": "2024-01-15T08:11:20.687918Z",
     "iopub.status.busy": "2024-01-15T08:11:20.687719Z",
     "iopub.status.idle": "2024-01-15T08:11:25.712536Z",
     "shell.execute_reply": "2024-01-15T08:11:25.711835Z"
    }
   },
   "outputs": [
    {
     "name": "stdout",
     "output_type": "stream",
     "text": [
      "Reading data from Hopsworks, using ArrowFlight.   \r"
     ]
    },
    {
     "name": "stdout",
     "output_type": "stream",
     "text": [
      "Reading data from Hopsworks, using ArrowFlight..   \r"
     ]
    },
    {
     "name": "stdout",
     "output_type": "stream",
     "text": [
      "Reading data from Hopsworks, using ArrowFlight...   \r"
     ]
    },
    {
     "name": "stdout",
     "output_type": "stream",
     "text": [
      "Reading data from Hopsworks, using ArrowFlight   \r"
     ]
    },
    {
     "name": "stdout",
     "output_type": "stream",
     "text": [
      "Reading data from Hopsworks, using ArrowFlight.   \r"
     ]
    },
    {
     "name": "stdout",
     "output_type": "stream",
     "text": [
      "Reading data from Hopsworks, using ArrowFlight..   \r"
     ]
    },
    {
     "name": "stdout",
     "output_type": "stream",
     "text": [
      "Reading data from Hopsworks, using ArrowFlight...   \r"
     ]
    },
    {
     "name": "stdout",
     "output_type": "stream",
     "text": [
      "Reading data from Hopsworks, using ArrowFlight   \r"
     ]
    },
    {
     "name": "stdout",
     "output_type": "stream",
     "text": [
      "Reading data from Hopsworks, using ArrowFlight.   \r"
     ]
    },
    {
     "name": "stdout",
     "output_type": "stream",
     "text": [
      "\r",
      "Finished: Reading data from Hopsworks, using ArrowFlight (4.26s) \n"
     ]
    }
   ],
   "source": [
    "BASE_FEATURES = ['game_date_est',\n",
    " 'game_id',\n",
    " 'home_team_id',\n",
    " 'visitor_team_id',\n",
    " 'season',\n",
    " 'pts_home',\n",
    " 'fg_pct_home',\n",
    " 'ft_pct_home',\n",
    " 'fg3_pct_home',\n",
    " 'ast_home',\n",
    " 'reb_home',\n",
    " 'pts_away',\n",
    " 'fg_pct_away',\n",
    " 'ft_pct_away',\n",
    " 'fg3_pct_away',\n",
    " 'ast_away',\n",
    " 'reb_away',\n",
    " 'home_team_wins',\n",
    "]\n",
    "\n",
    "if UPDATE_WF:\n",
    "    ds_query = rolling_stats_fg.select(BASE_FEATURES)\n",
    "\n",
    "    # HOPSWORKS can be kinda buggy and has been throwing a lot of errors recently or even just failing to return data\n",
    "    # so I'm adding a try/except block to retry the query if it fails\n",
    "    tries = 5\n",
    "\n",
    "    for i in range(tries):\n",
    "        for j in range(tries):\n",
    "            try:\n",
    "                df_old = ds_query.read()\n",
    "            except KeyError as e:\n",
    "                if j < tries - 1: \n",
    "                    time.sleep(10)\n",
    "                    continue\n",
    "                else:\n",
    "                    raise ValueError('HOPSWORKS failed to connect')\n",
    "            break\n",
    "\n",
    "        if df_old.empty:\n",
    "            if i < tries - 1: \n",
    "                time.sleep(10)\n",
    "            else:\n",
    "                raise ValueError('HOPSWORKS failed to return data')\n",
    "        else:\n",
    "            break\n",
    "\n"
   ]
  },
  {
   "attachments": {},
   "cell_type": "markdown",
   "id": "3185e1e1",
   "metadata": {},
   "source": [
    "**Convert Feature Names back to original mixed case**"
   ]
  },
  {
   "cell_type": "code",
   "execution_count": 12,
   "id": "11fc2684",
   "metadata": {
    "execution": {
     "iopub.execute_input": "2024-01-15T08:11:25.715198Z",
     "iopub.status.busy": "2024-01-15T08:11:25.714843Z",
     "iopub.status.idle": "2024-01-15T08:11:25.720133Z",
     "shell.execute_reply": "2024-01-15T08:11:25.719633Z"
    }
   },
   "outputs": [],
   "source": [
    "#hopsworks converts all feature names to lowercase, and for code reuse, we need to convert them back\n",
    "if UPDATE_WF:\n",
    "    df_old = convert_feature_names(df_old)\n",
    "    df_old\n",
    "    df_old[df_old['PTS_home'] == 0]\n",
    "    df_old"
   ]
  },
  {
   "attachments": {},
   "cell_type": "markdown",
   "id": "9453ea9a",
   "metadata": {},
   "source": [
    "**Update Yesterday's Matchup Predictions with New Final Results**"
   ]
  },
  {
   "cell_type": "code",
   "execution_count": 13,
   "id": "f5be2f9c",
   "metadata": {
    "execution": {
     "iopub.execute_input": "2024-01-15T08:11:25.722821Z",
     "iopub.status.busy": "2024-01-15T08:11:25.722367Z",
     "iopub.status.idle": "2024-01-15T08:11:25.856703Z",
     "shell.execute_reply": "2024-01-15T08:11:25.855985Z"
    }
   },
   "outputs": [
    {
     "name": "stderr",
     "output_type": "stream",
     "text": [
      "DeprecationWarning: np.find_common_type is deprecated.  Please use `np.result_type` or `np.promote_types`.\n",
      "See https://numpy.org/devdocs/release/1.25.0-notes.html and the docs for more information.  (Deprecated NumPy 1.25)\n"
     ]
    }
   ],
   "source": [
    "# filter out games that are pending final results\n",
    "# (these were the rows used for prediction yesterday)\n",
    "# and then update these with the new results\n",
    "\n",
    "\n",
    "# one approach is to simply drop the rows that were used for prediction yesterday\n",
    "# which are games that have 0 points for home team\n",
    "# and then append the new rows to the dataframe\n",
    "if UPDATE_WF:\n",
    "\n",
    "    df_old = df_old[df_old['PTS_home'] != 0]\n",
    "    df_old = pd.concat([df_old, df_new], ignore_index = True)\n",
    "    df_old"
   ]
  },
  {
   "attachments": {},
   "cell_type": "markdown",
   "id": "f169f4ce",
   "metadata": {},
   "source": [
    "**Add Today's Matchups for Feature Engineering**"
   ]
  },
  {
   "cell_type": "code",
   "execution_count": 14,
   "id": "a82bf4a8",
   "metadata": {
    "execution": {
     "iopub.execute_input": "2024-01-15T08:11:25.859512Z",
     "iopub.status.busy": "2024-01-15T08:11:25.859002Z",
     "iopub.status.idle": "2024-01-15T08:11:25.865670Z",
     "shell.execute_reply": "2024-01-15T08:11:25.865057Z"
    }
   },
   "outputs": [
    {
     "name": "stderr",
     "output_type": "stream",
     "text": [
      "DeprecationWarning: np.find_common_type is deprecated.  Please use `np.result_type` or `np.promote_types`.\n",
      "See https://numpy.org/devdocs/release/1.25.0-notes.html and the docs for more information.  (Deprecated NumPy 1.25)\n"
     ]
    }
   ],
   "source": [
    "if UPDATE_WF:\n",
    "\n",
    "    if matchups is None:\n",
    "        print('No games today')\n",
    "        df_combined = df_old\n",
    "    else:\n",
    "        df_combined = pd.concat([df_old, df_today], ignore_index = True)\n",
    "        df_combined"
   ]
  },
  {
   "cell_type": "markdown",
   "id": "835625fc-be47-4a8f-a532-02dc8e79363e",
   "metadata": {},
   "source": [
    "**Data Processing**"
   ]
  },
  {
   "cell_type": "code",
   "execution_count": 15,
   "id": "8577f0e2-39f7-4cef-9f8f-e687cb73f1bb",
   "metadata": {
    "execution": {
     "iopub.execute_input": "2024-01-15T08:11:25.868122Z",
     "iopub.status.busy": "2024-01-15T08:11:25.867890Z",
     "iopub.status.idle": "2024-01-15T08:11:25.877509Z",
     "shell.execute_reply": "2024-01-15T08:11:25.876966Z"
    }
   },
   "outputs": [],
   "source": [
    "if UPDATE_WF:\n",
    "    df_combined = process_games(df_combined) \n",
    "    df_combined = add_TARGET(df_combined)\n",
    "    df_combined"
   ]
  },
  {
   "cell_type": "markdown",
   "id": "cccb588e",
   "metadata": {},
   "source": [
    "**Feature Engineering**"
   ]
  },
  {
   "cell_type": "code",
   "execution_count": 16,
   "id": "19484061",
   "metadata": {
    "execution": {
     "iopub.execute_input": "2024-01-15T08:11:25.880176Z",
     "iopub.status.busy": "2024-01-15T08:11:25.879978Z",
     "iopub.status.idle": "2024-01-15T08:11:31.552993Z",
     "shell.execute_reply": "2024-01-15T08:11:31.552277Z"
    }
   },
   "outputs": [
    {
     "name": "stderr",
     "output_type": "stream",
     "text": [
      "SettingWithCopyWarning: \n",
      "A value is trying to be set on a copy of a slice from a DataFrame\n",
      "\n",
      "See the caveats in the documentation: https://pandas.pydata.org/pandas-docs/stable/user_guide/indexing.html#returning-a-view-versus-a-copy\n"
     ]
    },
    {
     "name": "stdout",
     "output_type": "stream",
     "text": [
      "['HOME_PTS_home_AVG_LAST_3_HOME', 'HOME_PTS_home_AVG_LAST_7_HOME', 'HOME_PTS_home_AVG_LAST_10_HOME', 'HOME_FG_PCT_home_AVG_LAST_3_HOME', 'HOME_FG_PCT_home_AVG_LAST_7_HOME', 'HOME_FG_PCT_home_AVG_LAST_10_HOME', 'HOME_FT_PCT_home_AVG_LAST_3_HOME', 'HOME_FT_PCT_home_AVG_LAST_7_HOME', 'HOME_FT_PCT_home_AVG_LAST_10_HOME', 'HOME_FG3_PCT_home_AVG_LAST_3_HOME', 'HOME_FG3_PCT_home_AVG_LAST_7_HOME', 'HOME_FG3_PCT_home_AVG_LAST_10_HOME', 'HOME_AST_home_AVG_LAST_3_HOME', 'HOME_AST_home_AVG_LAST_7_HOME', 'HOME_AST_home_AVG_LAST_10_HOME', 'HOME_REB_home_AVG_LAST_3_HOME', 'HOME_REB_home_AVG_LAST_7_HOME', 'HOME_REB_home_AVG_LAST_10_HOME', 'HOME_TEAM_ID', 'GAME_DATE_EST']\n"
     ]
    },
    {
     "name": "stderr",
     "output_type": "stream",
     "text": [
      "SettingWithCopyWarning: \n",
      "A value is trying to be set on a copy of a slice from a DataFrame\n",
      "\n",
      "See the caveats in the documentation: https://pandas.pydata.org/pandas-docs/stable/user_guide/indexing.html#returning-a-view-versus-a-copy\n"
     ]
    },
    {
     "name": "stdout",
     "output_type": "stream",
     "text": [
      "['VISITOR_TEAM_WINS_AVG_LAST_3_VISITOR', 'VISITOR_TEAM_WINS_AVG_LAST_7_VISITOR', 'VISITOR_TEAM_WINS_AVG_LAST_10_VISITOR', 'VISITOR_PTS_away_AVG_LAST_3_VISITOR', 'VISITOR_PTS_away_AVG_LAST_7_VISITOR', 'VISITOR_PTS_away_AVG_LAST_10_VISITOR', 'VISITOR_FG_PCT_away_AVG_LAST_3_VISITOR', 'VISITOR_FG_PCT_away_AVG_LAST_7_VISITOR', 'VISITOR_FG_PCT_away_AVG_LAST_10_VISITOR', 'VISITOR_FT_PCT_away_AVG_LAST_3_VISITOR', 'VISITOR_FT_PCT_away_AVG_LAST_7_VISITOR', 'VISITOR_FT_PCT_away_AVG_LAST_10_VISITOR', 'VISITOR_FG3_PCT_away_AVG_LAST_3_VISITOR', 'VISITOR_FG3_PCT_away_AVG_LAST_7_VISITOR', 'VISITOR_FG3_PCT_away_AVG_LAST_10_VISITOR', 'VISITOR_AST_away_AVG_LAST_3_VISITOR', 'VISITOR_AST_away_AVG_LAST_7_VISITOR', 'VISITOR_AST_away_AVG_LAST_10_VISITOR', 'VISITOR_REB_away_AVG_LAST_3_VISITOR', 'VISITOR_REB_away_AVG_LAST_7_VISITOR', 'VISITOR_REB_away_AVG_LAST_10_VISITOR', 'VISITOR_TEAM_ID', 'GAME_DATE_EST']\n"
     ]
    },
    {
     "name": "stderr",
     "output_type": "stream",
     "text": [
      "DeprecationWarning: np.find_common_type is deprecated.  Please use `np.result_type` or `np.promote_types`.\n",
      "See https://numpy.org/devdocs/release/1.25.0-notes.html and the docs for more information.  (Deprecated NumPy 1.25)\n",
      "DeprecationWarning: np.find_common_type is deprecated.  Please use `np.result_type` or `np.promote_types`.\n",
      "See https://numpy.org/devdocs/release/1.25.0-notes.html and the docs for more information.  (Deprecated NumPy 1.25)\n",
      "SettingWithCopyWarning: \n",
      "A value is trying to be set on a copy of a slice from a DataFrame\n",
      "\n",
      "See the caveats in the documentation: https://pandas.pydata.org/pandas-docs/stable/user_guide/indexing.html#returning-a-view-versus-a-copy\n",
      "SettingWithCopyWarning: \n",
      "A value is trying to be set on a copy of a slice from a DataFrame\n",
      "\n",
      "See the caveats in the documentation: https://pandas.pydata.org/pandas-docs/stable/user_guide/indexing.html#returning-a-view-versus-a-copy\n",
      "SettingWithCopyWarning: \n",
      "A value is trying to be set on a copy of a slice from a DataFrame\n",
      "\n",
      "See the caveats in the documentation: https://pandas.pydata.org/pandas-docs/stable/user_guide/indexing.html#returning-a-view-versus-a-copy\n"
     ]
    },
    {
     "name": "stdout",
     "output_type": "stream",
     "text": [
      "['PTS_AVG_LAST_3_ALL', 'PTS_AVG_LAST_7_ALL', 'PTS_AVG_LAST_10_ALL', 'PTS_AVG_LAST_15_ALL', 'FG_PCT_AVG_LAST_3_ALL', 'FG_PCT_AVG_LAST_7_ALL', 'FG_PCT_AVG_LAST_10_ALL', 'FG_PCT_AVG_LAST_15_ALL', 'FT_PCT_AVG_LAST_3_ALL', 'FT_PCT_AVG_LAST_7_ALL', 'FT_PCT_AVG_LAST_10_ALL', 'FT_PCT_AVG_LAST_15_ALL', 'FG3_PCT_AVG_LAST_3_ALL', 'FG3_PCT_AVG_LAST_7_ALL', 'FG3_PCT_AVG_LAST_10_ALL', 'FG3_PCT_AVG_LAST_15_ALL', 'AST_AVG_LAST_3_ALL', 'AST_AVG_LAST_7_ALL', 'AST_AVG_LAST_10_ALL', 'AST_AVG_LAST_15_ALL', 'REB_AVG_LAST_3_ALL', 'REB_AVG_LAST_7_ALL', 'REB_AVG_LAST_10_ALL', 'REB_AVG_LAST_15_ALL', 'TEAM1', 'GAME_DATE_EST']\n"
     ]
    }
   ],
   "source": [
    "# Feature engineering to add: \n",
    "    # rolling averages of key stats, \n",
    "    # win/lose streaks, \n",
    "    # home/away streaks, \n",
    "    # specific matchup (team X vs team Y) rolling averages and streaks\n",
    "if UPDATE_WF:\n",
    "    df_combined = process_features(df_combined)\n",
    "\n",
    "\n",
    "\n",
    "    #fix type conversion issues with hopsworks\n",
    "    df_combined['TARGET'] = df_combined['TARGET'].astype('int16')\n",
    "    df_combined['HOME_TEAM_WINS'] = df_combined['HOME_TEAM_WINS'].astype('int16')\n",
    "    df_combined\n"
   ]
  },
  {
   "attachments": {},
   "cell_type": "markdown",
   "id": "67eea1e5",
   "metadata": {},
   "source": [
    "**Insert New Data into Feature Group**"
   ]
  },
  {
   "cell_type": "code",
   "execution_count": 17,
   "id": "a76fc400",
   "metadata": {
    "execution": {
     "iopub.execute_input": "2024-01-15T08:11:31.556163Z",
     "iopub.status.busy": "2024-01-15T08:11:31.555617Z",
     "iopub.status.idle": "2024-01-15T08:11:47.992058Z",
     "shell.execute_reply": "2024-01-15T08:11:47.991461Z"
    }
   },
   "outputs": [
    {
     "name": "stderr",
     "output_type": "stream",
     "text": [
      "FeatureGroupWarning: The ingested dataframe contains upper case letters in feature names: `['GAME_DATE_EST', 'GAME_ID', 'HOME_TEAM_ID', 'VISITOR_TEAM_ID', 'SEASON', 'PTS_home', 'FG_PCT_home', 'FT_PCT_home', 'FG3_PCT_home', 'AST_home', 'REB_home', 'PTS_away', 'FG_PCT_away', 'FT_PCT_away', 'FG3_PCT_away', 'AST_away', 'REB_away', 'HOME_TEAM_WINS', 'TARGET', 'MONTH', 'HOME_TEAM_WIN_STREAK', 'HOME_TEAM_WINS_AVG_LAST_3_HOME', 'HOME_TEAM_WINS_AVG_LAST_7_HOME', 'HOME_TEAM_WINS_AVG_LAST_10_HOME', 'HOME_PTS_home_AVG_LAST_3_HOME', 'HOME_PTS_home_AVG_LAST_7_HOME', 'HOME_PTS_home_AVG_LAST_10_HOME', 'HOME_FG_PCT_home_AVG_LAST_3_HOME', 'HOME_FG_PCT_home_AVG_LAST_7_HOME', 'HOME_FG_PCT_home_AVG_LAST_10_HOME', 'HOME_FT_PCT_home_AVG_LAST_3_HOME', 'HOME_FT_PCT_home_AVG_LAST_7_HOME', 'HOME_FT_PCT_home_AVG_LAST_10_HOME', 'HOME_FG3_PCT_home_AVG_LAST_3_HOME', 'HOME_FG3_PCT_home_AVG_LAST_7_HOME', 'HOME_FG3_PCT_home_AVG_LAST_10_HOME', 'HOME_AST_home_AVG_LAST_3_HOME', 'HOME_AST_home_AVG_LAST_7_HOME', 'HOME_AST_home_AVG_LAST_10_HOME', 'HOME_REB_home_AVG_LAST_3_HOME', 'HOME_REB_home_AVG_LAST_7_HOME', 'HOME_REB_home_AVG_LAST_10_HOME', 'HOME_PTS_home_AVG_LAST_3_HOME_MINUS_LEAGUE_AVG', 'HOME_PTS_home_AVG_LAST_7_HOME_MINUS_LEAGUE_AVG', 'HOME_PTS_home_AVG_LAST_10_HOME_MINUS_LEAGUE_AVG', 'HOME_FG_PCT_home_AVG_LAST_3_HOME_MINUS_LEAGUE_AVG', 'HOME_FG_PCT_home_AVG_LAST_7_HOME_MINUS_LEAGUE_AVG', 'HOME_FG_PCT_home_AVG_LAST_10_HOME_MINUS_LEAGUE_AVG', 'HOME_FT_PCT_home_AVG_LAST_3_HOME_MINUS_LEAGUE_AVG', 'HOME_FT_PCT_home_AVG_LAST_7_HOME_MINUS_LEAGUE_AVG', 'HOME_FT_PCT_home_AVG_LAST_10_HOME_MINUS_LEAGUE_AVG', 'HOME_FG3_PCT_home_AVG_LAST_3_HOME_MINUS_LEAGUE_AVG', 'HOME_FG3_PCT_home_AVG_LAST_7_HOME_MINUS_LEAGUE_AVG', 'HOME_FG3_PCT_home_AVG_LAST_10_HOME_MINUS_LEAGUE_AVG', 'HOME_AST_home_AVG_LAST_3_HOME_MINUS_LEAGUE_AVG', 'HOME_AST_home_AVG_LAST_7_HOME_MINUS_LEAGUE_AVG', 'HOME_AST_home_AVG_LAST_10_HOME_MINUS_LEAGUE_AVG', 'HOME_REB_home_AVG_LAST_3_HOME_MINUS_LEAGUE_AVG', 'HOME_REB_home_AVG_LAST_7_HOME_MINUS_LEAGUE_AVG', 'HOME_REB_home_AVG_LAST_10_HOME_MINUS_LEAGUE_AVG', 'VISITOR_TEAM_WIN_STREAK', 'VISITOR_TEAM_WINS_AVG_LAST_3_VISITOR', 'VISITOR_TEAM_WINS_AVG_LAST_7_VISITOR', 'VISITOR_TEAM_WINS_AVG_LAST_10_VISITOR', 'VISITOR_PTS_away_AVG_LAST_3_VISITOR', 'VISITOR_PTS_away_AVG_LAST_7_VISITOR', 'VISITOR_PTS_away_AVG_LAST_10_VISITOR', 'VISITOR_FG_PCT_away_AVG_LAST_3_VISITOR', 'VISITOR_FG_PCT_away_AVG_LAST_7_VISITOR', 'VISITOR_FG_PCT_away_AVG_LAST_10_VISITOR', 'VISITOR_FT_PCT_away_AVG_LAST_3_VISITOR', 'VISITOR_FT_PCT_away_AVG_LAST_7_VISITOR', 'VISITOR_FT_PCT_away_AVG_LAST_10_VISITOR', 'VISITOR_FG3_PCT_away_AVG_LAST_3_VISITOR', 'VISITOR_FG3_PCT_away_AVG_LAST_7_VISITOR', 'VISITOR_FG3_PCT_away_AVG_LAST_10_VISITOR', 'VISITOR_AST_away_AVG_LAST_3_VISITOR', 'VISITOR_AST_away_AVG_LAST_7_VISITOR', 'VISITOR_AST_away_AVG_LAST_10_VISITOR', 'VISITOR_REB_away_AVG_LAST_3_VISITOR', 'VISITOR_REB_away_AVG_LAST_7_VISITOR', 'VISITOR_REB_away_AVG_LAST_10_VISITOR', 'VISITOR_TEAM_WINS_AVG_LAST_3_VISITOR_MINUS_LEAGUE_AVG', 'VISITOR_TEAM_WINS_AVG_LAST_7_VISITOR_MINUS_LEAGUE_AVG', 'VISITOR_TEAM_WINS_AVG_LAST_10_VISITOR_MINUS_LEAGUE_AVG', 'VISITOR_PTS_away_AVG_LAST_3_VISITOR_MINUS_LEAGUE_AVG', 'VISITOR_PTS_away_AVG_LAST_7_VISITOR_MINUS_LEAGUE_AVG', 'VISITOR_PTS_away_AVG_LAST_10_VISITOR_MINUS_LEAGUE_AVG', 'VISITOR_FG_PCT_away_AVG_LAST_3_VISITOR_MINUS_LEAGUE_AVG', 'VISITOR_FG_PCT_away_AVG_LAST_7_VISITOR_MINUS_LEAGUE_AVG', 'VISITOR_FG_PCT_away_AVG_LAST_10_VISITOR_MINUS_LEAGUE_AVG', 'VISITOR_FT_PCT_away_AVG_LAST_3_VISITOR_MINUS_LEAGUE_AVG', 'VISITOR_FT_PCT_away_AVG_LAST_7_VISITOR_MINUS_LEAGUE_AVG', 'VISITOR_FT_PCT_away_AVG_LAST_10_VISITOR_MINUS_LEAGUE_AVG', 'VISITOR_FG3_PCT_away_AVG_LAST_3_VISITOR_MINUS_LEAGUE_AVG', 'VISITOR_FG3_PCT_away_AVG_LAST_7_VISITOR_MINUS_LEAGUE_AVG', 'VISITOR_FG3_PCT_away_AVG_LAST_10_VISITOR_MINUS_LEAGUE_AVG', 'VISITOR_AST_away_AVG_LAST_3_VISITOR_MINUS_LEAGUE_AVG', 'VISITOR_AST_away_AVG_LAST_7_VISITOR_MINUS_LEAGUE_AVG', 'VISITOR_AST_away_AVG_LAST_10_VISITOR_MINUS_LEAGUE_AVG', 'VISITOR_REB_away_AVG_LAST_3_VISITOR_MINUS_LEAGUE_AVG', 'VISITOR_REB_away_AVG_LAST_7_VISITOR_MINUS_LEAGUE_AVG', 'VISITOR_REB_away_AVG_LAST_10_VISITOR_MINUS_LEAGUE_AVG', 'MATCHUP_WINPCT_3_x', 'MATCHUP_WINPCT_7_x', 'MATCHUP_WINPCT_10_x', 'MATCHUP_WIN_STREAK_x', 'WIN_STREAK_x', 'HOME_AWAY_STREAK_x', 'TEAM1_win_AVG_LAST_3_ALL_x', 'TEAM1_win_AVG_LAST_7_ALL_x', 'TEAM1_win_AVG_LAST_10_ALL_x', 'TEAM1_win_AVG_LAST_15_ALL_x', 'PTS_AVG_LAST_3_ALL_x', 'PTS_AVG_LAST_7_ALL_x', 'PTS_AVG_LAST_10_ALL_x', 'PTS_AVG_LAST_15_ALL_x', 'FG_PCT_AVG_LAST_3_ALL_x', 'FG_PCT_AVG_LAST_7_ALL_x', 'FG_PCT_AVG_LAST_10_ALL_x', 'FG_PCT_AVG_LAST_15_ALL_x', 'FT_PCT_AVG_LAST_3_ALL_x', 'FT_PCT_AVG_LAST_7_ALL_x', 'FT_PCT_AVG_LAST_10_ALL_x', 'FT_PCT_AVG_LAST_15_ALL_x', 'FG3_PCT_AVG_LAST_3_ALL_x', 'FG3_PCT_AVG_LAST_7_ALL_x', 'FG3_PCT_AVG_LAST_10_ALL_x', 'FG3_PCT_AVG_LAST_15_ALL_x', 'AST_AVG_LAST_3_ALL_x', 'AST_AVG_LAST_7_ALL_x', 'AST_AVG_LAST_10_ALL_x', 'AST_AVG_LAST_15_ALL_x', 'REB_AVG_LAST_3_ALL_x', 'REB_AVG_LAST_7_ALL_x', 'REB_AVG_LAST_10_ALL_x', 'REB_AVG_LAST_15_ALL_x', 'PTS_AVG_LAST_3_ALL_MINUS_LEAGUE_AVG_x', 'PTS_AVG_LAST_7_ALL_MINUS_LEAGUE_AVG_x', 'PTS_AVG_LAST_10_ALL_MINUS_LEAGUE_AVG_x', 'PTS_AVG_LAST_15_ALL_MINUS_LEAGUE_AVG_x', 'FG_PCT_AVG_LAST_3_ALL_MINUS_LEAGUE_AVG_x', 'FG_PCT_AVG_LAST_7_ALL_MINUS_LEAGUE_AVG_x', 'FG_PCT_AVG_LAST_10_ALL_MINUS_LEAGUE_AVG_x', 'FG_PCT_AVG_LAST_15_ALL_MINUS_LEAGUE_AVG_x', 'FT_PCT_AVG_LAST_3_ALL_MINUS_LEAGUE_AVG_x', 'FT_PCT_AVG_LAST_7_ALL_MINUS_LEAGUE_AVG_x', 'FT_PCT_AVG_LAST_10_ALL_MINUS_LEAGUE_AVG_x', 'FT_PCT_AVG_LAST_15_ALL_MINUS_LEAGUE_AVG_x', 'FG3_PCT_AVG_LAST_3_ALL_MINUS_LEAGUE_AVG_x', 'FG3_PCT_AVG_LAST_7_ALL_MINUS_LEAGUE_AVG_x', 'FG3_PCT_AVG_LAST_10_ALL_MINUS_LEAGUE_AVG_x', 'FG3_PCT_AVG_LAST_15_ALL_MINUS_LEAGUE_AVG_x', 'AST_AVG_LAST_3_ALL_MINUS_LEAGUE_AVG_x', 'AST_AVG_LAST_7_ALL_MINUS_LEAGUE_AVG_x', 'AST_AVG_LAST_10_ALL_MINUS_LEAGUE_AVG_x', 'AST_AVG_LAST_15_ALL_MINUS_LEAGUE_AVG_x', 'REB_AVG_LAST_3_ALL_MINUS_LEAGUE_AVG_x', 'REB_AVG_LAST_7_ALL_MINUS_LEAGUE_AVG_x', 'REB_AVG_LAST_10_ALL_MINUS_LEAGUE_AVG_x', 'REB_AVG_LAST_15_ALL_MINUS_LEAGUE_AVG_x', 'WIN_STREAK_y', 'HOME_AWAY_STREAK_y', 'TEAM1_win_AVG_LAST_3_ALL_y', 'TEAM1_win_AVG_LAST_7_ALL_y', 'TEAM1_win_AVG_LAST_10_ALL_y', 'TEAM1_win_AVG_LAST_15_ALL_y', 'PTS_AVG_LAST_3_ALL_y', 'PTS_AVG_LAST_7_ALL_y', 'PTS_AVG_LAST_10_ALL_y', 'PTS_AVG_LAST_15_ALL_y', 'FG_PCT_AVG_LAST_3_ALL_y', 'FG_PCT_AVG_LAST_7_ALL_y', 'FG_PCT_AVG_LAST_10_ALL_y', 'FG_PCT_AVG_LAST_15_ALL_y', 'FT_PCT_AVG_LAST_3_ALL_y', 'FT_PCT_AVG_LAST_7_ALL_y', 'FT_PCT_AVG_LAST_10_ALL_y', 'FT_PCT_AVG_LAST_15_ALL_y', 'FG3_PCT_AVG_LAST_3_ALL_y', 'FG3_PCT_AVG_LAST_7_ALL_y', 'FG3_PCT_AVG_LAST_10_ALL_y', 'FG3_PCT_AVG_LAST_15_ALL_y', 'AST_AVG_LAST_3_ALL_y', 'AST_AVG_LAST_7_ALL_y', 'AST_AVG_LAST_10_ALL_y', 'AST_AVG_LAST_15_ALL_y', 'REB_AVG_LAST_3_ALL_y', 'REB_AVG_LAST_7_ALL_y', 'REB_AVG_LAST_10_ALL_y', 'REB_AVG_LAST_15_ALL_y', 'PTS_AVG_LAST_3_ALL_MINUS_LEAGUE_AVG_y', 'PTS_AVG_LAST_7_ALL_MINUS_LEAGUE_AVG_y', 'PTS_AVG_LAST_10_ALL_MINUS_LEAGUE_AVG_y', 'PTS_AVG_LAST_15_ALL_MINUS_LEAGUE_AVG_y', 'FG_PCT_AVG_LAST_3_ALL_MINUS_LEAGUE_AVG_y', 'FG_PCT_AVG_LAST_7_ALL_MINUS_LEAGUE_AVG_y', 'FG_PCT_AVG_LAST_10_ALL_MINUS_LEAGUE_AVG_y', 'FG_PCT_AVG_LAST_15_ALL_MINUS_LEAGUE_AVG_y', 'FT_PCT_AVG_LAST_3_ALL_MINUS_LEAGUE_AVG_y', 'FT_PCT_AVG_LAST_7_ALL_MINUS_LEAGUE_AVG_y', 'FT_PCT_AVG_LAST_10_ALL_MINUS_LEAGUE_AVG_y', 'FT_PCT_AVG_LAST_15_ALL_MINUS_LEAGUE_AVG_y', 'FG3_PCT_AVG_LAST_3_ALL_MINUS_LEAGUE_AVG_y', 'FG3_PCT_AVG_LAST_7_ALL_MINUS_LEAGUE_AVG_y', 'FG3_PCT_AVG_LAST_10_ALL_MINUS_LEAGUE_AVG_y', 'FG3_PCT_AVG_LAST_15_ALL_MINUS_LEAGUE_AVG_y', 'AST_AVG_LAST_3_ALL_MINUS_LEAGUE_AVG_y', 'AST_AVG_LAST_7_ALL_MINUS_LEAGUE_AVG_y', 'AST_AVG_LAST_10_ALL_MINUS_LEAGUE_AVG_y', 'AST_AVG_LAST_15_ALL_MINUS_LEAGUE_AVG_y', 'REB_AVG_LAST_3_ALL_MINUS_LEAGUE_AVG_y', 'REB_AVG_LAST_7_ALL_MINUS_LEAGUE_AVG_y', 'REB_AVG_LAST_10_ALL_MINUS_LEAGUE_AVG_y', 'REB_AVG_LAST_15_ALL_MINUS_LEAGUE_AVG_y', 'WIN_STREAK_x_minus_y', 'HOME_AWAY_STREAK_x_minus_y', 'TEAM1_win_AVG_LAST_3_ALL_x_minus_y', 'TEAM1_win_AVG_LAST_7_ALL_x_minus_y', 'TEAM1_win_AVG_LAST_10_ALL_x_minus_y', 'TEAM1_win_AVG_LAST_15_ALL_x_minus_y', 'PTS_AVG_LAST_3_ALL_x_minus_y', 'PTS_AVG_LAST_7_ALL_x_minus_y', 'PTS_AVG_LAST_10_ALL_x_minus_y', 'PTS_AVG_LAST_15_ALL_x_minus_y', 'FG_PCT_AVG_LAST_3_ALL_x_minus_y', 'FG_PCT_AVG_LAST_7_ALL_x_minus_y', 'FG_PCT_AVG_LAST_10_ALL_x_minus_y', 'FG_PCT_AVG_LAST_15_ALL_x_minus_y', 'FT_PCT_AVG_LAST_3_ALL_x_minus_y', 'FT_PCT_AVG_LAST_7_ALL_x_minus_y', 'FT_PCT_AVG_LAST_10_ALL_x_minus_y', 'FT_PCT_AVG_LAST_15_ALL_x_minus_y', 'FG3_PCT_AVG_LAST_3_ALL_x_minus_y', 'FG3_PCT_AVG_LAST_7_ALL_x_minus_y', 'FG3_PCT_AVG_LAST_10_ALL_x_minus_y', 'FG3_PCT_AVG_LAST_15_ALL_x_minus_y', 'AST_AVG_LAST_3_ALL_x_minus_y', 'AST_AVG_LAST_7_ALL_x_minus_y', 'AST_AVG_LAST_10_ALL_x_minus_y', 'AST_AVG_LAST_15_ALL_x_minus_y', 'REB_AVG_LAST_3_ALL_x_minus_y', 'REB_AVG_LAST_7_ALL_x_minus_y', 'REB_AVG_LAST_10_ALL_x_minus_y', 'REB_AVG_LAST_15_ALL_x_minus_y']`. Feature names are sanitized to lower case in the feature store.\n"
     ]
    },
    {
     "data": {
      "application/vnd.jupyter.widget-view+json": {
       "model_id": "d9e82b05c01c47dcb563887f5c2efc3a",
       "version_major": 2,
       "version_minor": 0
      },
      "text/plain": [
       "Uploading Dataframe: 0.00% |          | Rows 0/24089 | Elapsed Time: 00:00 | Remaining Time: ?"
      ]
     },
     "metadata": {},
     "output_type": "display_data"
    },
    {
     "name": "stdout",
     "output_type": "stream",
     "text": [
      "Launching job: rolling_stats_2_offline_fg_materialization\n",
      "Job started successfully, you can follow the progress at \n",
      "https://c.app.hopsworks.ai/p/90261/jobs/named/rolling_stats_2_offline_fg_materialization/executions\n"
     ]
    }
   ],
   "source": [
    "# HOPSWORKS can be kinda buggy and has been throwing a lot of errors recently or even just failing to return data\n",
    "# so I'm adding a try/except block to retry the query if it fails\n",
    "tries = 5\n",
    "\n",
    "if UPDATE_WF:\n",
    "    for i in range(tries):\n",
    "        \n",
    "        try:\n",
    "            rolling_stats_fg.insert(df_combined, overwrite = True, write_options={\"wait_for_job\" : False})\n",
    "        except KeyError as e:\n",
    "            if i < tries - 1: \n",
    "                time.sleep(30)\n",
    "                continue\n",
    "            else:\n",
    "                raise ValueError('HOPSWORKS failed to connect')\n",
    "        break\n",
    "\n"
   ]
  }
 ],
 "metadata": {
  "kernelspec": {
   "display_name": "nba3",
   "language": "python",
   "name": "python3"
  },
  "language_info": {
   "codemirror_mode": {
    "name": "ipython",
    "version": 3
   },
   "file_extension": ".py",
   "mimetype": "text/x-python",
   "name": "python",
   "nbconvert_exporter": "python",
   "pygments_lexer": "ipython3",
   "version": "3.10.12"
  },
  "vscode": {
   "interpreter": {
    "hash": "4655998f62ad965cbd25df51edb717f2326f5df53d53899f0ae604225aa5ae06"
   }
  },
  "widgets": {
   "application/vnd.jupyter.widget-state+json": {
    "state": {
     "0dafb7a8cae945ec9684fef4cef6195d": {
      "model_module": "@jupyter-widgets/base",
      "model_module_version": "2.0.0",
      "model_name": "LayoutModel",
      "state": {
       "_model_module": "@jupyter-widgets/base",
       "_model_module_version": "2.0.0",
       "_model_name": "LayoutModel",
       "_view_count": null,
       "_view_module": "@jupyter-widgets/base",
       "_view_module_version": "2.0.0",
       "_view_name": "LayoutView",
       "align_content": null,
       "align_items": null,
       "align_self": null,
       "border_bottom": null,
       "border_left": null,
       "border_right": null,
       "border_top": null,
       "bottom": null,
       "display": null,
       "flex": null,
       "flex_flow": null,
       "grid_area": null,
       "grid_auto_columns": null,
       "grid_auto_flow": null,
       "grid_auto_rows": null,
       "grid_column": null,
       "grid_gap": null,
       "grid_row": null,
       "grid_template_areas": null,
       "grid_template_columns": null,
       "grid_template_rows": null,
       "height": null,
       "justify_content": null,
       "justify_items": null,
       "left": null,
       "margin": null,
       "max_height": null,
       "max_width": null,
       "min_height": null,
       "min_width": null,
       "object_fit": null,
       "object_position": null,
       "order": null,
       "overflow": null,
       "padding": null,
       "right": null,
       "top": null,
       "visibility": null,
       "width": null
      }
     },
     "38f6df2358db4c08b3ab50ba9844e512": {
      "model_module": "@jupyter-widgets/controls",
      "model_module_version": "2.0.0",
      "model_name": "HTMLStyleModel",
      "state": {
       "_model_module": "@jupyter-widgets/controls",
       "_model_module_version": "2.0.0",
       "_model_name": "HTMLStyleModel",
       "_view_count": null,
       "_view_module": "@jupyter-widgets/base",
       "_view_module_version": "2.0.0",
       "_view_name": "StyleView",
       "background": null,
       "description_width": "",
       "font_size": null,
       "text_color": null
      }
     },
     "453b99c1b5a447959208e156bf615d10": {
      "model_module": "@jupyter-widgets/base",
      "model_module_version": "2.0.0",
      "model_name": "LayoutModel",
      "state": {
       "_model_module": "@jupyter-widgets/base",
       "_model_module_version": "2.0.0",
       "_model_name": "LayoutModel",
       "_view_count": null,
       "_view_module": "@jupyter-widgets/base",
       "_view_module_version": "2.0.0",
       "_view_name": "LayoutView",
       "align_content": null,
       "align_items": null,
       "align_self": null,
       "border_bottom": null,
       "border_left": null,
       "border_right": null,
       "border_top": null,
       "bottom": null,
       "display": null,
       "flex": null,
       "flex_flow": null,
       "grid_area": null,
       "grid_auto_columns": null,
       "grid_auto_flow": null,
       "grid_auto_rows": null,
       "grid_column": null,
       "grid_gap": null,
       "grid_row": null,
       "grid_template_areas": null,
       "grid_template_columns": null,
       "grid_template_rows": null,
       "height": null,
       "justify_content": null,
       "justify_items": null,
       "left": null,
       "margin": null,
       "max_height": null,
       "max_width": null,
       "min_height": null,
       "min_width": null,
       "object_fit": null,
       "object_position": null,
       "order": null,
       "overflow": null,
       "padding": null,
       "right": null,
       "top": null,
       "visibility": null,
       "width": null
      }
     },
     "6ad76cc1c24f4ea6b8ec472cbdada5d4": {
      "model_module": "@jupyter-widgets/controls",
      "model_module_version": "2.0.0",
      "model_name": "FloatProgressModel",
      "state": {
       "_dom_classes": [],
       "_model_module": "@jupyter-widgets/controls",
       "_model_module_version": "2.0.0",
       "_model_name": "FloatProgressModel",
       "_view_count": null,
       "_view_module": "@jupyter-widgets/controls",
       "_view_module_version": "2.0.0",
       "_view_name": "ProgressView",
       "bar_style": "success",
       "description": "",
       "description_allow_html": false,
       "layout": "IPY_MODEL_d2bb097606ff4fc1bea07f1bfc28c276",
       "max": 24089.0,
       "min": 0.0,
       "orientation": "horizontal",
       "style": "IPY_MODEL_7795806997f34419b14db5411ba33850",
       "tabbable": null,
       "tooltip": null,
       "value": 24089.0
      }
     },
     "7795806997f34419b14db5411ba33850": {
      "model_module": "@jupyter-widgets/controls",
      "model_module_version": "2.0.0",
      "model_name": "ProgressStyleModel",
      "state": {
       "_model_module": "@jupyter-widgets/controls",
       "_model_module_version": "2.0.0",
       "_model_name": "ProgressStyleModel",
       "_view_count": null,
       "_view_module": "@jupyter-widgets/base",
       "_view_module_version": "2.0.0",
       "_view_name": "StyleView",
       "bar_color": null,
       "description_width": ""
      }
     },
     "7b31ba6ceee64418a9d59409246859a3": {
      "model_module": "@jupyter-widgets/controls",
      "model_module_version": "2.0.0",
      "model_name": "HTMLStyleModel",
      "state": {
       "_model_module": "@jupyter-widgets/controls",
       "_model_module_version": "2.0.0",
       "_model_name": "HTMLStyleModel",
       "_view_count": null,
       "_view_module": "@jupyter-widgets/base",
       "_view_module_version": "2.0.0",
       "_view_name": "StyleView",
       "background": null,
       "description_width": "",
       "font_size": null,
       "text_color": null
      }
     },
     "b7290eda721045d8b56e45587b748df6": {
      "model_module": "@jupyter-widgets/base",
      "model_module_version": "2.0.0",
      "model_name": "LayoutModel",
      "state": {
       "_model_module": "@jupyter-widgets/base",
       "_model_module_version": "2.0.0",
       "_model_name": "LayoutModel",
       "_view_count": null,
       "_view_module": "@jupyter-widgets/base",
       "_view_module_version": "2.0.0",
       "_view_name": "LayoutView",
       "align_content": null,
       "align_items": null,
       "align_self": null,
       "border_bottom": null,
       "border_left": null,
       "border_right": null,
       "border_top": null,
       "bottom": null,
       "display": null,
       "flex": null,
       "flex_flow": null,
       "grid_area": null,
       "grid_auto_columns": null,
       "grid_auto_flow": null,
       "grid_auto_rows": null,
       "grid_column": null,
       "grid_gap": null,
       "grid_row": null,
       "grid_template_areas": null,
       "grid_template_columns": null,
       "grid_template_rows": null,
       "height": null,
       "justify_content": null,
       "justify_items": null,
       "left": null,
       "margin": null,
       "max_height": null,
       "max_width": null,
       "min_height": null,
       "min_width": null,
       "object_fit": null,
       "object_position": null,
       "order": null,
       "overflow": null,
       "padding": null,
       "right": null,
       "top": null,
       "visibility": null,
       "width": null
      }
     },
     "c03ab04cf5564120a0beee930261e26f": {
      "model_module": "@jupyter-widgets/controls",
      "model_module_version": "2.0.0",
      "model_name": "HTMLModel",
      "state": {
       "_dom_classes": [],
       "_model_module": "@jupyter-widgets/controls",
       "_model_module_version": "2.0.0",
       "_model_name": "HTMLModel",
       "_view_count": null,
       "_view_module": "@jupyter-widgets/controls",
       "_view_module_version": "2.0.0",
       "_view_name": "HTMLView",
       "description": "",
       "description_allow_html": false,
       "layout": "IPY_MODEL_0dafb7a8cae945ec9684fef4cef6195d",
       "placeholder": "​",
       "style": "IPY_MODEL_38f6df2358db4c08b3ab50ba9844e512",
       "tabbable": null,
       "tooltip": null,
       "value": "Uploading Dataframe: 100.00% "
      }
     },
     "d2bb097606ff4fc1bea07f1bfc28c276": {
      "model_module": "@jupyter-widgets/base",
      "model_module_version": "2.0.0",
      "model_name": "LayoutModel",
      "state": {
       "_model_module": "@jupyter-widgets/base",
       "_model_module_version": "2.0.0",
       "_model_name": "LayoutModel",
       "_view_count": null,
       "_view_module": "@jupyter-widgets/base",
       "_view_module_version": "2.0.0",
       "_view_name": "LayoutView",
       "align_content": null,
       "align_items": null,
       "align_self": null,
       "border_bottom": null,
       "border_left": null,
       "border_right": null,
       "border_top": null,
       "bottom": null,
       "display": null,
       "flex": null,
       "flex_flow": null,
       "grid_area": null,
       "grid_auto_columns": null,
       "grid_auto_flow": null,
       "grid_auto_rows": null,
       "grid_column": null,
       "grid_gap": null,
       "grid_row": null,
       "grid_template_areas": null,
       "grid_template_columns": null,
       "grid_template_rows": null,
       "height": null,
       "justify_content": null,
       "justify_items": null,
       "left": null,
       "margin": null,
       "max_height": null,
       "max_width": null,
       "min_height": null,
       "min_width": null,
       "object_fit": null,
       "object_position": null,
       "order": null,
       "overflow": null,
       "padding": null,
       "right": null,
       "top": null,
       "visibility": null,
       "width": null
      }
     },
     "d9e82b05c01c47dcb563887f5c2efc3a": {
      "model_module": "@jupyter-widgets/controls",
      "model_module_version": "2.0.0",
      "model_name": "HBoxModel",
      "state": {
       "_dom_classes": [],
       "_model_module": "@jupyter-widgets/controls",
       "_model_module_version": "2.0.0",
       "_model_name": "HBoxModel",
       "_view_count": null,
       "_view_module": "@jupyter-widgets/controls",
       "_view_module_version": "2.0.0",
       "_view_name": "HBoxView",
       "box_style": "",
       "children": [
        "IPY_MODEL_c03ab04cf5564120a0beee930261e26f",
        "IPY_MODEL_6ad76cc1c24f4ea6b8ec472cbdada5d4",
        "IPY_MODEL_e9cf8450a7bb4bb38eeaa314fee31890"
       ],
       "layout": "IPY_MODEL_b7290eda721045d8b56e45587b748df6",
       "tabbable": null,
       "tooltip": null
      }
     },
     "e9cf8450a7bb4bb38eeaa314fee31890": {
      "model_module": "@jupyter-widgets/controls",
      "model_module_version": "2.0.0",
      "model_name": "HTMLModel",
      "state": {
       "_dom_classes": [],
       "_model_module": "@jupyter-widgets/controls",
       "_model_module_version": "2.0.0",
       "_model_name": "HTMLModel",
       "_view_count": null,
       "_view_module": "@jupyter-widgets/controls",
       "_view_module_version": "2.0.0",
       "_view_name": "HTMLView",
       "description": "",
       "description_allow_html": false,
       "layout": "IPY_MODEL_453b99c1b5a447959208e156bf615d10",
       "placeholder": "​",
       "style": "IPY_MODEL_7b31ba6ceee64418a9d59409246859a3",
       "tabbable": null,
       "tooltip": null,
       "value": " Rows 24089/24089 | Elapsed Time: 00:13 | Remaining Time: 00:00"
      }
     }
    },
    "version_major": 2,
    "version_minor": 0
   }
  }
 },
 "nbformat": 4,
 "nbformat_minor": 5
}
