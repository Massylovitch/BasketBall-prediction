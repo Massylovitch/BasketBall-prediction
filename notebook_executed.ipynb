{
 "cells": [
  {
   "attachments": {},
   "cell_type": "markdown",
   "id": "f8e4f389",
   "metadata": {},
   "source": [
    "### Production Features Pipeline"
   ]
  },
  {
   "cell_type": "code",
   "execution_count": 1,
   "id": "89fd0a47",
   "metadata": {
    "execution": {
     "iopub.execute_input": "2025-03-22T11:36:05.556198Z",
     "iopub.status.busy": "2025-03-22T11:36:05.556014Z",
     "iopub.status.idle": "2025-03-22T11:36:05.559288Z",
     "shell.execute_reply": "2025-03-22T11:36:05.558859Z"
    }
   },
   "outputs": [],
   "source": [
    "# select web scraper; 'SCRAPINGANT' or 'SELENIUM'\n",
    "# SCRAPINGANT requires a subscription but includes a proxy server\n",
    "\n",
    "WEBSCRAPER = 'SCRAPINGANT'\n",
    "# WEBSCRAPER = \"SELENIUM\""
   ]
  },
  {
   "cell_type": "code",
   "execution_count": 2,
   "id": "2f0c58a3-8738-42ad-be18-8e13c171108f",
   "metadata": {
    "execution": {
     "iopub.execute_input": "2025-03-22T11:36:05.561195Z",
     "iopub.status.busy": "2025-03-22T11:36:05.560852Z",
     "iopub.status.idle": "2025-03-22T11:36:06.612162Z",
     "shell.execute_reply": "2025-03-22T11:36:06.611667Z"
    }
   },
   "outputs": [],
   "source": [
    "import os\n",
    "\n",
    "import pandas as pd\n",
    "import numpy as np\n",
    "\n",
    "import hopsworks\n",
    "\n",
    "from datetime import datetime, timedelta\n",
    "from pytz import timezone\n",
    "\n",
    "import json\n",
    "\n",
    "import time\n",
    "\n",
    "from pathlib import Path  # for Windows/Linux compatibility\n",
    "\n",
    "# change working directory to project root when running from notebooks folder to make it easier to import modules\n",
    "# and to access sibling folders\n",
    "os.chdir(\"..\")\n",
    "\n",
    "\n",
    "from src.utils.webscraping import (\n",
    "    get_new_games,\n",
    "    activate_web_driver,\n",
    "    get_todays_matchups,\n",
    ")\n",
    "\n",
    "from src.data.cleaning import (\n",
    "    process_games,\n",
    "    add_TARGET,\n",
    ")\n",
    "\n",
    "from src.data.build_features import (\n",
    "    process_features,\n",
    ")\n",
    "\n",
    "from src.utils.hopsworks_utils import (\n",
    "    save_feature_names,\n",
    "    convert_feature_names,\n",
    ")\n",
    "\n",
    "from src.utils.constants import (\n",
    "    FEATURE_GROUP_VERSION,\n",
    ")\n",
    "\n",
    "DATAPATH = Path(r\"data\")"
   ]
  },
  {
   "cell_type": "markdown",
   "id": "e754aaa7",
   "metadata": {},
   "source": [
    "**Load API keys**"
   ]
  },
  {
   "cell_type": "code",
   "execution_count": 3,
   "id": "1124d9cf-8a24-4a04-bf68-c7dc7ff1d276",
   "metadata": {
    "execution": {
     "iopub.execute_input": "2025-03-22T11:36:06.614519Z",
     "iopub.status.busy": "2025-03-22T11:36:06.614033Z",
     "iopub.status.idle": "2025-03-22T11:36:06.618541Z",
     "shell.execute_reply": "2025-03-22T11:36:06.618061Z"
    }
   },
   "outputs": [
    {
     "name": "stdout",
     "output_type": "stream",
     "text": [
      "75f65\n"
     ]
    }
   ],
   "source": [
    "from dotenv import load_dotenv\n",
    "\n",
    "load_dotenv()\n",
    "\n",
    "try:\n",
    "    HOPSWORKS_API_KEY = os.environ[\"HOPSWORKS_API_KEY\"]\n",
    "except:\n",
    "    raise Exception(\"Set environment variable HOPSWORKS_API_KEY\")\n",
    "\n",
    "# if scrapingant is chosen then set the api key, otherwise load the selenium webdriver\n",
    "if WEBSCRAPER == \"SCRAPINGANT\":\n",
    "    try:\n",
    "        SCRAPINGANT_API_KEY = os.environ[\"SCRAPINGANT_API_KEY\"]\n",
    "    except:\n",
    "        raise Exception(\"Set environment variable SCRAPINGANT_API_KEY\")\n",
    "    driver = None\n",
    "\n",
    "elif WEBSCRAPER == \"SELENIUM\":\n",
    "    driver = activate_web_driver()\n",
    "    SCRAPINGANT_API_KEY = \"\"\n",
    "\n",
    "print(SCRAPINGANT_API_KEY[:5])"
   ]
  },
  {
   "attachments": {},
   "cell_type": "markdown",
   "id": "2f29eac3-4b58-4a07-bdba-b4c72cb491ec",
   "metadata": {},
   "source": [
    "**Scrape New Completed Games and Format Them**"
   ]
  },
  {
   "cell_type": "code",
   "execution_count": 4,
   "id": "0e81e4bd-45fa-44f6-bbb3-7d1821c56963",
   "metadata": {
    "execution": {
     "iopub.execute_input": "2025-03-22T11:36:06.620514Z",
     "iopub.status.busy": "2025-03-22T11:36:06.620147Z",
     "iopub.status.idle": "2025-03-22T11:36:28.538806Z",
     "shell.execute_reply": "2025-03-22T11:36:28.538141Z"
    }
   },
   "outputs": [
    {
     "name": "stdout",
     "output_type": "stream",
     "text": [
      "Current month is 03\n",
      "Scraping https://www.nba.com/stats/teams/boxscores?SeasonType=Regular+Season&DateFrom=03/15/25&DateTo=03/22/25\n",
      "USING SCARAPER API\n"
     ]
    },
    {
     "name": "stdout",
     "output_type": "stream",
     "text": [
      "  GAME_DATE_EST  HOME_TEAM_WINS  PTS_home  FG_PCT_home  FG3_PCT_home  \\\n",
      "0    2025-03-21               1       128         54.0          40.0   \n",
      "1    2025-03-21               1       128         57.7          50.0   \n",
      "2    2025-03-21               1       123         52.2          45.2   \n",
      "3    2025-03-21               0        99         45.2          40.0   \n",
      "4    2025-03-21               1       123         52.5          35.3   \n",
      "\n",
      "   FT_PCT_home  REB_home  AST_home  HOME_TEAM_ID   GAME_ID  PTS_away  \\\n",
      "0         80.0        38        30    1610612757  22401022       109   \n",
      "1         80.8        43        29    1610612746  22401023       108   \n",
      "2        100.0        46        33    1610612756  22401021       112   \n",
      "3         75.0        38        24    1610612762  22401020       121   \n",
      "4         75.0        44        25    1610612742  22401019       117   \n",
      "\n",
      "   FG_PCT_away  FG3_PCT_away  FT_PCT_away  REB_away  AST_away  \\\n",
      "0         50.0          34.6         85.7        31        24   \n",
      "1         42.1          38.8         69.2        40        28   \n",
      "2         44.7          37.8         78.6        44        24   \n",
      "3         46.4          33.3         87.5        48        27   \n",
      "4         46.9          35.5         73.7        41        24   \n",
      "\n",
      "   VISITOR_TEAM_ID  SEASON  \n",
      "0       1610612743    2024  \n",
      "1       1610612763    2024  \n",
      "2       1610612739    2024  \n",
      "3       1610612738    2024  \n",
      "4       1610612765    2024  \n"
     ]
    },
    {
     "name": "stderr",
     "output_type": "stream",
     "text": [
      "FutureWarning: Passing literal html to 'read_html' is deprecated and will be removed in a future version. To read from a literal string, wrap it in a 'StringIO' object.\n"
     ]
    }
   ],
   "source": [
    "df_new = get_new_games(SCRAPINGANT_API_KEY, driver)\n",
    "\n",
    "if df_new.empty:\n",
    "    print(\"No new games to process\")\n",
    "else:\n",
    "\n",
    "    # get the SEASON of the last game in the database\n",
    "    # this will used when constructing rows for prediction\n",
    "    SEASON = df_new[\"SEASON\"].max()\n",
    "\n",
    "print(df_new.head())"
   ]
  }
 ],
 "metadata": {
  "kernelspec": {
   "display_name": "basketball-prediction-klrE3EAW-py3.12",
   "language": "python",
   "name": "python3"
  },
  "language_info": {
   "codemirror_mode": {
    "name": "ipython",
    "version": 3
   },
   "file_extension": ".py",
   "mimetype": "text/x-python",
   "name": "python",
   "nbconvert_exporter": "python",
   "pygments_lexer": "ipython3",
   "version": "3.12.3"
  }
 },
 "nbformat": 4,
 "nbformat_minor": 5
}
