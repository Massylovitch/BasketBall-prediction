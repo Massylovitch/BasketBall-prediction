{
 "cells": [
  {
   "attachments": {},
   "cell_type": "markdown",
   "id": "f8e4f389",
   "metadata": {},
   "source": [
    "### Production Features Pipeline"
   ]
  },
  {
   "cell_type": "code",
   "execution_count": 1,
   "id": "89fd0a47",
   "metadata": {
    "execution": {
     "iopub.execute_input": "2025-03-22T01:05:15.242591Z",
     "iopub.status.busy": "2025-03-22T01:05:15.242424Z",
     "iopub.status.idle": "2025-03-22T01:05:15.245667Z",
     "shell.execute_reply": "2025-03-22T01:05:15.245109Z"
    }
   },
   "outputs": [],
   "source": [
    "# select web scraper; 'SCRAPINGANT' or 'SELENIUM'\n",
    "# SCRAPINGANT requires a subscription but includes a proxy server\n",
    "\n",
    "# WEBSCRAPER = 'SCRAPINGANT'\n",
    "WEBSCRAPER = \"SELENIUM\""
   ]
  },
  {
   "cell_type": "code",
   "execution_count": 2,
   "id": "2f0c58a3-8738-42ad-be18-8e13c171108f",
   "metadata": {
    "execution": {
     "iopub.execute_input": "2025-03-22T01:05:15.247533Z",
     "iopub.status.busy": "2025-03-22T01:05:15.247176Z",
     "iopub.status.idle": "2025-03-22T01:05:16.244600Z",
     "shell.execute_reply": "2025-03-22T01:05:16.244018Z"
    }
   },
   "outputs": [],
   "source": [
    "import os\n",
    "\n",
    "import pandas as pd\n",
    "import numpy as np\n",
    "\n",
    "import hopsworks\n",
    "\n",
    "from datetime import datetime, timedelta\n",
    "from pytz import timezone\n",
    "\n",
    "import json\n",
    "\n",
    "import time\n",
    "\n",
    "from pathlib import Path  # for Windows/Linux compatibility\n",
    "\n",
    "# change working directory to project root when running from notebooks folder to make it easier to import modules\n",
    "# and to access sibling folders\n",
    "os.chdir(\"..\")\n",
    "\n",
    "\n",
    "from src.utils.webscraping import (\n",
    "    get_new_games,\n",
    "    activate_web_driver,\n",
    "    get_todays_matchups,\n",
    ")\n",
    "\n",
    "from src.data.cleaning import (\n",
    "    process_games,\n",
    "    add_TARGET,\n",
    ")\n",
    "\n",
    "from src.data.build_features import (\n",
    "    process_features,\n",
    ")\n",
    "\n",
    "from src.utils.hopsworks_utils import (\n",
    "    save_feature_names,\n",
    "    convert_feature_names,\n",
    ")\n",
    "\n",
    "from src.utils.constants import (\n",
    "    FEATURE_GROUP_VERSION,\n",
    ")\n",
    "\n",
    "DATAPATH = Path(r\"data\")"
   ]
  },
  {
   "cell_type": "markdown",
   "id": "e754aaa7",
   "metadata": {},
   "source": [
    "**Load API keys**"
   ]
  },
  {
   "cell_type": "code",
   "execution_count": 3,
   "id": "1124d9cf-8a24-4a04-bf68-c7dc7ff1d276",
   "metadata": {
    "execution": {
     "iopub.execute_input": "2025-03-22T01:05:16.246757Z",
     "iopub.status.busy": "2025-03-22T01:05:16.246479Z",
     "iopub.status.idle": "2025-03-22T01:05:16.947348Z",
     "shell.execute_reply": "2025-03-22T01:05:16.946673Z"
    }
   },
   "outputs": [],
   "source": [
    "from dotenv import load_dotenv\n",
    "\n",
    "load_dotenv()\n",
    "\n",
    "try:\n",
    "    HOPSWORKS_API_KEY = os.environ[\"HOPSWORKS_API_KEY\"]\n",
    "except:\n",
    "    raise Exception(\"Set environment variable HOPSWORKS_API_KEY\")\n",
    "\n",
    "# if scrapingant is chosen then set the api key, otherwise load the selenium webdriver\n",
    "if WEBSCRAPER == \"SCRAPINGANT\":\n",
    "    try:\n",
    "        SCRAPINGANT_API_KEY = os.environ[\"SCRAPINGANT_API_KEY\"]\n",
    "    except:\n",
    "        raise Exception(\"Set environment variable SCRAPINGANT_API_KEY\")\n",
    "    driver = None\n",
    "\n",
    "elif WEBSCRAPER == \"SELENIUM\":\n",
    "    driver = activate_web_driver()\n",
    "    SCRAPINGANT_API_KEY = \"\""
   ]
  },
  {
   "attachments": {},
   "cell_type": "markdown",
   "id": "2f29eac3-4b58-4a07-bdba-b4c72cb491ec",
   "metadata": {},
   "source": [
    "**Scrape New Completed Games and Format Them**"
   ]
  },
  {
   "cell_type": "code",
   "execution_count": 4,
   "id": "0e81e4bd-45fa-44f6-bbb3-7d1821c56963",
   "metadata": {
    "execution": {
     "iopub.execute_input": "2025-03-22T01:05:16.949795Z",
     "iopub.status.busy": "2025-03-22T01:05:16.949413Z",
     "iopub.status.idle": "2025-03-22T01:05:42.899051Z",
     "shell.execute_reply": "2025-03-22T01:05:42.898458Z"
    }
   },
   "outputs": [
    {
     "name": "stdout",
     "output_type": "stream",
     "text": [
      "Current month is 03\n",
      "Scraping https://www.nba.com/stats/teams/boxscores?SeasonType=Regular+Season&DateFrom=03/14/25&DateTo=03/21/25\n"
     ]
    },
    {
     "name": "stdout",
     "output_type": "stream",
     "text": [
      "No new games to process\n"
     ]
    }
   ],
   "source": [
    "df_new = get_new_games(SCRAPINGANT_API_KEY, driver)\n",
    "\n",
    "if df_new.empty:\n",
    "    print(\"No new games to process\")\n",
    "else:\n",
    "\n",
    "    # get the SEASON of the last game in the database\n",
    "    # this will used when constructing rows for prediction\n",
    "    SEASON = df_new[\"SEASON\"].max()\n",
    "\n",
    "    df_new.head()"
   ]
  }
 ],
 "metadata": {
  "kernelspec": {
   "display_name": "basketball-prediction-klrE3EAW-py3.12",
   "language": "python",
   "name": "python3"
  },
  "language_info": {
   "codemirror_mode": {
    "name": "ipython",
    "version": 3
   },
   "file_extension": ".py",
   "mimetype": "text/x-python",
   "name": "python",
   "nbconvert_exporter": "python",
   "pygments_lexer": "ipython3",
   "version": "3.12.3"
  }
 },
 "nbformat": 4,
 "nbformat_minor": 5
}
