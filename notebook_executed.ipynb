{
 "cells": [
  {
   "attachments": {},
   "cell_type": "markdown",
   "id": "f8e4f389",
   "metadata": {},
   "source": [
    "### Production Features Pipeline"
   ]
  },
  {
   "cell_type": "code",
   "execution_count": 1,
   "id": "89fd0a47",
   "metadata": {
    "execution": {
     "iopub.execute_input": "2024-11-07T12:36:21.871698Z",
     "iopub.status.busy": "2024-11-07T12:36:21.871506Z",
     "iopub.status.idle": "2024-11-07T12:36:21.877601Z",
     "shell.execute_reply": "2024-11-07T12:36:21.877093Z"
    }
   },
   "outputs": [],
   "source": [
    "# select web scraper; 'SCRAPINGANT' or 'SELENIUM'\n",
    "# SCRAPINGANT requires a subscription but includes a proxy server\n",
    "\n",
    "WEBSCRAPER = 'SCRAPINGANT'\n",
    "# WEBSCRAPER = 'SELENIUM'"
   ]
  },
  {
   "cell_type": "code",
   "execution_count": 2,
   "id": "2f0c58a3-8738-42ad-be18-8e13c171108f",
   "metadata": {
    "execution": {
     "iopub.execute_input": "2024-11-07T12:36:21.880048Z",
     "iopub.status.busy": "2024-11-07T12:36:21.879687Z",
     "iopub.status.idle": "2024-11-07T12:36:23.857929Z",
     "shell.execute_reply": "2024-11-07T12:36:23.857290Z"
    }
   },
   "outputs": [],
   "source": [
    "import os\n",
    "\n",
    "import pandas as pd\n",
    "import numpy as np\n",
    "\n",
    "import hopsworks\n",
    "\n",
    "from datetime import datetime, timedelta\n",
    "from pytz import timezone\n",
    "\n",
    "import json\n",
    "\n",
    "import time\n",
    "\n",
    "from pathlib import Path  #for Windows/Linux compatibility\n",
    "\n",
    "# change working directory to project root when running from notebooks folder to make it easier to import modules\n",
    "# and to access sibling folders\n",
    "os.chdir('..') \n",
    "\n",
    " \n",
    "from src.utils.webscraping import (\n",
    "    get_new_games,\n",
    "    activate_web_driver,\n",
    "    get_todays_matchups,\n",
    ")\n",
    "\n",
    "from src.data.cleaning import (\n",
    "    process_games,\n",
    "    add_TARGET,\n",
    ")\n",
    "\n",
    "from src.data.build_features import (\n",
    "    process_features,\n",
    ")\n",
    "\n",
    "from src.utils.hopsworks_utils import (\n",
    "    save_feature_names,\n",
    "    convert_feature_names,\n",
    ")\n",
    "\n",
    "from src.utils.constants import (\n",
    "    FEATURE_GROUP_VERSION,\n",
    ")\n",
    "\n",
    "DATAPATH = Path(r'data')"
   ]
  },
  {
   "cell_type": "markdown",
   "id": "e754aaa7",
   "metadata": {},
   "source": [
    "**Load API keys**"
   ]
  },
  {
   "cell_type": "code",
   "execution_count": 3,
   "id": "1124d9cf-8a24-4a04-bf68-c7dc7ff1d276",
   "metadata": {
    "execution": {
     "iopub.execute_input": "2024-11-07T12:36:23.861006Z",
     "iopub.status.busy": "2024-11-07T12:36:23.860547Z",
     "iopub.status.idle": "2024-11-07T12:36:23.865109Z",
     "shell.execute_reply": "2024-11-07T12:36:23.864578Z"
    }
   },
   "outputs": [],
   "source": [
    "from dotenv import load_dotenv\n",
    "\n",
    "load_dotenv()\n",
    "\n",
    "try:\n",
    "    HOPSWORKS_API_KEY = os.environ['HOPSWORKS_API_KEY']\n",
    "except:\n",
    "    raise Exception('Set environment variable HOPSWORKS_API_KEY')\n",
    "\n",
    "# if scrapingant is chosen then set the api key, otherwise load the selenium webdriver\n",
    "if WEBSCRAPER == 'SCRAPINGANT':\n",
    "    try:\n",
    "        SCRAPINGANT_API_KEY = os.environ['SCRAPINGANT_API_KEY']\n",
    "    except:\n",
    "        raise Exception('Set environment variable SCRAPINGANT_API_KEY')\n",
    "    driver = None\n",
    "    \n",
    "elif WEBSCRAPER == 'SELENIUM':\n",
    "    driver = activate_web_driver('chromium')\n",
    "    SCRAPINGANT_API_KEY = \"\"\n",
    "    \n",
    "\n"
   ]
  },
  {
   "attachments": {},
   "cell_type": "markdown",
   "id": "2f29eac3-4b58-4a07-bdba-b4c72cb491ec",
   "metadata": {},
   "source": [
    "**Scrape New Completed Games and Format Them**"
   ]
  },
  {
   "cell_type": "code",
   "execution_count": 4,
   "id": "0e81e4bd-45fa-44f6-bbb3-7d1821c56963",
   "metadata": {
    "execution": {
     "iopub.execute_input": "2024-11-07T12:36:23.867518Z",
     "iopub.status.busy": "2024-11-07T12:36:23.867301Z",
     "iopub.status.idle": "2024-11-07T12:36:56.515129Z",
     "shell.execute_reply": "2024-11-07T12:36:56.514543Z"
    }
   },
   "outputs": [
    {
     "name": "stdout",
     "output_type": "stream",
     "text": [
      "Current month is 11\n",
      "Scraping https://www.nba.com/stats/teams/boxscores?SeasonType=Regular+Season&DateFrom=10/31/24&DateTo=11/07/24\n"
     ]
    }
   ],
   "source": [
    "df_new = get_new_games(SCRAPINGANT_API_KEY, driver)\n",
    "\n",
    "if df_new.empty:\n",
    "    print('No new games to process')\n",
    "else:\n",
    "\n",
    "    # get the SEASON of the last game in the database\n",
    "    # this will used when constructing rows for prediction\n",
    "    SEASON = df_new['SEASON'].max()\n",
    "\n",
    "    df_new.head()"
   ]
  },
  {
   "attachments": {},
   "cell_type": "markdown",
   "id": "dfd78420",
   "metadata": {},
   "source": [
    "**Retrieve todays games**"
   ]
  },
  {
   "cell_type": "code",
   "execution_count": 5,
   "id": "45afa738",
   "metadata": {
    "execution": {
     "iopub.execute_input": "2024-11-07T12:36:56.518156Z",
     "iopub.status.busy": "2024-11-07T12:36:56.517761Z",
     "iopub.status.idle": "2024-11-07T12:37:29.800731Z",
     "shell.execute_reply": "2024-11-07T12:37:29.800021Z"
    }
   },
   "outputs": [
    {
     "name": "stdout",
     "output_type": "stream",
     "text": [
      "Wednesday, November 6\n",
      "Thursday, November 7\n",
      "Friday, November 8\n",
      "Saturday, November 9\n",
      "Sunday, November 10\n",
      "Monday, November 11\n",
      "Tuesday, November 12\n",
      "Wednesday, November 13\n",
      "Thursday, November 14\n",
      "Friday, November 15\n",
      "Saturday, November 16\n",
      "Sunday, November 17\n",
      "Monday, November 18\n",
      "Tuesday, November 19\n",
      "Wednesday, November 20\n",
      "Thursday, November 21\n",
      "Friday, November 22\n",
      "Saturday, November 23\n",
      "Sunday, November 24\n",
      "Monday, November 25\n",
      "Tuesday, November 26\n",
      "Wednesday, November 27\n",
      "Friday, November 29\n",
      "Saturday, November 30\n",
      "No games today\n"
     ]
    }
   ],
   "source": [
    "#retrieve list of teams playing today\n",
    "\n",
    "# get today's games on NBA schedule\n",
    "matchups, game_ids = get_todays_matchups(SCRAPINGANT_API_KEY, driver)\n",
    "\n",
    "if matchups is None:\n",
    "    print('No games today')\n",
    "else:\n",
    "    print(matchups)\n",
    "    print(game_ids)\n",
    "\n"
   ]
  },
  {
   "attachments": {},
   "cell_type": "markdown",
   "id": "3aef12e5",
   "metadata": {},
   "source": [
    "**Close Webdriver**"
   ]
  },
  {
   "cell_type": "code",
   "execution_count": 6,
   "id": "5766c712",
   "metadata": {
    "execution": {
     "iopub.execute_input": "2024-11-07T12:37:29.803642Z",
     "iopub.status.busy": "2024-11-07T12:37:29.803176Z",
     "iopub.status.idle": "2024-11-07T12:37:29.806249Z",
     "shell.execute_reply": "2024-11-07T12:37:29.805644Z"
    }
   },
   "outputs": [],
   "source": [
    "if WEBSCRAPER == 'SELENIUM':\n",
    "    driver.close() "
   ]
  },
  {
   "attachments": {},
   "cell_type": "markdown",
   "id": "4a4abb60",
   "metadata": {},
   "source": [
    "**Check if anything is going on in the season**"
   ]
  },
  {
   "cell_type": "code",
   "execution_count": 7,
   "id": "0b720127",
   "metadata": {
    "execution": {
     "iopub.execute_input": "2024-11-07T12:37:29.808820Z",
     "iopub.status.busy": "2024-11-07T12:37:29.808447Z",
     "iopub.status.idle": "2024-11-07T12:37:29.811730Z",
     "shell.execute_reply": "2024-11-07T12:37:29.811057Z"
    }
   },
   "outputs": [],
   "source": [
    "UPDATE_WF = True\n",
    "\n",
    "if (df_new.empty) and (matchups is None):\n",
    "    print('No new games to process')\n",
    "\n",
    "    UPDATE_WF = False\n",
    "    # exit()\n",
    "    "
   ]
  },
  {
   "attachments": {},
   "cell_type": "markdown",
   "id": "a43729ef",
   "metadata": {},
   "source": [
    "**Create Rows for Today's Games with Empty Stats**"
   ]
  },
  {
   "cell_type": "code",
   "execution_count": 8,
   "id": "dc4f3393",
   "metadata": {
    "execution": {
     "iopub.execute_input": "2024-11-07T12:37:29.814283Z",
     "iopub.status.busy": "2024-11-07T12:37:29.813874Z",
     "iopub.status.idle": "2024-11-07T12:37:29.819167Z",
     "shell.execute_reply": "2024-11-07T12:37:29.818481Z"
    }
   },
   "outputs": [
    {
     "name": "stdout",
     "output_type": "stream",
     "text": [
      "No games going on. Nothing to do.\n"
     ]
    }
   ],
   "source": [
    "# reformat today's matchups to the new games dataframe\n",
    "\n",
    "if matchups is None:\n",
    "    print('No games going on. Nothing to do.')\n",
    "    # exit()    \n",
    "\n",
    "else:\n",
    "\n",
    "    df_today = df_new.drop(df_new.index) #empty copy of df_new with same columns\n",
    "    for i, matchup in enumerate(matchups):\n",
    "        game_details = {'HOME_TEAM_ID': matchup[1], \n",
    "                        'VISITOR_TEAM_ID': matchup[0], \n",
    "                        'GAME_DATE_EST': datetime.now(timezone('EST')).strftime(\"%Y-%m-%d\"), \n",
    "                        'GAME_ID': int(game_ids[i]),                       \n",
    "                        'SEASON': SEASON,\n",
    "                        } \n",
    "        game_details_df = pd.DataFrame(game_details, index=[i])\n",
    "        # append to new games dataframe\n",
    "        df_today = pd.concat([df_today, game_details_df], ignore_index = True)\n",
    "\n",
    "    #blank rows will be filled with 0 to prevent issues with feature engineering\n",
    "    df_today = df_today.fillna(0) \n",
    "\n",
    "    df_today\n",
    "\n"
   ]
  },
  {
   "cell_type": "markdown",
   "id": "acfb1180-ea38-452c-9afd-73eea3ee7e17",
   "metadata": {},
   "source": [
    "**Access Feature Store**"
   ]
  },
  {
   "cell_type": "code",
   "execution_count": 9,
   "id": "ba69a88c-691e-4f8d-b68e-e79f5582a939",
   "metadata": {
    "execution": {
     "iopub.execute_input": "2024-11-07T12:37:29.821511Z",
     "iopub.status.busy": "2024-11-07T12:37:29.821207Z",
     "iopub.status.idle": "2024-11-07T12:37:30.396739Z",
     "shell.execute_reply": "2024-11-07T12:37:30.396131Z"
    }
   },
   "outputs": [
    {
     "name": "stdout",
     "output_type": "stream",
     "text": [
      "Connected. Call `.close()` to terminate connection gracefully.\n"
     ]
    },
    {
     "name": "stderr",
     "output_type": "stream",
     "text": [
      "\n",
      "\n",
      "UserWarning: The installed hopsworks client version 3.4.3 may not be compatible with the connected Hopsworks backend version 3.7.1. \n",
      "To ensure compatibility please install the latest bug fix release matching the minor version of your backend (3.7) by running 'pip install hopsworks==3.7.*'\n"
     ]
    },
    {
     "name": "stdout",
     "output_type": "stream",
     "text": [
      "\n",
      "Logged in to project, explore it here https://c.app.hopsworks.ai:443/p/90261\n",
      "Connected. Call `.close()` to terminate connection gracefully.\n"
     ]
    }
   ],
   "source": [
    "if UPDATE_WF:\n",
    "\n",
    "    project = hopsworks.login(api_key_value=HOPSWORKS_API_KEY)\n",
    "\n",
    "    # HOPSWORKS can be kinda buggy and has been throwing a lot of errors recently or even just failing to return data\n",
    "    # so I'm adding a try/except block to retry the query if it fails\n",
    "    tries = 5\n",
    "\n",
    "    for i in range(tries):\n",
    "        \n",
    "        try:\n",
    "            fs = project.get_feature_store()\n",
    "        except KeyError as e:\n",
    "            if i < tries - 1: # i is zero indexed\n",
    "                time.sleep(30)\n",
    "                continue\n",
    "            else:\n",
    "                raise ValueError('HOPSWORKS failed to connect')\n",
    "        break\n",
    "\n"
   ]
  },
  {
   "cell_type": "markdown",
   "id": "256829e7",
   "metadata": {},
   "source": [
    "**Access Feature Group**"
   ]
  },
  {
   "cell_type": "code",
   "execution_count": 10,
   "id": "641d97e5-0888-42c3-a9b1-97c9ef2b7082",
   "metadata": {
    "execution": {
     "iopub.execute_input": "2024-11-07T12:37:30.399629Z",
     "iopub.status.busy": "2024-11-07T12:37:30.399177Z",
     "iopub.status.idle": "2024-11-07T12:37:30.830531Z",
     "shell.execute_reply": "2024-11-07T12:37:30.829897Z"
    }
   },
   "outputs": [],
   "source": [
    "# HOPSWORKS can be kinda buggy and has been throwing a lot of errors recently or even just failing to return data\n",
    "# so I'm adding a try/except block to retry the query if it fails\n",
    "tries = 5\n",
    "\n",
    "if UPDATE_WF:\n",
    "    for i in range(tries):\n",
    "        \n",
    "        try:\n",
    "            rolling_stats_fg = fs.get_feature_group(\n",
    "            name=\"rolling_stats\",\n",
    "            version=FEATURE_GROUP_VERSION,\n",
    "            )\n",
    "        except KeyError as e:\n",
    "            if i < tries - 1: # i is zero indexed\n",
    "                time.sleep(30)\n",
    "                continue\n",
    "            else:\n",
    "                raise ValueError('HOPSWORKS failed to connect')\n",
    "        break\n",
    "\n"
   ]
  },
  {
   "attachments": {},
   "cell_type": "markdown",
   "id": "0acc836a",
   "metadata": {},
   "source": [
    "**Query Old Data Needed for Feature Engineering of New Data**\n",
    "\n",
    "To generate features like rolling averages for the new games, older data from previous games is needed since some of the rolling averages might extend back 15 or 20 games or so."
   ]
  },
  {
   "cell_type": "code",
   "execution_count": 11,
   "id": "69a2b254",
   "metadata": {
    "execution": {
     "iopub.execute_input": "2024-11-07T12:37:30.833526Z",
     "iopub.status.busy": "2024-11-07T12:37:30.833122Z",
     "iopub.status.idle": "2024-11-07T12:37:36.327604Z",
     "shell.execute_reply": "2024-11-07T12:37:36.326893Z"
    }
   },
   "outputs": [
    {
     "name": "stdout",
     "output_type": "stream",
     "text": [
      "Reading data from Hopsworks, using ArrowFlight.   \r"
     ]
    },
    {
     "name": "stdout",
     "output_type": "stream",
     "text": [
      "Reading data from Hopsworks, using ArrowFlight..   \r"
     ]
    },
    {
     "name": "stdout",
     "output_type": "stream",
     "text": [
      "Reading data from Hopsworks, using ArrowFlight...   \r"
     ]
    },
    {
     "name": "stdout",
     "output_type": "stream",
     "text": [
      "Reading data from Hopsworks, using ArrowFlight   \r"
     ]
    },
    {
     "name": "stdout",
     "output_type": "stream",
     "text": [
      "Reading data from Hopsworks, using ArrowFlight.   \r"
     ]
    },
    {
     "name": "stdout",
     "output_type": "stream",
     "text": [
      "Reading data from Hopsworks, using ArrowFlight..   \r"
     ]
    },
    {
     "name": "stdout",
     "output_type": "stream",
     "text": [
      "Reading data from Hopsworks, using ArrowFlight...   \r"
     ]
    },
    {
     "name": "stdout",
     "output_type": "stream",
     "text": [
      "Reading data from Hopsworks, using ArrowFlight   \r"
     ]
    },
    {
     "name": "stdout",
     "output_type": "stream",
     "text": [
      "Reading data from Hopsworks, using ArrowFlight.   \r"
     ]
    },
    {
     "name": "stdout",
     "output_type": "stream",
     "text": [
      "Reading data from Hopsworks, using ArrowFlight..   \r"
     ]
    },
    {
     "name": "stdout",
     "output_type": "stream",
     "text": [
      "\r",
      "Finished: Reading data from Hopsworks, using ArrowFlight (4.73s) \n"
     ]
    }
   ],
   "source": [
    "BASE_FEATURES = ['game_date_est',\n",
    " 'game_id',\n",
    " 'home_team_id',\n",
    " 'visitor_team_id',\n",
    " 'season',\n",
    " 'pts_home',\n",
    " 'fg_pct_home',\n",
    " 'ft_pct_home',\n",
    " 'fg3_pct_home',\n",
    " 'ast_home',\n",
    " 'reb_home',\n",
    " 'pts_away',\n",
    " 'fg_pct_away',\n",
    " 'ft_pct_away',\n",
    " 'fg3_pct_away',\n",
    " 'ast_away',\n",
    " 'reb_away',\n",
    " 'home_team_wins',\n",
    "]\n",
    "\n",
    "if UPDATE_WF:\n",
    "    ds_query = rolling_stats_fg.select(BASE_FEATURES)\n",
    "\n",
    "    # HOPSWORKS can be kinda buggy and has been throwing a lot of errors recently or even just failing to return data\n",
    "    # so I'm adding a try/except block to retry the query if it fails\n",
    "    tries = 5\n",
    "\n",
    "    for i in range(tries):\n",
    "        for j in range(tries):\n",
    "            try:\n",
    "                df_old = ds_query.read()\n",
    "            except KeyError as e:\n",
    "                if j < tries - 1: \n",
    "                    time.sleep(10)\n",
    "                    continue\n",
    "                else:\n",
    "                    raise ValueError('HOPSWORKS failed to connect')\n",
    "            break\n",
    "\n",
    "        if df_old.empty:\n",
    "            if i < tries - 1: \n",
    "                time.sleep(10)\n",
    "            else:\n",
    "                raise ValueError('HOPSWORKS failed to return data')\n",
    "        else:\n",
    "            break\n",
    "\n"
   ]
  },
  {
   "attachments": {},
   "cell_type": "markdown",
   "id": "3185e1e1",
   "metadata": {},
   "source": [
    "**Convert Feature Names back to original mixed case**"
   ]
  },
  {
   "cell_type": "code",
   "execution_count": 12,
   "id": "11fc2684",
   "metadata": {
    "execution": {
     "iopub.execute_input": "2024-11-07T12:37:36.330425Z",
     "iopub.status.busy": "2024-11-07T12:37:36.329919Z",
     "iopub.status.idle": "2024-11-07T12:37:36.335048Z",
     "shell.execute_reply": "2024-11-07T12:37:36.334556Z"
    }
   },
   "outputs": [],
   "source": [
    "#hopsworks converts all feature names to lowercase, and for code reuse, we need to convert them back\n",
    "if UPDATE_WF:\n",
    "    df_old = convert_feature_names(df_old)\n",
    "    df_old\n",
    "    df_old[df_old['PTS_home'] == 0]\n",
    "    df_old"
   ]
  },
  {
   "attachments": {},
   "cell_type": "markdown",
   "id": "9453ea9a",
   "metadata": {},
   "source": [
    "**Update Yesterday's Matchup Predictions with New Final Results**"
   ]
  },
  {
   "cell_type": "code",
   "execution_count": 13,
   "id": "f5be2f9c",
   "metadata": {
    "execution": {
     "iopub.execute_input": "2024-11-07T12:37:36.337590Z",
     "iopub.status.busy": "2024-11-07T12:37:36.337155Z",
     "iopub.status.idle": "2024-11-07T12:37:36.482362Z",
     "shell.execute_reply": "2024-11-07T12:37:36.481653Z"
    }
   },
   "outputs": [
    {
     "name": "stderr",
     "output_type": "stream",
     "text": [
      "DeprecationWarning: np.find_common_type is deprecated.  Please use `np.result_type` or `np.promote_types`.\n",
      "See https://numpy.org/devdocs/release/1.25.0-notes.html and the docs for more information.  (Deprecated NumPy 1.25)\n"
     ]
    }
   ],
   "source": [
    "# filter out games that are pending final results\n",
    "# (these were the rows used for prediction yesterday)\n",
    "# and then update these with the new results\n",
    "\n",
    "\n",
    "# one approach is to simply drop the rows that were used for prediction yesterday\n",
    "# which are games that have 0 points for home team\n",
    "# and then append the new rows to the dataframe\n",
    "if UPDATE_WF:\n",
    "\n",
    "    df_old = df_old[df_old['PTS_home'] != 0]\n",
    "    df_old = pd.concat([df_old, df_new], ignore_index = True)\n",
    "    df_old"
   ]
  },
  {
   "attachments": {},
   "cell_type": "markdown",
   "id": "f169f4ce",
   "metadata": {},
   "source": [
    "**Add Today's Matchups for Feature Engineering**"
   ]
  },
  {
   "cell_type": "code",
   "execution_count": 14,
   "id": "a82bf4a8",
   "metadata": {
    "execution": {
     "iopub.execute_input": "2024-11-07T12:37:36.484950Z",
     "iopub.status.busy": "2024-11-07T12:37:36.484741Z",
     "iopub.status.idle": "2024-11-07T12:37:36.488609Z",
     "shell.execute_reply": "2024-11-07T12:37:36.487953Z"
    }
   },
   "outputs": [
    {
     "name": "stdout",
     "output_type": "stream",
     "text": [
      "No games today\n"
     ]
    }
   ],
   "source": [
    "if UPDATE_WF:\n",
    "\n",
    "    if matchups is None:\n",
    "        print('No games today')\n",
    "        df_combined = df_old\n",
    "    else:\n",
    "        df_combined = pd.concat([df_old, df_today], ignore_index = True)\n",
    "        df_combined"
   ]
  },
  {
   "cell_type": "markdown",
   "id": "835625fc-be47-4a8f-a532-02dc8e79363e",
   "metadata": {},
   "source": [
    "**Data Processing**"
   ]
  },
  {
   "cell_type": "code",
   "execution_count": 15,
   "id": "8577f0e2-39f7-4cef-9f8f-e687cb73f1bb",
   "metadata": {
    "execution": {
     "iopub.execute_input": "2024-11-07T12:37:36.490897Z",
     "iopub.status.busy": "2024-11-07T12:37:36.490706Z",
     "iopub.status.idle": "2024-11-07T12:37:36.499553Z",
     "shell.execute_reply": "2024-11-07T12:37:36.498849Z"
    }
   },
   "outputs": [],
   "source": [
    "if UPDATE_WF:\n",
    "    df_combined = process_games(df_combined) \n",
    "    df_combined = add_TARGET(df_combined)\n",
    "    df_combined"
   ]
  },
  {
   "cell_type": "markdown",
   "id": "cccb588e",
   "metadata": {},
   "source": [
    "**Feature Engineering**"
   ]
  },
  {
   "cell_type": "code",
   "execution_count": 16,
   "id": "19484061",
   "metadata": {
    "execution": {
     "iopub.execute_input": "2024-11-07T12:37:36.502128Z",
     "iopub.status.busy": "2024-11-07T12:37:36.501926Z",
     "iopub.status.idle": "2024-11-07T12:37:42.448992Z",
     "shell.execute_reply": "2024-11-07T12:37:42.448272Z"
    }
   },
   "outputs": [
    {
     "name": "stderr",
     "output_type": "stream",
     "text": [
      "SettingWithCopyWarning: \n",
      "A value is trying to be set on a copy of a slice from a DataFrame\n",
      "\n",
      "See the caveats in the documentation: https://pandas.pydata.org/pandas-docs/stable/user_guide/indexing.html#returning-a-view-versus-a-copy\n"
     ]
    },
    {
     "name": "stdout",
     "output_type": "stream",
     "text": [
      "['HOME_PTS_home_AVG_LAST_3_HOME', 'HOME_PTS_home_AVG_LAST_7_HOME', 'HOME_PTS_home_AVG_LAST_10_HOME', 'HOME_FG_PCT_home_AVG_LAST_3_HOME', 'HOME_FG_PCT_home_AVG_LAST_7_HOME', 'HOME_FG_PCT_home_AVG_LAST_10_HOME', 'HOME_FT_PCT_home_AVG_LAST_3_HOME', 'HOME_FT_PCT_home_AVG_LAST_7_HOME', 'HOME_FT_PCT_home_AVG_LAST_10_HOME', 'HOME_FG3_PCT_home_AVG_LAST_3_HOME', 'HOME_FG3_PCT_home_AVG_LAST_7_HOME', 'HOME_FG3_PCT_home_AVG_LAST_10_HOME', 'HOME_AST_home_AVG_LAST_3_HOME', 'HOME_AST_home_AVG_LAST_7_HOME', 'HOME_AST_home_AVG_LAST_10_HOME', 'HOME_REB_home_AVG_LAST_3_HOME', 'HOME_REB_home_AVG_LAST_7_HOME', 'HOME_REB_home_AVG_LAST_10_HOME', 'HOME_TEAM_ID', 'GAME_DATE_EST']\n"
     ]
    },
    {
     "name": "stderr",
     "output_type": "stream",
     "text": [
      "SettingWithCopyWarning: \n",
      "A value is trying to be set on a copy of a slice from a DataFrame\n",
      "\n",
      "See the caveats in the documentation: https://pandas.pydata.org/pandas-docs/stable/user_guide/indexing.html#returning-a-view-versus-a-copy\n"
     ]
    },
    {
     "name": "stdout",
     "output_type": "stream",
     "text": [
      "['VISITOR_TEAM_WINS_AVG_LAST_3_VISITOR', 'VISITOR_TEAM_WINS_AVG_LAST_7_VISITOR', 'VISITOR_TEAM_WINS_AVG_LAST_10_VISITOR', 'VISITOR_PTS_away_AVG_LAST_3_VISITOR', 'VISITOR_PTS_away_AVG_LAST_7_VISITOR', 'VISITOR_PTS_away_AVG_LAST_10_VISITOR', 'VISITOR_FG_PCT_away_AVG_LAST_3_VISITOR', 'VISITOR_FG_PCT_away_AVG_LAST_7_VISITOR', 'VISITOR_FG_PCT_away_AVG_LAST_10_VISITOR', 'VISITOR_FT_PCT_away_AVG_LAST_3_VISITOR', 'VISITOR_FT_PCT_away_AVG_LAST_7_VISITOR', 'VISITOR_FT_PCT_away_AVG_LAST_10_VISITOR', 'VISITOR_FG3_PCT_away_AVG_LAST_3_VISITOR', 'VISITOR_FG3_PCT_away_AVG_LAST_7_VISITOR', 'VISITOR_FG3_PCT_away_AVG_LAST_10_VISITOR', 'VISITOR_AST_away_AVG_LAST_3_VISITOR', 'VISITOR_AST_away_AVG_LAST_7_VISITOR', 'VISITOR_AST_away_AVG_LAST_10_VISITOR', 'VISITOR_REB_away_AVG_LAST_3_VISITOR', 'VISITOR_REB_away_AVG_LAST_7_VISITOR', 'VISITOR_REB_away_AVG_LAST_10_VISITOR', 'VISITOR_TEAM_ID', 'GAME_DATE_EST']\n"
     ]
    },
    {
     "name": "stderr",
     "output_type": "stream",
     "text": [
      "DeprecationWarning: np.find_common_type is deprecated.  Please use `np.result_type` or `np.promote_types`.\n",
      "See https://numpy.org/devdocs/release/1.25.0-notes.html and the docs for more information.  (Deprecated NumPy 1.25)\n",
      "DeprecationWarning: np.find_common_type is deprecated.  Please use `np.result_type` or `np.promote_types`.\n",
      "See https://numpy.org/devdocs/release/1.25.0-notes.html and the docs for more information.  (Deprecated NumPy 1.25)\n",
      "SettingWithCopyWarning: \n",
      "A value is trying to be set on a copy of a slice from a DataFrame\n",
      "\n",
      "See the caveats in the documentation: https://pandas.pydata.org/pandas-docs/stable/user_guide/indexing.html#returning-a-view-versus-a-copy\n",
      "SettingWithCopyWarning: \n",
      "A value is trying to be set on a copy of a slice from a DataFrame\n",
      "\n",
      "See the caveats in the documentation: https://pandas.pydata.org/pandas-docs/stable/user_guide/indexing.html#returning-a-view-versus-a-copy\n",
      "SettingWithCopyWarning: \n",
      "A value is trying to be set on a copy of a slice from a DataFrame\n",
      "\n",
      "See the caveats in the documentation: https://pandas.pydata.org/pandas-docs/stable/user_guide/indexing.html#returning-a-view-versus-a-copy\n"
     ]
    },
    {
     "name": "stdout",
     "output_type": "stream",
     "text": [
      "['PTS_AVG_LAST_3_ALL', 'PTS_AVG_LAST_7_ALL', 'PTS_AVG_LAST_10_ALL', 'PTS_AVG_LAST_15_ALL', 'FG_PCT_AVG_LAST_3_ALL', 'FG_PCT_AVG_LAST_7_ALL', 'FG_PCT_AVG_LAST_10_ALL', 'FG_PCT_AVG_LAST_15_ALL', 'FT_PCT_AVG_LAST_3_ALL', 'FT_PCT_AVG_LAST_7_ALL', 'FT_PCT_AVG_LAST_10_ALL', 'FT_PCT_AVG_LAST_15_ALL', 'FG3_PCT_AVG_LAST_3_ALL', 'FG3_PCT_AVG_LAST_7_ALL', 'FG3_PCT_AVG_LAST_10_ALL', 'FG3_PCT_AVG_LAST_15_ALL', 'AST_AVG_LAST_3_ALL', 'AST_AVG_LAST_7_ALL', 'AST_AVG_LAST_10_ALL', 'AST_AVG_LAST_15_ALL', 'REB_AVG_LAST_3_ALL', 'REB_AVG_LAST_7_ALL', 'REB_AVG_LAST_10_ALL', 'REB_AVG_LAST_15_ALL', 'TEAM1', 'GAME_DATE_EST']\n"
     ]
    }
   ],
   "source": [
    "# Feature engineering to add: \n",
    "    # rolling averages of key stats, \n",
    "    # win/lose streaks, \n",
    "    # home/away streaks, \n",
    "    # specific matchup (team X vs team Y) rolling averages and streaks\n",
    "if UPDATE_WF:\n",
    "    df_combined = process_features(df_combined)\n",
    "\n",
    "\n",
    "\n",
    "    #fix type conversion issues with hopsworks\n",
    "    df_combined['TARGET'] = df_combined['TARGET'].astype('int16')\n",
    "    df_combined['HOME_TEAM_WINS'] = df_combined['HOME_TEAM_WINS'].astype('int16')\n",
    "    df_combined\n"
   ]
  },
  {
   "attachments": {},
   "cell_type": "markdown",
   "id": "67eea1e5",
   "metadata": {},
   "source": [
    "**Insert New Data into Feature Group**"
   ]
  },
  {
   "cell_type": "code",
   "execution_count": 17,
   "id": "a76fc400",
   "metadata": {
    "execution": {
     "iopub.execute_input": "2024-11-07T12:37:42.452077Z",
     "iopub.status.busy": "2024-11-07T12:37:42.451676Z",
     "iopub.status.idle": "2024-11-07T12:38:00.369543Z",
     "shell.execute_reply": "2024-11-07T12:38:00.368886Z"
    }
   },
   "outputs": [
    {
     "name": "stderr",
     "output_type": "stream",
     "text": [
      "FeatureGroupWarning: The ingested dataframe contains upper case letters in feature names: `['GAME_DATE_EST', 'GAME_ID', 'HOME_TEAM_ID', 'VISITOR_TEAM_ID', 'SEASON', 'PTS_home', 'FG_PCT_home', 'FT_PCT_home', 'FG3_PCT_home', 'AST_home', 'REB_home', 'PTS_away', 'FG_PCT_away', 'FT_PCT_away', 'FG3_PCT_away', 'AST_away', 'REB_away', 'HOME_TEAM_WINS', 'TARGET', 'MONTH', 'HOME_TEAM_WIN_STREAK', 'HOME_TEAM_WINS_AVG_LAST_3_HOME', 'HOME_TEAM_WINS_AVG_LAST_7_HOME', 'HOME_TEAM_WINS_AVG_LAST_10_HOME', 'HOME_PTS_home_AVG_LAST_3_HOME', 'HOME_PTS_home_AVG_LAST_7_HOME', 'HOME_PTS_home_AVG_LAST_10_HOME', 'HOME_FG_PCT_home_AVG_LAST_3_HOME', 'HOME_FG_PCT_home_AVG_LAST_7_HOME', 'HOME_FG_PCT_home_AVG_LAST_10_HOME', 'HOME_FT_PCT_home_AVG_LAST_3_HOME', 'HOME_FT_PCT_home_AVG_LAST_7_HOME', 'HOME_FT_PCT_home_AVG_LAST_10_HOME', 'HOME_FG3_PCT_home_AVG_LAST_3_HOME', 'HOME_FG3_PCT_home_AVG_LAST_7_HOME', 'HOME_FG3_PCT_home_AVG_LAST_10_HOME', 'HOME_AST_home_AVG_LAST_3_HOME', 'HOME_AST_home_AVG_LAST_7_HOME', 'HOME_AST_home_AVG_LAST_10_HOME', 'HOME_REB_home_AVG_LAST_3_HOME', 'HOME_REB_home_AVG_LAST_7_HOME', 'HOME_REB_home_AVG_LAST_10_HOME', 'HOME_PTS_home_AVG_LAST_3_HOME_MINUS_LEAGUE_AVG', 'HOME_PTS_home_AVG_LAST_7_HOME_MINUS_LEAGUE_AVG', 'HOME_PTS_home_AVG_LAST_10_HOME_MINUS_LEAGUE_AVG', 'HOME_FG_PCT_home_AVG_LAST_3_HOME_MINUS_LEAGUE_AVG', 'HOME_FG_PCT_home_AVG_LAST_7_HOME_MINUS_LEAGUE_AVG', 'HOME_FG_PCT_home_AVG_LAST_10_HOME_MINUS_LEAGUE_AVG', 'HOME_FT_PCT_home_AVG_LAST_3_HOME_MINUS_LEAGUE_AVG', 'HOME_FT_PCT_home_AVG_LAST_7_HOME_MINUS_LEAGUE_AVG', 'HOME_FT_PCT_home_AVG_LAST_10_HOME_MINUS_LEAGUE_AVG', 'HOME_FG3_PCT_home_AVG_LAST_3_HOME_MINUS_LEAGUE_AVG', 'HOME_FG3_PCT_home_AVG_LAST_7_HOME_MINUS_LEAGUE_AVG', 'HOME_FG3_PCT_home_AVG_LAST_10_HOME_MINUS_LEAGUE_AVG', 'HOME_AST_home_AVG_LAST_3_HOME_MINUS_LEAGUE_AVG', 'HOME_AST_home_AVG_LAST_7_HOME_MINUS_LEAGUE_AVG', 'HOME_AST_home_AVG_LAST_10_HOME_MINUS_LEAGUE_AVG', 'HOME_REB_home_AVG_LAST_3_HOME_MINUS_LEAGUE_AVG', 'HOME_REB_home_AVG_LAST_7_HOME_MINUS_LEAGUE_AVG', 'HOME_REB_home_AVG_LAST_10_HOME_MINUS_LEAGUE_AVG', 'VISITOR_TEAM_WIN_STREAK', 'VISITOR_TEAM_WINS_AVG_LAST_3_VISITOR', 'VISITOR_TEAM_WINS_AVG_LAST_7_VISITOR', 'VISITOR_TEAM_WINS_AVG_LAST_10_VISITOR', 'VISITOR_PTS_away_AVG_LAST_3_VISITOR', 'VISITOR_PTS_away_AVG_LAST_7_VISITOR', 'VISITOR_PTS_away_AVG_LAST_10_VISITOR', 'VISITOR_FG_PCT_away_AVG_LAST_3_VISITOR', 'VISITOR_FG_PCT_away_AVG_LAST_7_VISITOR', 'VISITOR_FG_PCT_away_AVG_LAST_10_VISITOR', 'VISITOR_FT_PCT_away_AVG_LAST_3_VISITOR', 'VISITOR_FT_PCT_away_AVG_LAST_7_VISITOR', 'VISITOR_FT_PCT_away_AVG_LAST_10_VISITOR', 'VISITOR_FG3_PCT_away_AVG_LAST_3_VISITOR', 'VISITOR_FG3_PCT_away_AVG_LAST_7_VISITOR', 'VISITOR_FG3_PCT_away_AVG_LAST_10_VISITOR', 'VISITOR_AST_away_AVG_LAST_3_VISITOR', 'VISITOR_AST_away_AVG_LAST_7_VISITOR', 'VISITOR_AST_away_AVG_LAST_10_VISITOR', 'VISITOR_REB_away_AVG_LAST_3_VISITOR', 'VISITOR_REB_away_AVG_LAST_7_VISITOR', 'VISITOR_REB_away_AVG_LAST_10_VISITOR', 'VISITOR_TEAM_WINS_AVG_LAST_3_VISITOR_MINUS_LEAGUE_AVG', 'VISITOR_TEAM_WINS_AVG_LAST_7_VISITOR_MINUS_LEAGUE_AVG', 'VISITOR_TEAM_WINS_AVG_LAST_10_VISITOR_MINUS_LEAGUE_AVG', 'VISITOR_PTS_away_AVG_LAST_3_VISITOR_MINUS_LEAGUE_AVG', 'VISITOR_PTS_away_AVG_LAST_7_VISITOR_MINUS_LEAGUE_AVG', 'VISITOR_PTS_away_AVG_LAST_10_VISITOR_MINUS_LEAGUE_AVG', 'VISITOR_FG_PCT_away_AVG_LAST_3_VISITOR_MINUS_LEAGUE_AVG', 'VISITOR_FG_PCT_away_AVG_LAST_7_VISITOR_MINUS_LEAGUE_AVG', 'VISITOR_FG_PCT_away_AVG_LAST_10_VISITOR_MINUS_LEAGUE_AVG', 'VISITOR_FT_PCT_away_AVG_LAST_3_VISITOR_MINUS_LEAGUE_AVG', 'VISITOR_FT_PCT_away_AVG_LAST_7_VISITOR_MINUS_LEAGUE_AVG', 'VISITOR_FT_PCT_away_AVG_LAST_10_VISITOR_MINUS_LEAGUE_AVG', 'VISITOR_FG3_PCT_away_AVG_LAST_3_VISITOR_MINUS_LEAGUE_AVG', 'VISITOR_FG3_PCT_away_AVG_LAST_7_VISITOR_MINUS_LEAGUE_AVG', 'VISITOR_FG3_PCT_away_AVG_LAST_10_VISITOR_MINUS_LEAGUE_AVG', 'VISITOR_AST_away_AVG_LAST_3_VISITOR_MINUS_LEAGUE_AVG', 'VISITOR_AST_away_AVG_LAST_7_VISITOR_MINUS_LEAGUE_AVG', 'VISITOR_AST_away_AVG_LAST_10_VISITOR_MINUS_LEAGUE_AVG', 'VISITOR_REB_away_AVG_LAST_3_VISITOR_MINUS_LEAGUE_AVG', 'VISITOR_REB_away_AVG_LAST_7_VISITOR_MINUS_LEAGUE_AVG', 'VISITOR_REB_away_AVG_LAST_10_VISITOR_MINUS_LEAGUE_AVG', 'MATCHUP_WINPCT_3_x', 'MATCHUP_WINPCT_7_x', 'MATCHUP_WINPCT_10_x', 'MATCHUP_WIN_STREAK_x', 'WIN_STREAK_x', 'HOME_AWAY_STREAK_x', 'TEAM1_win_AVG_LAST_3_ALL_x', 'TEAM1_win_AVG_LAST_7_ALL_x', 'TEAM1_win_AVG_LAST_10_ALL_x', 'TEAM1_win_AVG_LAST_15_ALL_x', 'PTS_AVG_LAST_3_ALL_x', 'PTS_AVG_LAST_7_ALL_x', 'PTS_AVG_LAST_10_ALL_x', 'PTS_AVG_LAST_15_ALL_x', 'FG_PCT_AVG_LAST_3_ALL_x', 'FG_PCT_AVG_LAST_7_ALL_x', 'FG_PCT_AVG_LAST_10_ALL_x', 'FG_PCT_AVG_LAST_15_ALL_x', 'FT_PCT_AVG_LAST_3_ALL_x', 'FT_PCT_AVG_LAST_7_ALL_x', 'FT_PCT_AVG_LAST_10_ALL_x', 'FT_PCT_AVG_LAST_15_ALL_x', 'FG3_PCT_AVG_LAST_3_ALL_x', 'FG3_PCT_AVG_LAST_7_ALL_x', 'FG3_PCT_AVG_LAST_10_ALL_x', 'FG3_PCT_AVG_LAST_15_ALL_x', 'AST_AVG_LAST_3_ALL_x', 'AST_AVG_LAST_7_ALL_x', 'AST_AVG_LAST_10_ALL_x', 'AST_AVG_LAST_15_ALL_x', 'REB_AVG_LAST_3_ALL_x', 'REB_AVG_LAST_7_ALL_x', 'REB_AVG_LAST_10_ALL_x', 'REB_AVG_LAST_15_ALL_x', 'PTS_AVG_LAST_3_ALL_MINUS_LEAGUE_AVG_x', 'PTS_AVG_LAST_7_ALL_MINUS_LEAGUE_AVG_x', 'PTS_AVG_LAST_10_ALL_MINUS_LEAGUE_AVG_x', 'PTS_AVG_LAST_15_ALL_MINUS_LEAGUE_AVG_x', 'FG_PCT_AVG_LAST_3_ALL_MINUS_LEAGUE_AVG_x', 'FG_PCT_AVG_LAST_7_ALL_MINUS_LEAGUE_AVG_x', 'FG_PCT_AVG_LAST_10_ALL_MINUS_LEAGUE_AVG_x', 'FG_PCT_AVG_LAST_15_ALL_MINUS_LEAGUE_AVG_x', 'FT_PCT_AVG_LAST_3_ALL_MINUS_LEAGUE_AVG_x', 'FT_PCT_AVG_LAST_7_ALL_MINUS_LEAGUE_AVG_x', 'FT_PCT_AVG_LAST_10_ALL_MINUS_LEAGUE_AVG_x', 'FT_PCT_AVG_LAST_15_ALL_MINUS_LEAGUE_AVG_x', 'FG3_PCT_AVG_LAST_3_ALL_MINUS_LEAGUE_AVG_x', 'FG3_PCT_AVG_LAST_7_ALL_MINUS_LEAGUE_AVG_x', 'FG3_PCT_AVG_LAST_10_ALL_MINUS_LEAGUE_AVG_x', 'FG3_PCT_AVG_LAST_15_ALL_MINUS_LEAGUE_AVG_x', 'AST_AVG_LAST_3_ALL_MINUS_LEAGUE_AVG_x', 'AST_AVG_LAST_7_ALL_MINUS_LEAGUE_AVG_x', 'AST_AVG_LAST_10_ALL_MINUS_LEAGUE_AVG_x', 'AST_AVG_LAST_15_ALL_MINUS_LEAGUE_AVG_x', 'REB_AVG_LAST_3_ALL_MINUS_LEAGUE_AVG_x', 'REB_AVG_LAST_7_ALL_MINUS_LEAGUE_AVG_x', 'REB_AVG_LAST_10_ALL_MINUS_LEAGUE_AVG_x', 'REB_AVG_LAST_15_ALL_MINUS_LEAGUE_AVG_x', 'WIN_STREAK_y', 'HOME_AWAY_STREAK_y', 'TEAM1_win_AVG_LAST_3_ALL_y', 'TEAM1_win_AVG_LAST_7_ALL_y', 'TEAM1_win_AVG_LAST_10_ALL_y', 'TEAM1_win_AVG_LAST_15_ALL_y', 'PTS_AVG_LAST_3_ALL_y', 'PTS_AVG_LAST_7_ALL_y', 'PTS_AVG_LAST_10_ALL_y', 'PTS_AVG_LAST_15_ALL_y', 'FG_PCT_AVG_LAST_3_ALL_y', 'FG_PCT_AVG_LAST_7_ALL_y', 'FG_PCT_AVG_LAST_10_ALL_y', 'FG_PCT_AVG_LAST_15_ALL_y', 'FT_PCT_AVG_LAST_3_ALL_y', 'FT_PCT_AVG_LAST_7_ALL_y', 'FT_PCT_AVG_LAST_10_ALL_y', 'FT_PCT_AVG_LAST_15_ALL_y', 'FG3_PCT_AVG_LAST_3_ALL_y', 'FG3_PCT_AVG_LAST_7_ALL_y', 'FG3_PCT_AVG_LAST_10_ALL_y', 'FG3_PCT_AVG_LAST_15_ALL_y', 'AST_AVG_LAST_3_ALL_y', 'AST_AVG_LAST_7_ALL_y', 'AST_AVG_LAST_10_ALL_y', 'AST_AVG_LAST_15_ALL_y', 'REB_AVG_LAST_3_ALL_y', 'REB_AVG_LAST_7_ALL_y', 'REB_AVG_LAST_10_ALL_y', 'REB_AVG_LAST_15_ALL_y', 'PTS_AVG_LAST_3_ALL_MINUS_LEAGUE_AVG_y', 'PTS_AVG_LAST_7_ALL_MINUS_LEAGUE_AVG_y', 'PTS_AVG_LAST_10_ALL_MINUS_LEAGUE_AVG_y', 'PTS_AVG_LAST_15_ALL_MINUS_LEAGUE_AVG_y', 'FG_PCT_AVG_LAST_3_ALL_MINUS_LEAGUE_AVG_y', 'FG_PCT_AVG_LAST_7_ALL_MINUS_LEAGUE_AVG_y', 'FG_PCT_AVG_LAST_10_ALL_MINUS_LEAGUE_AVG_y', 'FG_PCT_AVG_LAST_15_ALL_MINUS_LEAGUE_AVG_y', 'FT_PCT_AVG_LAST_3_ALL_MINUS_LEAGUE_AVG_y', 'FT_PCT_AVG_LAST_7_ALL_MINUS_LEAGUE_AVG_y', 'FT_PCT_AVG_LAST_10_ALL_MINUS_LEAGUE_AVG_y', 'FT_PCT_AVG_LAST_15_ALL_MINUS_LEAGUE_AVG_y', 'FG3_PCT_AVG_LAST_3_ALL_MINUS_LEAGUE_AVG_y', 'FG3_PCT_AVG_LAST_7_ALL_MINUS_LEAGUE_AVG_y', 'FG3_PCT_AVG_LAST_10_ALL_MINUS_LEAGUE_AVG_y', 'FG3_PCT_AVG_LAST_15_ALL_MINUS_LEAGUE_AVG_y', 'AST_AVG_LAST_3_ALL_MINUS_LEAGUE_AVG_y', 'AST_AVG_LAST_7_ALL_MINUS_LEAGUE_AVG_y', 'AST_AVG_LAST_10_ALL_MINUS_LEAGUE_AVG_y', 'AST_AVG_LAST_15_ALL_MINUS_LEAGUE_AVG_y', 'REB_AVG_LAST_3_ALL_MINUS_LEAGUE_AVG_y', 'REB_AVG_LAST_7_ALL_MINUS_LEAGUE_AVG_y', 'REB_AVG_LAST_10_ALL_MINUS_LEAGUE_AVG_y', 'REB_AVG_LAST_15_ALL_MINUS_LEAGUE_AVG_y', 'WIN_STREAK_x_minus_y', 'HOME_AWAY_STREAK_x_minus_y', 'TEAM1_win_AVG_LAST_3_ALL_x_minus_y', 'TEAM1_win_AVG_LAST_7_ALL_x_minus_y', 'TEAM1_win_AVG_LAST_10_ALL_x_minus_y', 'TEAM1_win_AVG_LAST_15_ALL_x_minus_y', 'PTS_AVG_LAST_3_ALL_x_minus_y', 'PTS_AVG_LAST_7_ALL_x_minus_y', 'PTS_AVG_LAST_10_ALL_x_minus_y', 'PTS_AVG_LAST_15_ALL_x_minus_y', 'FG_PCT_AVG_LAST_3_ALL_x_minus_y', 'FG_PCT_AVG_LAST_7_ALL_x_minus_y', 'FG_PCT_AVG_LAST_10_ALL_x_minus_y', 'FG_PCT_AVG_LAST_15_ALL_x_minus_y', 'FT_PCT_AVG_LAST_3_ALL_x_minus_y', 'FT_PCT_AVG_LAST_7_ALL_x_minus_y', 'FT_PCT_AVG_LAST_10_ALL_x_minus_y', 'FT_PCT_AVG_LAST_15_ALL_x_minus_y', 'FG3_PCT_AVG_LAST_3_ALL_x_minus_y', 'FG3_PCT_AVG_LAST_7_ALL_x_minus_y', 'FG3_PCT_AVG_LAST_10_ALL_x_minus_y', 'FG3_PCT_AVG_LAST_15_ALL_x_minus_y', 'AST_AVG_LAST_3_ALL_x_minus_y', 'AST_AVG_LAST_7_ALL_x_minus_y', 'AST_AVG_LAST_10_ALL_x_minus_y', 'AST_AVG_LAST_15_ALL_x_minus_y', 'REB_AVG_LAST_3_ALL_x_minus_y', 'REB_AVG_LAST_7_ALL_x_minus_y', 'REB_AVG_LAST_10_ALL_x_minus_y', 'REB_AVG_LAST_15_ALL_x_minus_y']`. Feature names are sanitized to lower case in the feature store.\n"
     ]
    },
    {
     "data": {
      "application/vnd.jupyter.widget-view+json": {
       "model_id": "6355942a0a7340de9d03ef748b901b7f",
       "version_major": 2,
       "version_minor": 0
      },
      "text/plain": [
       "Uploading Dataframe: 0.00% |          | Rows 0/24766 | Elapsed Time: 00:00 | Remaining Time: ?"
      ]
     },
     "metadata": {},
     "output_type": "display_data"
    },
    {
     "name": "stdout",
     "output_type": "stream",
     "text": [
      "Launching job: rolling_stats_2_offline_fg_materialization\n",
      "Job started successfully, you can follow the progress at \n",
      "https://c.app.hopsworks.ai/p/90261/jobs/named/rolling_stats_2_offline_fg_materialization/executions\n"
     ]
    }
   ],
   "source": [
    "# HOPSWORKS can be kinda buggy and has been throwing a lot of errors recently or even just failing to return data\n",
    "# so I'm adding a try/except block to retry the query if it fails\n",
    "tries = 5\n",
    "\n",
    "if UPDATE_WF:\n",
    "    for i in range(tries):\n",
    "        \n",
    "        try:\n",
    "            rolling_stats_fg.insert(df_combined, overwrite = True, write_options={\"wait_for_job\" : False})\n",
    "        except KeyError as e:\n",
    "            if i < tries - 1: \n",
    "                time.sleep(30)\n",
    "                continue\n",
    "            else:\n",
    "                raise ValueError('HOPSWORKS failed to connect')\n",
    "        break\n",
    "\n"
   ]
  }
 ],
 "metadata": {
  "kernelspec": {
   "display_name": "nba3",
   "language": "python",
   "name": "python3"
  },
  "language_info": {
   "codemirror_mode": {
    "name": "ipython",
    "version": 3
   },
   "file_extension": ".py",
   "mimetype": "text/x-python",
   "name": "python",
   "nbconvert_exporter": "python",
   "pygments_lexer": "ipython3",
   "version": "3.10.12"
  },
  "vscode": {
   "interpreter": {
    "hash": "4655998f62ad965cbd25df51edb717f2326f5df53d53899f0ae604225aa5ae06"
   }
  },
  "widgets": {
   "application/vnd.jupyter.widget-state+json": {
    "state": {
     "00db28a54c4844408e3fc73606e45739": {
      "model_module": "@jupyter-widgets/base",
      "model_module_version": "2.0.0",
      "model_name": "LayoutModel",
      "state": {
       "_model_module": "@jupyter-widgets/base",
       "_model_module_version": "2.0.0",
       "_model_name": "LayoutModel",
       "_view_count": null,
       "_view_module": "@jupyter-widgets/base",
       "_view_module_version": "2.0.0",
       "_view_name": "LayoutView",
       "align_content": null,
       "align_items": null,
       "align_self": null,
       "border_bottom": null,
       "border_left": null,
       "border_right": null,
       "border_top": null,
       "bottom": null,
       "display": null,
       "flex": null,
       "flex_flow": null,
       "grid_area": null,
       "grid_auto_columns": null,
       "grid_auto_flow": null,
       "grid_auto_rows": null,
       "grid_column": null,
       "grid_gap": null,
       "grid_row": null,
       "grid_template_areas": null,
       "grid_template_columns": null,
       "grid_template_rows": null,
       "height": null,
       "justify_content": null,
       "justify_items": null,
       "left": null,
       "margin": null,
       "max_height": null,
       "max_width": null,
       "min_height": null,
       "min_width": null,
       "object_fit": null,
       "object_position": null,
       "order": null,
       "overflow": null,
       "padding": null,
       "right": null,
       "top": null,
       "visibility": null,
       "width": null
      }
     },
     "198f3c6e2a6e410290dae424b0bf2999": {
      "model_module": "@jupyter-widgets/controls",
      "model_module_version": "2.0.0",
      "model_name": "HTMLStyleModel",
      "state": {
       "_model_module": "@jupyter-widgets/controls",
       "_model_module_version": "2.0.0",
       "_model_name": "HTMLStyleModel",
       "_view_count": null,
       "_view_module": "@jupyter-widgets/base",
       "_view_module_version": "2.0.0",
       "_view_name": "StyleView",
       "background": null,
       "description_width": "",
       "font_size": null,
       "text_color": null
      }
     },
     "3bcd50945f9c4c6c8b768b998da7bd0e": {
      "model_module": "@jupyter-widgets/controls",
      "model_module_version": "2.0.0",
      "model_name": "ProgressStyleModel",
      "state": {
       "_model_module": "@jupyter-widgets/controls",
       "_model_module_version": "2.0.0",
       "_model_name": "ProgressStyleModel",
       "_view_count": null,
       "_view_module": "@jupyter-widgets/base",
       "_view_module_version": "2.0.0",
       "_view_name": "StyleView",
       "bar_color": null,
       "description_width": ""
      }
     },
     "56b46faa8ba1422db0cc48ad5053344c": {
      "model_module": "@jupyter-widgets/base",
      "model_module_version": "2.0.0",
      "model_name": "LayoutModel",
      "state": {
       "_model_module": "@jupyter-widgets/base",
       "_model_module_version": "2.0.0",
       "_model_name": "LayoutModel",
       "_view_count": null,
       "_view_module": "@jupyter-widgets/base",
       "_view_module_version": "2.0.0",
       "_view_name": "LayoutView",
       "align_content": null,
       "align_items": null,
       "align_self": null,
       "border_bottom": null,
       "border_left": null,
       "border_right": null,
       "border_top": null,
       "bottom": null,
       "display": null,
       "flex": null,
       "flex_flow": null,
       "grid_area": null,
       "grid_auto_columns": null,
       "grid_auto_flow": null,
       "grid_auto_rows": null,
       "grid_column": null,
       "grid_gap": null,
       "grid_row": null,
       "grid_template_areas": null,
       "grid_template_columns": null,
       "grid_template_rows": null,
       "height": null,
       "justify_content": null,
       "justify_items": null,
       "left": null,
       "margin": null,
       "max_height": null,
       "max_width": null,
       "min_height": null,
       "min_width": null,
       "object_fit": null,
       "object_position": null,
       "order": null,
       "overflow": null,
       "padding": null,
       "right": null,
       "top": null,
       "visibility": null,
       "width": null
      }
     },
     "6355942a0a7340de9d03ef748b901b7f": {
      "model_module": "@jupyter-widgets/controls",
      "model_module_version": "2.0.0",
      "model_name": "HBoxModel",
      "state": {
       "_dom_classes": [],
       "_model_module": "@jupyter-widgets/controls",
       "_model_module_version": "2.0.0",
       "_model_name": "HBoxModel",
       "_view_count": null,
       "_view_module": "@jupyter-widgets/controls",
       "_view_module_version": "2.0.0",
       "_view_name": "HBoxView",
       "box_style": "",
       "children": [
        "IPY_MODEL_6704b5f048d04228b06f5c7ff16a3a5d",
        "IPY_MODEL_915a82cc9eaa4ac6b4c936fa5df5534f",
        "IPY_MODEL_7ac292e17b4945fe8cc80dd915590632"
       ],
       "layout": "IPY_MODEL_f7a0016c1ad7418b83fd9ca3d9acdda6",
       "tabbable": null,
       "tooltip": null
      }
     },
     "6704b5f048d04228b06f5c7ff16a3a5d": {
      "model_module": "@jupyter-widgets/controls",
      "model_module_version": "2.0.0",
      "model_name": "HTMLModel",
      "state": {
       "_dom_classes": [],
       "_model_module": "@jupyter-widgets/controls",
       "_model_module_version": "2.0.0",
       "_model_name": "HTMLModel",
       "_view_count": null,
       "_view_module": "@jupyter-widgets/controls",
       "_view_module_version": "2.0.0",
       "_view_name": "HTMLView",
       "description": "",
       "description_allow_html": false,
       "layout": "IPY_MODEL_00db28a54c4844408e3fc73606e45739",
       "placeholder": "​",
       "style": "IPY_MODEL_6e23d78db3c148e9be7f28fc73e98398",
       "tabbable": null,
       "tooltip": null,
       "value": "Uploading Dataframe: 100.00% "
      }
     },
     "6e23d78db3c148e9be7f28fc73e98398": {
      "model_module": "@jupyter-widgets/controls",
      "model_module_version": "2.0.0",
      "model_name": "HTMLStyleModel",
      "state": {
       "_model_module": "@jupyter-widgets/controls",
       "_model_module_version": "2.0.0",
       "_model_name": "HTMLStyleModel",
       "_view_count": null,
       "_view_module": "@jupyter-widgets/base",
       "_view_module_version": "2.0.0",
       "_view_name": "StyleView",
       "background": null,
       "description_width": "",
       "font_size": null,
       "text_color": null
      }
     },
     "7ac292e17b4945fe8cc80dd915590632": {
      "model_module": "@jupyter-widgets/controls",
      "model_module_version": "2.0.0",
      "model_name": "HTMLModel",
      "state": {
       "_dom_classes": [],
       "_model_module": "@jupyter-widgets/controls",
       "_model_module_version": "2.0.0",
       "_model_name": "HTMLModel",
       "_view_count": null,
       "_view_module": "@jupyter-widgets/controls",
       "_view_module_version": "2.0.0",
       "_view_name": "HTMLView",
       "description": "",
       "description_allow_html": false,
       "layout": "IPY_MODEL_56b46faa8ba1422db0cc48ad5053344c",
       "placeholder": "​",
       "style": "IPY_MODEL_198f3c6e2a6e410290dae424b0bf2999",
       "tabbable": null,
       "tooltip": null,
       "value": " Rows 24766/24766 | Elapsed Time: 00:14 | Remaining Time: 00:00"
      }
     },
     "915a82cc9eaa4ac6b4c936fa5df5534f": {
      "model_module": "@jupyter-widgets/controls",
      "model_module_version": "2.0.0",
      "model_name": "FloatProgressModel",
      "state": {
       "_dom_classes": [],
       "_model_module": "@jupyter-widgets/controls",
       "_model_module_version": "2.0.0",
       "_model_name": "FloatProgressModel",
       "_view_count": null,
       "_view_module": "@jupyter-widgets/controls",
       "_view_module_version": "2.0.0",
       "_view_name": "ProgressView",
       "bar_style": "success",
       "description": "",
       "description_allow_html": false,
       "layout": "IPY_MODEL_bf02c93fb09b49dd9031912524f63242",
       "max": 24766.0,
       "min": 0.0,
       "orientation": "horizontal",
       "style": "IPY_MODEL_3bcd50945f9c4c6c8b768b998da7bd0e",
       "tabbable": null,
       "tooltip": null,
       "value": 24766.0
      }
     },
     "bf02c93fb09b49dd9031912524f63242": {
      "model_module": "@jupyter-widgets/base",
      "model_module_version": "2.0.0",
      "model_name": "LayoutModel",
      "state": {
       "_model_module": "@jupyter-widgets/base",
       "_model_module_version": "2.0.0",
       "_model_name": "LayoutModel",
       "_view_count": null,
       "_view_module": "@jupyter-widgets/base",
       "_view_module_version": "2.0.0",
       "_view_name": "LayoutView",
       "align_content": null,
       "align_items": null,
       "align_self": null,
       "border_bottom": null,
       "border_left": null,
       "border_right": null,
       "border_top": null,
       "bottom": null,
       "display": null,
       "flex": null,
       "flex_flow": null,
       "grid_area": null,
       "grid_auto_columns": null,
       "grid_auto_flow": null,
       "grid_auto_rows": null,
       "grid_column": null,
       "grid_gap": null,
       "grid_row": null,
       "grid_template_areas": null,
       "grid_template_columns": null,
       "grid_template_rows": null,
       "height": null,
       "justify_content": null,
       "justify_items": null,
       "left": null,
       "margin": null,
       "max_height": null,
       "max_width": null,
       "min_height": null,
       "min_width": null,
       "object_fit": null,
       "object_position": null,
       "order": null,
       "overflow": null,
       "padding": null,
       "right": null,
       "top": null,
       "visibility": null,
       "width": null
      }
     },
     "f7a0016c1ad7418b83fd9ca3d9acdda6": {
      "model_module": "@jupyter-widgets/base",
      "model_module_version": "2.0.0",
      "model_name": "LayoutModel",
      "state": {
       "_model_module": "@jupyter-widgets/base",
       "_model_module_version": "2.0.0",
       "_model_name": "LayoutModel",
       "_view_count": null,
       "_view_module": "@jupyter-widgets/base",
       "_view_module_version": "2.0.0",
       "_view_name": "LayoutView",
       "align_content": null,
       "align_items": null,
       "align_self": null,
       "border_bottom": null,
       "border_left": null,
       "border_right": null,
       "border_top": null,
       "bottom": null,
       "display": null,
       "flex": null,
       "flex_flow": null,
       "grid_area": null,
       "grid_auto_columns": null,
       "grid_auto_flow": null,
       "grid_auto_rows": null,
       "grid_column": null,
       "grid_gap": null,
       "grid_row": null,
       "grid_template_areas": null,
       "grid_template_columns": null,
       "grid_template_rows": null,
       "height": null,
       "justify_content": null,
       "justify_items": null,
       "left": null,
       "margin": null,
       "max_height": null,
       "max_width": null,
       "min_height": null,
       "min_width": null,
       "object_fit": null,
       "object_position": null,
       "order": null,
       "overflow": null,
       "padding": null,
       "right": null,
       "top": null,
       "visibility": null,
       "width": null
      }
     }
    },
    "version_major": 2,
    "version_minor": 0
   }
  }
 },
 "nbformat": 4,
 "nbformat_minor": 5
}
