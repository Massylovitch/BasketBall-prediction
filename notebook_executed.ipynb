{
 "cells": [
  {
   "attachments": {},
   "cell_type": "markdown",
   "id": "f8e4f389",
   "metadata": {},
   "source": [
    "### Production Features Pipeline"
   ]
  },
  {
   "cell_type": "code",
   "execution_count": 1,
   "id": "89fd0a47",
   "metadata": {
    "execution": {
     "iopub.execute_input": "2024-03-01T12:28:10.445886Z",
     "iopub.status.busy": "2024-03-01T12:28:10.445367Z",
     "iopub.status.idle": "2024-03-01T12:28:10.451602Z",
     "shell.execute_reply": "2024-03-01T12:28:10.451080Z"
    }
   },
   "outputs": [],
   "source": [
    "# select web scraper; 'SCRAPINGANT' or 'SELENIUM'\n",
    "# SCRAPINGANT requires a subscription but includes a proxy server\n",
    "\n",
    "WEBSCRAPER = 'SCRAPINGANT'\n",
    "# WEBSCRAPER = 'SELENIUM'"
   ]
  },
  {
   "cell_type": "code",
   "execution_count": 2,
   "id": "2f0c58a3-8738-42ad-be18-8e13c171108f",
   "metadata": {
    "execution": {
     "iopub.execute_input": "2024-03-01T12:28:10.453793Z",
     "iopub.status.busy": "2024-03-01T12:28:10.453608Z",
     "iopub.status.idle": "2024-03-01T12:28:12.527414Z",
     "shell.execute_reply": "2024-03-01T12:28:12.526823Z"
    }
   },
   "outputs": [],
   "source": [
    "import os\n",
    "\n",
    "import pandas as pd\n",
    "import numpy as np\n",
    "\n",
    "import hopsworks\n",
    "\n",
    "from datetime import datetime, timedelta\n",
    "from pytz import timezone\n",
    "\n",
    "import json\n",
    "\n",
    "import time\n",
    "\n",
    "from pathlib import Path  #for Windows/Linux compatibility\n",
    "\n",
    "# change working directory to project root when running from notebooks folder to make it easier to import modules\n",
    "# and to access sibling folders\n",
    "os.chdir('..') \n",
    "\n",
    " \n",
    "from src.utils.webscraping import (\n",
    "    get_new_games,\n",
    "    activate_web_driver,\n",
    "    get_todays_matchups,\n",
    ")\n",
    "\n",
    "from src.data.cleaning import (\n",
    "    process_games,\n",
    "    add_TARGET,\n",
    ")\n",
    "\n",
    "from src.data.build_features import (\n",
    "    process_features,\n",
    ")\n",
    "\n",
    "from src.utils.hopsworks_utils import (\n",
    "    save_feature_names,\n",
    "    convert_feature_names,\n",
    ")\n",
    "\n",
    "from src.utils.constants import (\n",
    "    FEATURE_GROUP_VERSION,\n",
    ")\n",
    "\n",
    "DATAPATH = Path(r'data')"
   ]
  },
  {
   "cell_type": "markdown",
   "id": "e754aaa7",
   "metadata": {},
   "source": [
    "**Load API keys**"
   ]
  },
  {
   "cell_type": "code",
   "execution_count": 3,
   "id": "1124d9cf-8a24-4a04-bf68-c7dc7ff1d276",
   "metadata": {
    "execution": {
     "iopub.execute_input": "2024-03-01T12:28:12.530668Z",
     "iopub.status.busy": "2024-03-01T12:28:12.530150Z",
     "iopub.status.idle": "2024-03-01T12:28:12.534742Z",
     "shell.execute_reply": "2024-03-01T12:28:12.534199Z"
    }
   },
   "outputs": [],
   "source": [
    "from dotenv import load_dotenv\n",
    "\n",
    "load_dotenv()\n",
    "\n",
    "try:\n",
    "    HOPSWORKS_API_KEY = os.environ['HOPSWORKS_API_KEY']\n",
    "except:\n",
    "    raise Exception('Set environment variable HOPSWORKS_API_KEY')\n",
    "\n",
    "# if scrapingant is chosen then set the api key, otherwise load the selenium webdriver\n",
    "if WEBSCRAPER == 'SCRAPINGANT':\n",
    "    try:\n",
    "        SCRAPINGANT_API_KEY = os.environ['SCRAPINGANT_API_KEY']\n",
    "    except:\n",
    "        raise Exception('Set environment variable SCRAPINGANT_API_KEY')\n",
    "    driver = None\n",
    "    \n",
    "elif WEBSCRAPER == 'SELENIUM':\n",
    "    driver = activate_web_driver('chromium')\n",
    "    SCRAPINGANT_API_KEY = \"\"\n",
    "    \n",
    "\n"
   ]
  },
  {
   "attachments": {},
   "cell_type": "markdown",
   "id": "2f29eac3-4b58-4a07-bdba-b4c72cb491ec",
   "metadata": {},
   "source": [
    "**Scrape New Completed Games and Format Them**"
   ]
  },
  {
   "cell_type": "code",
   "execution_count": 4,
   "id": "0e81e4bd-45fa-44f6-bbb3-7d1821c56963",
   "metadata": {
    "execution": {
     "iopub.execute_input": "2024-03-01T12:28:12.537328Z",
     "iopub.status.busy": "2024-03-01T12:28:12.536860Z",
     "iopub.status.idle": "2024-03-01T12:28:45.676812Z",
     "shell.execute_reply": "2024-03-01T12:28:45.676139Z"
    }
   },
   "outputs": [
    {
     "name": "stdout",
     "output_type": "stream",
     "text": [
      "Current month is 03\n",
      "Scraping https://www.nba.com/stats/teams/boxscores?SeasonType=Regular+Season&DateFrom=02/23/24&DateTo=03/01/24\n"
     ]
    },
    {
     "name": "stdout",
     "output_type": "stream",
     "text": [
      "No new games to process\n"
     ]
    }
   ],
   "source": [
    "df_new = get_new_games(SCRAPINGANT_API_KEY, driver)\n",
    "\n",
    "if df_new.empty:\n",
    "    print('No new games to process')\n",
    "else:\n",
    "\n",
    "    # get the SEASON of the last game in the database\n",
    "    # this will used when constructing rows for prediction\n",
    "    SEASON = df_new['SEASON'].max()\n",
    "\n",
    "    df_new.head()"
   ]
  },
  {
   "attachments": {},
   "cell_type": "markdown",
   "id": "dfd78420",
   "metadata": {},
   "source": [
    "**Retrieve todays games**"
   ]
  },
  {
   "cell_type": "code",
   "execution_count": 5,
   "id": "45afa738",
   "metadata": {
    "execution": {
     "iopub.execute_input": "2024-03-01T12:28:45.679478Z",
     "iopub.status.busy": "2024-03-01T12:28:45.679101Z",
     "iopub.status.idle": "2024-03-01T12:29:43.163301Z",
     "shell.execute_reply": "2024-03-01T12:29:43.162658Z"
    }
   },
   "outputs": [
    {
     "name": "stdout",
     "output_type": "stream",
     "text": [
      "Friday, March 1\n",
      "Saturday, March 2\n",
      "Sunday, March 3\n",
      "Monday, March 4\n",
      "Tuesday, March 5\n",
      "Wednesday, March 6\n",
      "Thursday, March 7\n",
      "Friday, March 8\n",
      "Saturday, March 9\n",
      "Sunday, March 10\n",
      "Monday, March 11\n",
      "Tuesday, March 12\n",
      "Wednesday, March 13\n",
      "Thursday, March 14\n",
      "Friday, March 15\n",
      "Saturday, March 16\n",
      "Sunday, March 17\n",
      "Monday, March 18\n",
      "Tuesday, March 19\n",
      "Wednesday, March 20\n",
      "Thursday, March 21\n",
      "Friday, March 22\n",
      "Saturday, March 23\n",
      "Sunday, March 24\n",
      "Monday, March 25\n",
      "Tuesday, March 26\n",
      "Wednesday, March 27\n",
      "Thursday, March 28\n",
      "Friday, March 29\n",
      "Saturday, March 30\n",
      "Sunday, March 31\n",
      "No games today\n"
     ]
    }
   ],
   "source": [
    "#retrieve list of teams playing today\n",
    "\n",
    "# get today's games on NBA schedule\n",
    "matchups, game_ids = get_todays_matchups(SCRAPINGANT_API_KEY, driver)\n",
    "\n",
    "if matchups is None:\n",
    "    print('No games today')\n",
    "else:\n",
    "    print(matchups)\n",
    "    print(game_ids)\n",
    "\n"
   ]
  },
  {
   "attachments": {},
   "cell_type": "markdown",
   "id": "3aef12e5",
   "metadata": {},
   "source": [
    "**Close Webdriver**"
   ]
  },
  {
   "cell_type": "code",
   "execution_count": 6,
   "id": "5766c712",
   "metadata": {
    "execution": {
     "iopub.execute_input": "2024-03-01T12:29:43.166125Z",
     "iopub.status.busy": "2024-03-01T12:29:43.165766Z",
     "iopub.status.idle": "2024-03-01T12:29:43.168782Z",
     "shell.execute_reply": "2024-03-01T12:29:43.168243Z"
    }
   },
   "outputs": [],
   "source": [
    "if WEBSCRAPER == 'SELENIUM':\n",
    "    driver.close() "
   ]
  },
  {
   "attachments": {},
   "cell_type": "markdown",
   "id": "4a4abb60",
   "metadata": {},
   "source": [
    "**Check if anything is going on in the season**"
   ]
  },
  {
   "cell_type": "code",
   "execution_count": 7,
   "id": "0b720127",
   "metadata": {
    "execution": {
     "iopub.execute_input": "2024-03-01T12:29:43.171139Z",
     "iopub.status.busy": "2024-03-01T12:29:43.170763Z",
     "iopub.status.idle": "2024-03-01T12:29:43.174490Z",
     "shell.execute_reply": "2024-03-01T12:29:43.173817Z"
    }
   },
   "outputs": [
    {
     "name": "stdout",
     "output_type": "stream",
     "text": [
      "No new games to process\n"
     ]
    }
   ],
   "source": [
    "UPDATE_WF = True\n",
    "\n",
    "if (df_new.empty) and (matchups is None):\n",
    "    print('No new games to process')\n",
    "\n",
    "    UPDATE_WF = False\n",
    "    # exit()\n",
    "    "
   ]
  },
  {
   "attachments": {},
   "cell_type": "markdown",
   "id": "a43729ef",
   "metadata": {},
   "source": [
    "**Create Rows for Today's Games with Empty Stats**"
   ]
  },
  {
   "cell_type": "code",
   "execution_count": 8,
   "id": "dc4f3393",
   "metadata": {
    "execution": {
     "iopub.execute_input": "2024-03-01T12:29:43.177068Z",
     "iopub.status.busy": "2024-03-01T12:29:43.176599Z",
     "iopub.status.idle": "2024-03-01T12:29:43.181553Z",
     "shell.execute_reply": "2024-03-01T12:29:43.180867Z"
    }
   },
   "outputs": [
    {
     "name": "stdout",
     "output_type": "stream",
     "text": [
      "No games going on. Nothing to do.\n"
     ]
    }
   ],
   "source": [
    "# reformat today's matchups to the new games dataframe\n",
    "\n",
    "if matchups is None:\n",
    "    print('No games going on. Nothing to do.')\n",
    "    # exit()    \n",
    "\n",
    "else:\n",
    "\n",
    "    df_today = df_new.drop(df_new.index) #empty copy of df_new with same columns\n",
    "    for i, matchup in enumerate(matchups):\n",
    "        game_details = {'HOME_TEAM_ID': matchup[1], \n",
    "                        'VISITOR_TEAM_ID': matchup[0], \n",
    "                        'GAME_DATE_EST': datetime.now(timezone('EST')).strftime(\"%Y-%m-%d\"), \n",
    "                        'GAME_ID': int(game_ids[i]),                       \n",
    "                        'SEASON': SEASON,\n",
    "                        } \n",
    "        game_details_df = pd.DataFrame(game_details, index=[i])\n",
    "        # append to new games dataframe\n",
    "        df_today = pd.concat([df_today, game_details_df], ignore_index = True)\n",
    "\n",
    "    #blank rows will be filled with 0 to prevent issues with feature engineering\n",
    "    df_today = df_today.fillna(0) \n",
    "\n",
    "    df_today\n",
    "\n"
   ]
  },
  {
   "cell_type": "markdown",
   "id": "acfb1180-ea38-452c-9afd-73eea3ee7e17",
   "metadata": {},
   "source": [
    "**Access Feature Store**"
   ]
  },
  {
   "cell_type": "code",
   "execution_count": 9,
   "id": "ba69a88c-691e-4f8d-b68e-e79f5582a939",
   "metadata": {
    "execution": {
     "iopub.execute_input": "2024-03-01T12:29:43.184114Z",
     "iopub.status.busy": "2024-03-01T12:29:43.183771Z",
     "iopub.status.idle": "2024-03-01T12:29:43.187566Z",
     "shell.execute_reply": "2024-03-01T12:29:43.186966Z"
    }
   },
   "outputs": [],
   "source": [
    "if UPDATE_WF:\n",
    "\n",
    "    project = hopsworks.login(api_key_value=HOPSWORKS_API_KEY)\n",
    "\n",
    "    # HOPSWORKS can be kinda buggy and has been throwing a lot of errors recently or even just failing to return data\n",
    "    # so I'm adding a try/except block to retry the query if it fails\n",
    "    tries = 5\n",
    "\n",
    "    for i in range(tries):\n",
    "        \n",
    "        try:\n",
    "            fs = project.get_feature_store()\n",
    "        except KeyError as e:\n",
    "            if i < tries - 1: # i is zero indexed\n",
    "                time.sleep(30)\n",
    "                continue\n",
    "            else:\n",
    "                raise ValueError('HOPSWORKS failed to connect')\n",
    "        break\n",
    "\n"
   ]
  },
  {
   "cell_type": "markdown",
   "id": "256829e7",
   "metadata": {},
   "source": [
    "**Access Feature Group**"
   ]
  },
  {
   "cell_type": "code",
   "execution_count": 10,
   "id": "641d97e5-0888-42c3-a9b1-97c9ef2b7082",
   "metadata": {
    "execution": {
     "iopub.execute_input": "2024-03-01T12:29:43.190005Z",
     "iopub.status.busy": "2024-03-01T12:29:43.189653Z",
     "iopub.status.idle": "2024-03-01T12:29:43.193523Z",
     "shell.execute_reply": "2024-03-01T12:29:43.192888Z"
    }
   },
   "outputs": [],
   "source": [
    "# HOPSWORKS can be kinda buggy and has been throwing a lot of errors recently or even just failing to return data\n",
    "# so I'm adding a try/except block to retry the query if it fails\n",
    "tries = 5\n",
    "\n",
    "if UPDATE_WF:\n",
    "    for i in range(tries):\n",
    "        \n",
    "        try:\n",
    "            rolling_stats_fg = fs.get_feature_group(\n",
    "            name=\"rolling_stats\",\n",
    "            version=FEATURE_GROUP_VERSION,\n",
    "            )\n",
    "        except KeyError as e:\n",
    "            if i < tries - 1: # i is zero indexed\n",
    "                time.sleep(30)\n",
    "                continue\n",
    "            else:\n",
    "                raise ValueError('HOPSWORKS failed to connect')\n",
    "        break\n",
    "\n"
   ]
  },
  {
   "attachments": {},
   "cell_type": "markdown",
   "id": "0acc836a",
   "metadata": {},
   "source": [
    "**Query Old Data Needed for Feature Engineering of New Data**\n",
    "\n",
    "To generate features like rolling averages for the new games, older data from previous games is needed since some of the rolling averages might extend back 15 or 20 games or so."
   ]
  },
  {
   "cell_type": "code",
   "execution_count": 11,
   "id": "69a2b254",
   "metadata": {
    "execution": {
     "iopub.execute_input": "2024-03-01T12:29:43.195869Z",
     "iopub.status.busy": "2024-03-01T12:29:43.195566Z",
     "iopub.status.idle": "2024-03-01T12:29:43.200477Z",
     "shell.execute_reply": "2024-03-01T12:29:43.199862Z"
    }
   },
   "outputs": [],
   "source": [
    "BASE_FEATURES = ['game_date_est',\n",
    " 'game_id',\n",
    " 'home_team_id',\n",
    " 'visitor_team_id',\n",
    " 'season',\n",
    " 'pts_home',\n",
    " 'fg_pct_home',\n",
    " 'ft_pct_home',\n",
    " 'fg3_pct_home',\n",
    " 'ast_home',\n",
    " 'reb_home',\n",
    " 'pts_away',\n",
    " 'fg_pct_away',\n",
    " 'ft_pct_away',\n",
    " 'fg3_pct_away',\n",
    " 'ast_away',\n",
    " 'reb_away',\n",
    " 'home_team_wins',\n",
    "]\n",
    "\n",
    "if UPDATE_WF:\n",
    "    ds_query = rolling_stats_fg.select(BASE_FEATURES)\n",
    "\n",
    "    # HOPSWORKS can be kinda buggy and has been throwing a lot of errors recently or even just failing to return data\n",
    "    # so I'm adding a try/except block to retry the query if it fails\n",
    "    tries = 5\n",
    "\n",
    "    for i in range(tries):\n",
    "        for j in range(tries):\n",
    "            try:\n",
    "                df_old = ds_query.read()\n",
    "            except KeyError as e:\n",
    "                if j < tries - 1: \n",
    "                    time.sleep(10)\n",
    "                    continue\n",
    "                else:\n",
    "                    raise ValueError('HOPSWORKS failed to connect')\n",
    "            break\n",
    "\n",
    "        if df_old.empty:\n",
    "            if i < tries - 1: \n",
    "                time.sleep(10)\n",
    "            else:\n",
    "                raise ValueError('HOPSWORKS failed to return data')\n",
    "        else:\n",
    "            break\n",
    "\n"
   ]
  },
  {
   "attachments": {},
   "cell_type": "markdown",
   "id": "3185e1e1",
   "metadata": {},
   "source": [
    "**Convert Feature Names back to original mixed case**"
   ]
  },
  {
   "cell_type": "code",
   "execution_count": 12,
   "id": "11fc2684",
   "metadata": {
    "execution": {
     "iopub.execute_input": "2024-03-01T12:29:43.202866Z",
     "iopub.status.busy": "2024-03-01T12:29:43.202564Z",
     "iopub.status.idle": "2024-03-01T12:29:43.205721Z",
     "shell.execute_reply": "2024-03-01T12:29:43.205075Z"
    }
   },
   "outputs": [],
   "source": [
    "#hopsworks converts all feature names to lowercase, and for code reuse, we need to convert them back\n",
    "if UPDATE_WF:\n",
    "    df_old = convert_feature_names(df_old)\n",
    "    df_old\n",
    "    df_old[df_old['PTS_home'] == 0]\n",
    "    df_old"
   ]
  },
  {
   "attachments": {},
   "cell_type": "markdown",
   "id": "9453ea9a",
   "metadata": {},
   "source": [
    "**Update Yesterday's Matchup Predictions with New Final Results**"
   ]
  },
  {
   "cell_type": "code",
   "execution_count": 13,
   "id": "f5be2f9c",
   "metadata": {
    "execution": {
     "iopub.execute_input": "2024-03-01T12:29:43.208266Z",
     "iopub.status.busy": "2024-03-01T12:29:43.207900Z",
     "iopub.status.idle": "2024-03-01T12:29:43.211181Z",
     "shell.execute_reply": "2024-03-01T12:29:43.210571Z"
    }
   },
   "outputs": [],
   "source": [
    "# filter out games that are pending final results\n",
    "# (these were the rows used for prediction yesterday)\n",
    "# and then update these with the new results\n",
    "\n",
    "\n",
    "# one approach is to simply drop the rows that were used for prediction yesterday\n",
    "# which are games that have 0 points for home team\n",
    "# and then append the new rows to the dataframe\n",
    "if UPDATE_WF:\n",
    "\n",
    "    df_old = df_old[df_old['PTS_home'] != 0]\n",
    "    df_old = pd.concat([df_old, df_new], ignore_index = True)\n",
    "    df_old"
   ]
  },
  {
   "attachments": {},
   "cell_type": "markdown",
   "id": "f169f4ce",
   "metadata": {},
   "source": [
    "**Add Today's Matchups for Feature Engineering**"
   ]
  },
  {
   "cell_type": "code",
   "execution_count": 14,
   "id": "a82bf4a8",
   "metadata": {
    "execution": {
     "iopub.execute_input": "2024-03-01T12:29:43.213675Z",
     "iopub.status.busy": "2024-03-01T12:29:43.213276Z",
     "iopub.status.idle": "2024-03-01T12:29:43.216610Z",
     "shell.execute_reply": "2024-03-01T12:29:43.216071Z"
    }
   },
   "outputs": [],
   "source": [
    "if UPDATE_WF:\n",
    "\n",
    "    if matchups is None:\n",
    "        print('No games today')\n",
    "        df_combined = df_old\n",
    "    else:\n",
    "        df_combined = pd.concat([df_old, df_today], ignore_index = True)\n",
    "        df_combined"
   ]
  },
  {
   "cell_type": "markdown",
   "id": "835625fc-be47-4a8f-a532-02dc8e79363e",
   "metadata": {},
   "source": [
    "**Data Processing**"
   ]
  },
  {
   "cell_type": "code",
   "execution_count": 15,
   "id": "8577f0e2-39f7-4cef-9f8f-e687cb73f1bb",
   "metadata": {
    "execution": {
     "iopub.execute_input": "2024-03-01T12:29:43.218948Z",
     "iopub.status.busy": "2024-03-01T12:29:43.218755Z",
     "iopub.status.idle": "2024-03-01T12:29:43.221706Z",
     "shell.execute_reply": "2024-03-01T12:29:43.221077Z"
    }
   },
   "outputs": [],
   "source": [
    "if UPDATE_WF:\n",
    "    df_combined = process_games(df_combined) \n",
    "    df_combined = add_TARGET(df_combined)\n",
    "    df_combined"
   ]
  },
  {
   "cell_type": "markdown",
   "id": "cccb588e",
   "metadata": {},
   "source": [
    "**Feature Engineering**"
   ]
  },
  {
   "cell_type": "code",
   "execution_count": 16,
   "id": "19484061",
   "metadata": {
    "execution": {
     "iopub.execute_input": "2024-03-01T12:29:43.224180Z",
     "iopub.status.busy": "2024-03-01T12:29:43.223807Z",
     "iopub.status.idle": "2024-03-01T12:29:43.227247Z",
     "shell.execute_reply": "2024-03-01T12:29:43.226710Z"
    }
   },
   "outputs": [],
   "source": [
    "# Feature engineering to add: \n",
    "    # rolling averages of key stats, \n",
    "    # win/lose streaks, \n",
    "    # home/away streaks, \n",
    "    # specific matchup (team X vs team Y) rolling averages and streaks\n",
    "if UPDATE_WF:\n",
    "    df_combined = process_features(df_combined)\n",
    "\n",
    "\n",
    "\n",
    "    #fix type conversion issues with hopsworks\n",
    "    df_combined['TARGET'] = df_combined['TARGET'].astype('int16')\n",
    "    df_combined['HOME_TEAM_WINS'] = df_combined['HOME_TEAM_WINS'].astype('int16')\n",
    "    df_combined\n"
   ]
  },
  {
   "attachments": {},
   "cell_type": "markdown",
   "id": "67eea1e5",
   "metadata": {},
   "source": [
    "**Insert New Data into Feature Group**"
   ]
  },
  {
   "cell_type": "code",
   "execution_count": 17,
   "id": "a76fc400",
   "metadata": {
    "execution": {
     "iopub.execute_input": "2024-03-01T12:29:43.229690Z",
     "iopub.status.busy": "2024-03-01T12:29:43.229225Z",
     "iopub.status.idle": "2024-03-01T12:29:43.233181Z",
     "shell.execute_reply": "2024-03-01T12:29:43.232528Z"
    }
   },
   "outputs": [],
   "source": [
    "# HOPSWORKS can be kinda buggy and has been throwing a lot of errors recently or even just failing to return data\n",
    "# so I'm adding a try/except block to retry the query if it fails\n",
    "tries = 5\n",
    "\n",
    "if UPDATE_WF:\n",
    "    for i in range(tries):\n",
    "        \n",
    "        try:\n",
    "            rolling_stats_fg.insert(df_combined, overwrite = True, write_options={\"wait_for_job\" : False})\n",
    "        except KeyError as e:\n",
    "            if i < tries - 1: \n",
    "                time.sleep(30)\n",
    "                continue\n",
    "            else:\n",
    "                raise ValueError('HOPSWORKS failed to connect')\n",
    "        break\n",
    "\n"
   ]
  }
 ],
 "metadata": {
  "kernelspec": {
   "display_name": "nba3",
   "language": "python",
   "name": "python3"
  },
  "language_info": {
   "codemirror_mode": {
    "name": "ipython",
    "version": 3
   },
   "file_extension": ".py",
   "mimetype": "text/x-python",
   "name": "python",
   "nbconvert_exporter": "python",
   "pygments_lexer": "ipython3",
   "version": "3.10.12"
  },
  "vscode": {
   "interpreter": {
    "hash": "4655998f62ad965cbd25df51edb717f2326f5df53d53899f0ae604225aa5ae06"
   }
  }
 },
 "nbformat": 4,
 "nbformat_minor": 5
}
