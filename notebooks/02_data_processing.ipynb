{
 "cells": [
  {
   "cell_type": "markdown",
   "id": "04d7fe22-2c2f-470c-8017-386de2f80a29",
   "metadata": {},
   "source": [
    "# Data Processing"
   ]
  },
  {
   "cell_type": "code",
   "execution_count": null,
   "id": "977e1f72-5654-4037-8fe6-d9c25195aff0",
   "metadata": {},
   "outputs": [],
   "source": [
    "import pandas as pd\n",
    "import numpy as np\n",
    "\n",
    "pd.set_option('display.max_columns', 500)\n",
    "\n",
    "# For Visualization\n",
    "import matplotlib.pyplot as plt\n",
    "import seaborn as sns\n",
    "\n",
    "from pathlib import Path  #for Windows/Linux compatibility\n",
    "DATAPATH = Path(r'../data')\n"
   ]
  },
  {
   "cell_type": "markdown",
   "id": "7d4634b3-1c50-4580-a579-2d1213cc450e",
   "metadata": {},
   "source": [
    "## games.csv"
   ]
  },
  {
   "cell_type": "code",
   "execution_count": null,
   "id": "89f6bdeb-ffd0-4d06-b7e0-ffa9dfc1fcce",
   "metadata": {},
   "outputs": [],
   "source": [
    "games = pd.read_csv(DATAPATH / \"interim\" /\"games.csv\")\n",
    "games.head()"
   ]
  },
  {
   "cell_type": "code",
   "execution_count": null,
   "id": "c9fc0543",
   "metadata": {},
   "outputs": [],
   "source": [
    "games.shape"
   ]
  },
  {
   "cell_type": "markdown",
   "id": "ff053f41-dbe5-4bfb-af97-4cb3bb86c01d",
   "metadata": {},
   "source": [
    "**Clean Data**"
   ]
  },
  {
   "cell_type": "code",
   "execution_count": null,
   "id": "d6b2ba8c-c5cd-4f49-8716-07c07ab156a5",
   "metadata": {},
   "outputs": [],
   "source": [
    "#remove preseason games (GAME_ID begins with a 1)\n",
    "games = games[games['GAME_ID'] > 20000000]\n",
    "\n",
    "#flag postseason games (GAME_ID begins with >2)\n",
    "games['PLAYOFF'] = (games['GAME_ID'] >= 30000000).astype('int8')\n",
    "\n",
    "#remove duplicates (each GAME_ID should be unique)\n",
    "games = games[~games.duplicated(subset=['GAME_ID'])]\n",
    "\n",
    "#drop unnecessary fields\n",
    "drop_fields = ['GAME_STATUS_TEXT']\n",
    "games = games.drop(drop_fields,axis=1)\n",
    "\n",
    "games\n",
    "    "
   ]
  },
  {
   "cell_type": "code",
   "execution_count": null,
   "id": "4d2d8152-887d-4c9a-ba85-4df3c5c92c20",
   "metadata": {},
   "outputs": [],
   "source": [
    "games[\"TARGET\"] = games[\"HOME_TEAM_WINS\"]\n",
    "\n",
    "games"
   ]
  },
  {
   "cell_type": "markdown",
   "id": "edbd5f90-09aa-430f-8635-d8485e4cc15f",
   "metadata": {},
   "source": [
    "**Save Train Data**"
   ]
  },
  {
   "cell_type": "code",
   "execution_count": null,
   "id": "2145c28a-d7c6-421c-bb7b-9a821517b84b",
   "metadata": {},
   "outputs": [],
   "source": [
    "games.to_csv(DATAPATH / \"interim\" / \"transformed.csv\", index=False)"
   ]
  }
 ],
 "metadata": {
  "kernelspec": {
   "display_name": "basketball-prediction-klrE3EAW-py3.12",
   "language": "python",
   "name": "python3"
  },
  "language_info": {
   "codemirror_mode": {
    "name": "ipython",
    "version": 3
   },
   "file_extension": ".py",
   "mimetype": "text/x-python",
   "name": "python",
   "nbconvert_exporter": "python",
   "pygments_lexer": "ipython3",
   "version": "3.12.3"
  }
 },
 "nbformat": 4,
 "nbformat_minor": 5
}
