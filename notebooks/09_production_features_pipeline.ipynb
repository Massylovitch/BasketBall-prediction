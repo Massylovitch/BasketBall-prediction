{
 "cells": [
  {
   "attachments": {},
   "cell_type": "markdown",
   "id": "f8e4f389",
   "metadata": {},
   "source": [
    "### Production Features Pipeline"
   ]
  },
  {
   "cell_type": "code",
   "execution_count": null,
   "id": "89fd0a47",
   "metadata": {},
   "outputs": [],
   "source": [
    "# select web scraper; 'SCRAPINGANT' or 'SELENIUM'\n",
    "# SCRAPINGANT requires a subscription but includes a proxy server\n",
    "\n",
    "# WEBSCRAPER = 'SCRAPINGANT'\n",
    "WEBSCRAPER = 'SELENIUM'"
   ]
  },
  {
   "cell_type": "code",
   "execution_count": null,
   "id": "2f0c58a3-8738-42ad-be18-8e13c171108f",
   "metadata": {},
   "outputs": [],
   "source": [
    "import os\n",
    "\n",
    "import pandas as pd\n",
    "import numpy as np\n",
    "\n",
    "import hopsworks\n",
    "\n",
    "from datetime import datetime, timedelta\n",
    "from pytz import timezone\n",
    "\n",
    "import json\n",
    "\n",
    "import time\n",
    "\n",
    "from pathlib import Path  #for Windows/Linux compatibility\n",
    "\n",
    "# change working directory to project root when running from notebooks folder to make it easier to import modules\n",
    "# and to access sibling folders\n",
    "os.chdir('..') \n",
    "\n",
    " \n",
    "from src.utils.webscraping import (\n",
    "    get_new_games,\n",
    "    activate_web_driver,\n",
    "    get_todays_matchups,\n",
    ")\n",
    "\n",
    "from src.data.cleaning import (\n",
    "    process_games,\n",
    "    add_TARGET,\n",
    ")\n",
    "\n",
    "from src.data.build_features import (\n",
    "    process_features,\n",
    ")\n",
    "\n",
    "from src.utils.hopsworks_utils import (\n",
    "    save_feature_names,\n",
    "    convert_feature_names,\n",
    ")\n",
    "\n",
    "from src.utils.constants import (\n",
    "    FEATURE_GROUP_VERSION,\n",
    ")\n",
    "\n",
    "DATAPATH = Path(r'data')"
   ]
  },
  {
   "cell_type": "markdown",
   "id": "e754aaa7",
   "metadata": {},
   "source": [
    "**Load API keys**"
   ]
  },
  {
   "cell_type": "code",
   "execution_count": null,
   "id": "1124d9cf-8a24-4a04-bf68-c7dc7ff1d276",
   "metadata": {},
   "outputs": [],
   "source": [
    "from dotenv import load_dotenv\n",
    "\n",
    "load_dotenv()\n",
    "\n",
    "try:\n",
    "    HOPSWORKS_API_KEY = os.environ['HOPSWORKS_API_KEY']\n",
    "except:\n",
    "    raise Exception('Set environment variable HOPSWORKS_API_KEY')\n",
    "\n",
    "# if scrapingant is chosen then set the api key, otherwise load the selenium webdriver\n",
    "if WEBSCRAPER == 'SCRAPINGANT':\n",
    "    try:\n",
    "        SCRAPINGANT_API_KEY = os.environ['SCRAPINGANT_API_KEY']\n",
    "    except:\n",
    "        raise Exception('Set environment variable SCRAPINGANT_API_KEY')\n",
    "    driver = None\n",
    "    \n",
    "elif WEBSCRAPER == 'SELENIUM':\n",
    "    driver = activate_web_driver('chromium')\n",
    "    SCRAPINGANT_API_KEY = \"\"\n",
    "    \n",
    "\n"
   ]
  },
  {
   "attachments": {},
   "cell_type": "markdown",
   "id": "2f29eac3-4b58-4a07-bdba-b4c72cb491ec",
   "metadata": {},
   "source": [
    "**Scrape New Completed Games and Format Them**"
   ]
  },
  {
   "cell_type": "code",
   "execution_count": null,
   "id": "0e81e4bd-45fa-44f6-bbb3-7d1821c56963",
   "metadata": {},
   "outputs": [],
   "source": [
    "\n",
    "\n",
    "df_new = get_new_games(SCRAPINGANT_API_KEY, driver)\n",
    "\n",
    "if df_new.empty:\n",
    "    print('No new games to process')\n",
    "else:\n",
    "\n",
    "    # get the SEASON of the last game in the database\n",
    "    # this will used when constructing rows for prediction\n",
    "    SEASON = df_new['SEASON'].max()\n",
    "\n",
    "    df_new\n",
    "\n",
    "\n"
   ]
  },
  {
   "attachments": {},
   "cell_type": "markdown",
   "id": "dfd78420",
   "metadata": {},
   "source": [
    "**Retrieve todays games**"
   ]
  },
  {
   "cell_type": "code",
   "execution_count": 14,
   "id": "45afa738",
   "metadata": {},
   "outputs": [
    {
     "ename": "InvalidSessionIdException",
     "evalue": "Message: invalid session id\nStacktrace:\n#0 0x5558a9e97e23 <unknown>\n#1 0x5558a9bc05f6 <unknown>\n#2 0x5558a9bf2f26 <unknown>\n#3 0x5558a9c1ff16 <unknown>\n#4 0x5558a9c1c0ad <unknown>\n#5 0x5558a9c1b815 <unknown>\n#6 0x5558a9b8d853 <unknown>\n#7 0x5558a9e59638 <unknown>\n#8 0x5558a9e5d507 <unknown>\n#9 0x5558a9e67c4c <unknown>\n#10 0x5558a9e5e136 <unknown>\n#11 0x5558a9e2c9cf <unknown>\n#12 0x5558a9b8bd78 <unknown>\n#13 0x7f537da29d90 <unknown>\n",
     "output_type": "error",
     "traceback": [
      "\u001b[0;31m---------------------------------------------------------------------------\u001b[0m",
      "\u001b[0;31mInvalidSessionIdException\u001b[0m                 Traceback (most recent call last)",
      "Cell \u001b[0;32mIn[14], line 4\u001b[0m\n\u001b[1;32m      1\u001b[0m \u001b[39m#retrieve list of teams playing today\u001b[39;00m\n\u001b[1;32m      2\u001b[0m \n\u001b[1;32m      3\u001b[0m \u001b[39m# get today's games on NBA schedule\u001b[39;00m\n\u001b[0;32m----> 4\u001b[0m matchups, game_ids \u001b[39m=\u001b[39m get_todays_matchups(SCRAPINGANT_API_KEY, driver)\n\u001b[1;32m      6\u001b[0m \u001b[39mif\u001b[39;00m matchups \u001b[39mis\u001b[39;00m \u001b[39mNone\u001b[39;00m:\n\u001b[1;32m      7\u001b[0m     \u001b[39mprint\u001b[39m(\u001b[39m'\u001b[39m\u001b[39mNo games today\u001b[39m\u001b[39m'\u001b[39m)\n",
      "File \u001b[0;32m~/Projects/basketball-prediction/src/utils/webscraping.py:404\u001b[0m, in \u001b[0;36mget_todays_matchups\u001b[0;34m(api_key, driver)\u001b[0m\n\u001b[1;32m    400\u001b[0m NBA_SCHEDULE \u001b[39m=\u001b[39m \u001b[39m\"\u001b[39m\u001b[39mhttps://www.nba.com/schedule\u001b[39m\u001b[39m\"\u001b[39m\n\u001b[1;32m    403\u001b[0m \u001b[39mif\u001b[39;00m api_key \u001b[39m==\u001b[39m \u001b[39m\"\u001b[39m\u001b[39m\"\u001b[39m: \u001b[39m#if no api key, then use selenium\u001b[39;00m\n\u001b[0;32m--> 404\u001b[0m     driver\u001b[39m.\u001b[39;49mget(NBA_SCHEDULE)\n\u001b[1;32m    405\u001b[0m     time\u001b[39m.\u001b[39msleep(\u001b[39m10\u001b[39m)\n\u001b[1;32m    406\u001b[0m     source \u001b[39m=\u001b[39m soup(driver\u001b[39m.\u001b[39mpage_source, \u001b[39m'\u001b[39m\u001b[39mhtml.parser\u001b[39m\u001b[39m'\u001b[39m)\n",
      "File \u001b[0;32m~/.cache/pypoetry/virtualenvs/basketball-prediction-oUm1FXwM-py3.8/lib/python3.8/site-packages/selenium/webdriver/remote/webdriver.py:354\u001b[0m, in \u001b[0;36mWebDriver.get\u001b[0;34m(self, url)\u001b[0m\n\u001b[1;32m    352\u001b[0m \u001b[39mdef\u001b[39;00m \u001b[39mget\u001b[39m(\u001b[39mself\u001b[39m, url: \u001b[39mstr\u001b[39m) \u001b[39m-\u001b[39m\u001b[39m>\u001b[39m \u001b[39mNone\u001b[39;00m:\n\u001b[1;32m    353\u001b[0m \u001b[39m    \u001b[39m\u001b[39m\"\"\"Loads a web page in the current browser session.\"\"\"\u001b[39;00m\n\u001b[0;32m--> 354\u001b[0m     \u001b[39mself\u001b[39;49m\u001b[39m.\u001b[39;49mexecute(Command\u001b[39m.\u001b[39;49mGET, {\u001b[39m\"\u001b[39;49m\u001b[39murl\u001b[39;49m\u001b[39m\"\u001b[39;49m: url})\n",
      "File \u001b[0;32m~/.cache/pypoetry/virtualenvs/basketball-prediction-oUm1FXwM-py3.8/lib/python3.8/site-packages/selenium/webdriver/remote/webdriver.py:345\u001b[0m, in \u001b[0;36mWebDriver.execute\u001b[0;34m(self, driver_command, params)\u001b[0m\n\u001b[1;32m    343\u001b[0m response \u001b[39m=\u001b[39m \u001b[39mself\u001b[39m\u001b[39m.\u001b[39mcommand_executor\u001b[39m.\u001b[39mexecute(driver_command, params)\n\u001b[1;32m    344\u001b[0m \u001b[39mif\u001b[39;00m response:\n\u001b[0;32m--> 345\u001b[0m     \u001b[39mself\u001b[39;49m\u001b[39m.\u001b[39;49merror_handler\u001b[39m.\u001b[39;49mcheck_response(response)\n\u001b[1;32m    346\u001b[0m     response[\u001b[39m\"\u001b[39m\u001b[39mvalue\u001b[39m\u001b[39m\"\u001b[39m] \u001b[39m=\u001b[39m \u001b[39mself\u001b[39m\u001b[39m.\u001b[39m_unwrap_value(response\u001b[39m.\u001b[39mget(\u001b[39m\"\u001b[39m\u001b[39mvalue\u001b[39m\u001b[39m\"\u001b[39m, \u001b[39mNone\u001b[39;00m))\n\u001b[1;32m    347\u001b[0m     \u001b[39mreturn\u001b[39;00m response\n",
      "File \u001b[0;32m~/.cache/pypoetry/virtualenvs/basketball-prediction-oUm1FXwM-py3.8/lib/python3.8/site-packages/selenium/webdriver/remote/errorhandler.py:229\u001b[0m, in \u001b[0;36mErrorHandler.check_response\u001b[0;34m(self, response)\u001b[0m\n\u001b[1;32m    227\u001b[0m         alert_text \u001b[39m=\u001b[39m value[\u001b[39m\"\u001b[39m\u001b[39malert\u001b[39m\u001b[39m\"\u001b[39m]\u001b[39m.\u001b[39mget(\u001b[39m\"\u001b[39m\u001b[39mtext\u001b[39m\u001b[39m\"\u001b[39m)\n\u001b[1;32m    228\u001b[0m     \u001b[39mraise\u001b[39;00m exception_class(message, screen, stacktrace, alert_text)  \u001b[39m# type: ignore[call-arg]  # mypy is not smart enough here\u001b[39;00m\n\u001b[0;32m--> 229\u001b[0m \u001b[39mraise\u001b[39;00m exception_class(message, screen, stacktrace)\n",
      "\u001b[0;31mInvalidSessionIdException\u001b[0m: Message: invalid session id\nStacktrace:\n#0 0x5558a9e97e23 <unknown>\n#1 0x5558a9bc05f6 <unknown>\n#2 0x5558a9bf2f26 <unknown>\n#3 0x5558a9c1ff16 <unknown>\n#4 0x5558a9c1c0ad <unknown>\n#5 0x5558a9c1b815 <unknown>\n#6 0x5558a9b8d853 <unknown>\n#7 0x5558a9e59638 <unknown>\n#8 0x5558a9e5d507 <unknown>\n#9 0x5558a9e67c4c <unknown>\n#10 0x5558a9e5e136 <unknown>\n#11 0x5558a9e2c9cf <unknown>\n#12 0x5558a9b8bd78 <unknown>\n#13 0x7f537da29d90 <unknown>\n"
     ]
    }
   ],
   "source": [
    "#retrieve list of teams playing today\n",
    "\n",
    "# get today's games on NBA schedule\n",
    "matchups, game_ids = get_todays_matchups(SCRAPINGANT_API_KEY, driver)\n",
    "\n",
    "if matchups is None:\n",
    "    print('No games today')\n",
    "else:\n",
    "    print(matchups)\n",
    "    print(game_ids)\n"
   ]
  },
  {
   "attachments": {},
   "cell_type": "markdown",
   "id": "3aef12e5",
   "metadata": {},
   "source": [
    "**Close Webdriver**"
   ]
  },
  {
   "cell_type": "markdown",
   "id": "5766c712",
   "metadata": {},
   "source": [
    "if WEBSCRAPER == 'SELENIUM':\n",
    "    driver.close() "
   ]
  },
  {
   "attachments": {},
   "cell_type": "markdown",
   "id": "4a4abb60",
   "metadata": {},
   "source": [
    "**Check if anything is going on in the season**"
   ]
  },
  {
   "cell_type": "markdown",
   "id": "0b720127",
   "metadata": {},
   "source": [
    "if (df_new.empty) and (matchups is None):\n",
    "    print('No new games to process')\n",
    "    # exit()\n",
    "    "
   ]
  },
  {
   "attachments": {},
   "cell_type": "markdown",
   "id": "a43729ef",
   "metadata": {},
   "source": [
    "**Create Rows for Today's Games with Empty Stats**"
   ]
  },
  {
   "cell_type": "markdown",
   "id": "dc4f3393",
   "metadata": {},
   "source": [
    "# reformat today's matchups to the new games dataframe\n",
    "\n",
    "if matchups is None:\n",
    "    print('No games going on. Nothing to do.')\n",
    "    # exit()    \n",
    "\n",
    "else:\n",
    "\n",
    "    df_today = df_new.drop(df_new.index) #empty copy of df_new with same columns\n",
    "    for i, matchup in enumerate(matchups):\n",
    "        game_details = {'HOME_TEAM_ID': matchup[1], \n",
    "                        'VISITOR_TEAM_ID': matchup[0], \n",
    "                        'GAME_DATE_EST': datetime.now(timezone('EST')).strftime(\"%Y-%m-%d\"), \n",
    "                        'GAME_ID': int(game_ids[i]),                       \n",
    "                        'SEASON': SEASON,\n",
    "                        } \n",
    "        game_details_df = pd.DataFrame(game_details, index=[i])\n",
    "        # append to new games dataframe\n",
    "        df_today = pd.concat([df_today, game_details_df], ignore_index = True)\n",
    "\n",
    "    #blank rows will be filled with 0 to prevent issues with feature engineering\n",
    "    df_today = df_today.fillna(0) \n",
    "\n",
    "    df_today\n",
    "\n"
   ]
  },
  {
   "cell_type": "markdown",
   "id": "acfb1180-ea38-452c-9afd-73eea3ee7e17",
   "metadata": {},
   "source": [
    "**Access Feature Store**"
   ]
  },
  {
   "cell_type": "markdown",
   "id": "ba69a88c-691e-4f8d-b68e-e79f5582a939",
   "metadata": {},
   "source": [
    "project = hopsworks.login(api_key_value=HOPSWORKS_API_KEY)\n",
    "\n",
    "# HOPSWORKS can be kinda buggy and has been throwing a lot of errors recently or even just failing to return data\n",
    "# so I'm adding a try/except block to retry the query if it fails\n",
    "tries = 5\n",
    "\n",
    "for i in range(tries):\n",
    "    \n",
    "    try:\n",
    "        fs = project.get_feature_store()\n",
    "    except KeyError as e:\n",
    "        if i < tries - 1: # i is zero indexed\n",
    "            time.sleep(30)\n",
    "            continue\n",
    "        else:\n",
    "            raise ValueError('HOPSWORKS failed to connect')\n",
    "    break\n",
    "\n"
   ]
  },
  {
   "cell_type": "markdown",
   "id": "256829e7",
   "metadata": {},
   "source": [
    "**Access Feature Group**"
   ]
  },
  {
   "cell_type": "markdown",
   "id": "641d97e5-0888-42c3-a9b1-97c9ef2b7082",
   "metadata": {},
   "source": [
    "# HOPSWORKS can be kinda buggy and has been throwing a lot of errors recently or even just failing to return data\n",
    "# so I'm adding a try/except block to retry the query if it fails\n",
    "tries = 5\n",
    "\n",
    "for i in range(tries):\n",
    "    \n",
    "    try:\n",
    "        rolling_stats_fg = fs.get_feature_group(\n",
    "        name=\"rolling_stats\",\n",
    "        version=FEATURE_GROUP_VERSION,\n",
    "        )\n",
    "    except KeyError as e:\n",
    "        if i < tries - 1: # i is zero indexed\n",
    "            time.sleep(30)\n",
    "            continue\n",
    "        else:\n",
    "            raise ValueError('HOPSWORKS failed to connect')\n",
    "    break\n",
    "\n"
   ]
  },
  {
   "attachments": {},
   "cell_type": "markdown",
   "id": "0acc836a",
   "metadata": {},
   "source": [
    "**Query Old Data Needed for Feature Engineering of New Data**\n",
    "\n",
    "To generate features like rolling averages for the new games, older data from previous games is needed since some of the rolling averages might extend back 15 or 20 games or so."
   ]
  },
  {
   "cell_type": "markdown",
   "id": "69a2b254",
   "metadata": {},
   "source": [
    "BASE_FEATURES = ['game_date_est',\n",
    " 'game_id',\n",
    " 'home_team_id',\n",
    " 'visitor_team_id',\n",
    " 'season',\n",
    " 'pts_home',\n",
    " 'fg_pct_home',\n",
    " 'ft_pct_home',\n",
    " 'fg3_pct_home',\n",
    " 'ast_home',\n",
    " 'reb_home',\n",
    " 'pts_away',\n",
    " 'fg_pct_away',\n",
    " 'ft_pct_away',\n",
    " 'fg3_pct_away',\n",
    " 'ast_away',\n",
    " 'reb_away',\n",
    " 'home_team_wins',\n",
    "]\n",
    "\n",
    "ds_query = rolling_stats_fg.select(BASE_FEATURES)\n",
    "\n",
    "# HOPSWORKS can be kinda buggy and has been throwing a lot of errors recently or even just failing to return data\n",
    "# so I'm adding a try/except block to retry the query if it fails\n",
    "tries = 5\n",
    "\n",
    "for i in range(tries):\n",
    "    for j in range(tries):\n",
    "        try:\n",
    "            df_old = ds_query.read()\n",
    "        except KeyError as e:\n",
    "            if j < tries - 1: \n",
    "                time.sleep(10)\n",
    "                continue\n",
    "            else:\n",
    "                raise ValueError('HOPSWORKS failed to connect')\n",
    "        break\n",
    "\n",
    "    if df_old.empty:\n",
    "        if i < tries - 1: \n",
    "            time.sleep(10)\n",
    "        else:\n",
    "            raise ValueError('HOPSWORKS failed to return data')\n",
    "    else:\n",
    "        break\n",
    "\n",
    "\n",
    "\n",
    "df_old\n"
   ]
  },
  {
   "attachments": {},
   "cell_type": "markdown",
   "id": "3185e1e1",
   "metadata": {},
   "source": [
    "**Convert Feature Names back to original mixed case**"
   ]
  },
  {
   "cell_type": "markdown",
   "id": "11fc2684",
   "metadata": {},
   "source": [
    "#hopsworks converts all feature names to lowercase, and for code reuse, we need to convert them back\n",
    "df_old = convert_feature_names(df_old)\n",
    "df_old\n",
    "df_old[df_old['PTS_home'] == 0]"
   ]
  },
  {
   "attachments": {},
   "cell_type": "markdown",
   "id": "9453ea9a",
   "metadata": {},
   "source": [
    "**Update Yesterday's Matchup Predictions with New Final Results**"
   ]
  },
  {
   "cell_type": "markdown",
   "id": "f5be2f9c",
   "metadata": {},
   "source": [
    "# filter out games that are pending final results\n",
    "# (these were the rows used for prediction yesterday)\n",
    "# and then update these with the new results\n",
    "\n",
    "\n",
    "# one approach is to simply drop the rows that were used for prediction yesterday\n",
    "# which are games that have 0 points for home team\n",
    "# and then append the new rows to the dataframe\n",
    "df_old = df_old[df_old['PTS_home'] != 0]\n",
    "df_old = pd.concat([df_old, df_new], ignore_index = True)\n",
    "\n",
    "df_old"
   ]
  },
  {
   "attachments": {},
   "cell_type": "markdown",
   "id": "f169f4ce",
   "metadata": {},
   "source": [
    "**Add Today's Matchups for Feature Engineering**"
   ]
  },
  {
   "cell_type": "markdown",
   "id": "a82bf4a8",
   "metadata": {},
   "source": [
    "if matchups is None:\n",
    "    print('No games today')\n",
    "    df_combined = df_old\n",
    "else:\n",
    "    df_combined = pd.concat([df_old, df_today], ignore_index = True)\n",
    "    df_combined"
   ]
  },
  {
   "cell_type": "markdown",
   "id": "835625fc-be47-4a8f-a532-02dc8e79363e",
   "metadata": {},
   "source": [
    "**Data Processing**"
   ]
  },
  {
   "cell_type": "markdown",
   "id": "8577f0e2-39f7-4cef-9f8f-e687cb73f1bb",
   "metadata": {},
   "source": [
    "df_combined = process_games(df_combined) \n",
    "df_combined = add_TARGET(df_combined)\n",
    "df_combined"
   ]
  },
  {
   "cell_type": "markdown",
   "id": "cccb588e",
   "metadata": {},
   "source": [
    "**Feature Engineering**"
   ]
  },
  {
   "cell_type": "markdown",
   "id": "19484061",
   "metadata": {},
   "source": [
    "# Feature engineering to add: \n",
    "    # rolling averages of key stats, \n",
    "    # win/lose streaks, \n",
    "    # home/away streaks, \n",
    "    # specific matchup (team X vs team Y) rolling averages and streaks\n",
    "\n",
    "df_combined = process_features(df_combined)\n",
    "\n",
    "\n",
    "\n",
    "#fix type conversion issues with hopsworks\n",
    "df_combined['TARGET'] = df_combined['TARGET'].astype('int16')\n",
    "df_combined['HOME_TEAM_WINS'] = df_combined['HOME_TEAM_WINS'].astype('int16')\n",
    "\n",
    "df_combined\n"
   ]
  },
  {
   "attachments": {},
   "cell_type": "markdown",
   "id": "67eea1e5",
   "metadata": {},
   "source": [
    "**Insert New Data into Feature Group**"
   ]
  },
  {
   "cell_type": "markdown",
   "id": "a76fc400",
   "metadata": {},
   "source": [
    "# HOPSWORKS can be kinda buggy and has been throwing a lot of errors recently or even just failing to return data\n",
    "# so I'm adding a try/except block to retry the query if it fails\n",
    "tries = 5\n",
    "\n",
    "for i in range(tries):\n",
    "    \n",
    "    try:\n",
    "        rolling_stats_fg.insert(df_combined, overwrite = True, write_options={\"wait_for_job\" : False})\n",
    "    except KeyError as e:\n",
    "        if i < tries - 1: \n",
    "            time.sleep(30)\n",
    "            continue\n",
    "        else:\n",
    "            raise ValueError('HOPSWORKS failed to connect')\n",
    "    break\n",
    "\n"
   ]
  }
 ],
 "metadata": {
  "kernelspec": {
   "display_name": "nba3",
   "language": "python",
   "name": "python3"
  },
  "language_info": {
   "codemirror_mode": {
    "name": "ipython",
    "version": 3
   },
   "file_extension": ".py",
   "mimetype": "text/x-python",
   "name": "python",
   "nbconvert_exporter": "python",
   "pygments_lexer": "ipython3",
   "version": "3.8.17"
  },
  "vscode": {
   "interpreter": {
    "hash": "4655998f62ad965cbd25df51edb717f2326f5df53d53899f0ae604225aa5ae06"
   }
  }
 },
 "nbformat": 4,
 "nbformat_minor": 5
}
