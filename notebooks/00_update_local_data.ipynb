{
 "cells": [
  {
   "attachments": {},
   "cell_type": "markdown",
   "id": "84b66379",
   "metadata": {},
   "source": [
    "This is a simple utility notebook to update the games.csv file with the latest data from NBA.com. You want to run this notebook before backfilling the data to Hopsworks.ai for the first time."
   ]
  },
  {
   "cell_type": "code",
   "execution_count": null,
   "id": "2f0c58a3-8738-42ad-be18-8e13c171108f",
   "metadata": {},
   "outputs": [],
   "source": [
    "import os\n",
    "\n",
    "import pandas as pd\n",
    "\n",
    "from datetime import datetime, timedelta\n",
    "from pytz import timezone\n",
    "\n",
    "# change working directory to project root when running from notebooks folder to make it easier to import modules\n",
    "# and to access\n",
    "# sibling folders\n",
    "os.chdir(\"..\")\n",
    "\n",
    "from src.utils.webscraping import (\n",
    "    activate_web_driver,\n",
    "    scrape_to_dataframe,\n",
    "    convert_columns,\n",
    "    combine_home_visitor,\n",
    ")\n",
    "\n",
    "from pathlib import Path\n",
    "\n",
    "DATAPATH = Path(r\"data\")"
   ]
  },
  {
   "cell_type": "code",
   "execution_count": null,
   "id": "ba8cdeff",
   "metadata": {},
   "outputs": [],
   "source": [
    "pd.set_option(\"display.max_columns\", None)"
   ]
  },
  {
   "attachments": {},
   "cell_type": "markdown",
   "id": "a4825c8d",
   "metadata": {},
   "source": [
    "**Determine How current is the existing data**"
   ]
  },
  {
   "cell_type": "code",
   "execution_count": null,
   "id": "2d92fcf3",
   "metadata": {},
   "outputs": [],
   "source": [
    "games_old = pd.read_csv(DATAPATH / \"raw\" / \"games.csv\")\n",
    "\n",
    "# Find the last date and season in the current dataset\n",
    "last_date = games_old[\"GAME_DATE_EST\"].max()\n",
    "last_season = games_old[\"SEASON\"].max()\n",
    "\n",
    "# remove the time from the date\n",
    "last_date = last_date.split(\" \")[0]\n",
    "\n",
    "# Determine the date of the next day to begin scraping from\n",
    "start_date = (datetime.strptime(last_date, \"%Y-%m-%d\") + timedelta(days=1)).date()\n",
    "\n",
    "# determine what season we are in currently\n",
    "today = datetime.now(timezone(\"EST\"))  # nba.com uses US Eastern Standard Time\n",
    "if today.month >= 10:\n",
    "    current_season = today.year\n",
    "else:\n",
    "    current_season = today.year - 1\n",
    "\n",
    "# determine which seasons we need to scrape to catch up the data\n",
    "seasons = list(range(last_season, current_season + 1))\n",
    "\n",
    "\n",
    "print(\"Last date in dataset: \", last_date)\n",
    "print(\"Last season in dataset: \", last_season)\n",
    "print(\"Current season: \", current_season)\n",
    "print(\"Seasons to scrape: \", seasons)\n",
    "print(\"Start date: \", start_date)\n",
    "\n",
    "# if the last date in the dataset is today, then we don't need to scrape any new data\n",
    "if start_date > datetime.now().date():\n",
    "    print(\"No new data to scrape\")\n",
    "    exit()"
   ]
  },
  {
   "attachments": {},
   "cell_type": "markdown",
   "id": "ad69f00b",
   "metadata": {},
   "source": [
    "**Activate Webdriver**"
   ]
  },
  {
   "cell_type": "code",
   "execution_count": null,
   "id": "184930c3",
   "metadata": {},
   "outputs": [],
   "source": [
    "# initiate a webdriver in selenium\n",
    "# since website data is dynamically generated\n",
    "\n",
    "driver = activate_web_driver()"
   ]
  },
  {
   "attachments": {},
   "cell_type": "markdown",
   "id": "2f29eac3-4b58-4a07-bdba-b4c72cb491ec",
   "metadata": {},
   "source": [
    "**Scrape New Completed Games and Format Them**"
   ]
  },
  {
   "cell_type": "code",
   "execution_count": null,
   "id": "eb1307a3",
   "metadata": {},
   "outputs": [],
   "source": [
    "season_types = [\"Regular+Season\", \"PlayIn\", \"Playoffs\"]\n",
    "all_season_types = pd.DataFrame()"
   ]
  },
  {
   "cell_type": "code",
   "execution_count": null,
   "id": "a7ed404b",
   "metadata": {},
   "outputs": [],
   "source": [
    "def update_games(driver, season, start_date, end_date) -> pd.DataFrame:\n",
    "\n",
    "    season_types = [\"Regular+Season\", \"PlayIn\", \"Playoffs\"]\n",
    "\n",
    "    all_season_types = pd.DataFrame()\n",
    "\n",
    "    for season_type in season_types:\n",
    "\n",
    "        df = scrape_to_dataframe(\n",
    "            api_key=\"\",\n",
    "            driver=driver,\n",
    "            Season=season,\n",
    "            DateFrom=start_date,\n",
    "            DateTo=end_date,\n",
    "            season_type=season_type,\n",
    "        )\n",
    "\n",
    "        if not (df.empty):\n",
    "            df = convert_columns(df)\n",
    "            df = combine_home_visitor(df)\n",
    "            all_season_types = pd.concat([all_season_types, df], axis=0)\n",
    "\n",
    "    return all_season_types"
   ]
  },
  {
   "cell_type": "code",
   "execution_count": null,
   "id": "8b60ded9",
   "metadata": {},
   "outputs": [],
   "source": [
    "new_games = pd.DataFrame()\n",
    "\n",
    "for season in seasons:\n",
    "    end_date = datetime.strptime(\n",
    "        f\"{season+1}-08-01\", \"%Y-%m-%d\"\n",
    "    ).date()  # use August 1st to get all games from the current season\n",
    "    print(f\"Scraping season {season} from {start_date} to {end_date}\")\n",
    "    df_season = update_games(driver, str(season), str(start_date), str(end_date))\n",
    "    new_games = pd.concat([new_games, df_season], axis=0)\n",
    "    start_date = datetime.strptime(\n",
    "        f\"{season+1}-10-01\", \"%Y-%m-%d\"\n",
    "    ).date()  # if more than 1 season, reset start date to beginning of next season\n",
    "\n",
    "\n",
    "new_games"
   ]
  },
  {
   "attachments": {},
   "cell_type": "markdown",
   "id": "3aef12e5",
   "metadata": {},
   "source": [
    "**Close Webdriver**"
   ]
  },
  {
   "cell_type": "code",
   "execution_count": null,
   "id": "5766c712",
   "metadata": {},
   "outputs": [],
   "source": [
    "driver.close()"
   ]
  },
  {
   "attachments": {},
   "cell_type": "markdown",
   "id": "a5c23d98",
   "metadata": {},
   "source": [
    "**Append to Games.csv**"
   ]
  },
  {
   "cell_type": "code",
   "execution_count": null,
   "id": "f761a359",
   "metadata": {},
   "outputs": [],
   "source": [
    "new_games[\"GAME_STATUS_TEXT\"] = \"Final\"\n",
    "\n",
    "games_old = games_old.drop(\n",
    "    columns=[\"TEAM_ID_home\", \"TEAM_ID_away\"], axis=1\n",
    ")"
   ]
  },
  {
   "cell_type": "code",
   "execution_count": null,
   "id": "ec206a78",
   "metadata": {},
   "outputs": [],
   "source": [
    "games = pd.concat([games_old, new_games], axis=0)\n",
    "\n",
    "games.to_csv(DATAPATH / \"interim\" / \"games.csv\", index=False)\n",
    "\n",
    "games"
   ]
  }
 ],
 "metadata": {
  "kernelspec": {
   "display_name": "basketball-prediction-klrE3EAW-py3.12",
   "language": "python",
   "name": "python3"
  },
  "language_info": {
   "codemirror_mode": {
    "name": "ipython",
    "version": 3
   },
   "file_extension": ".py",
   "mimetype": "text/x-python",
   "name": "python",
   "nbconvert_exporter": "python",
   "pygments_lexer": "ipython3",
   "version": "3.12.3"
  }
 },
 "nbformat": 4,
 "nbformat_minor": 5
}
