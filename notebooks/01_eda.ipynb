{
 "cells": [
  {
   "cell_type": "markdown",
   "id": "8204e97b-94ab-4bab-9077-b76d8c69bec7",
   "metadata": {},
   "source": [
    "# EDA Analysis of Raw NBA DATA"
   ]
  },
  {
   "cell_type": "code",
   "execution_count": null,
   "id": "2b0f7818-3c6c-4e23-bc3f-16d93b6a73cb",
   "metadata": {},
   "outputs": [],
   "source": [
    "import pandas as pd\n",
    "import numpy as np\n",
    "\n",
    "pd.set_option('display.max_columns', 500)\n",
    "\n",
    "# For Visualization\n",
    "import matplotlib.pyplot as plt\n",
    "import seaborn as sns\n",
    "\n",
    "from pathlib import Path  #for Windows/Linux compatibility\n",
    "DATAPATH = Path(r'../data')\n"
   ]
  },
  {
   "cell_type": "markdown",
   "id": "70fbd01c-879f-4644-95af-7e7912e8d28f",
   "metadata": {},
   "source": [
    "## Data\n",
    " - games_details.csv .. (each-game player stats for everyone on the roster)\n",
    " - games.csv .......... (each-game team stats: final scores, points scored, field-goal & free-throw percentages, etc...)\n",
    " - players.csv ........ (index of players' names and teams)\n",
    " - ranking.csv ........ (incremental daily record of standings, games played, won, lost, win%, home record, road record)\n",
    " - teams.csv .......... (index of team info such as city and arena names and also head coach) "
   ]
  },
  {
   "cell_type": "markdown",
   "id": "45e01fc5-ad7a-4429-87ea-831c6d9f88ef",
   "metadata": {},
   "source": [
    "## games.csv"
   ]
  },
  {
   "cell_type": "code",
   "execution_count": null,
   "id": "b261f8bb-0c25-40a8-83b6-601391971b81",
   "metadata": {},
   "outputs": [],
   "source": [
    "TARGET = 'HOME_TEAM_WINS'\n",
    "games = pd.read_csv(DATAPATH / \"interim\" / \"games.csv\")\n",
    "games.head()"
   ]
  },
  {
   "cell_type": "code",
   "execution_count": null,
   "id": "55df5bbe-4527-41c4-bbc6-204e90de515b",
   "metadata": {},
   "outputs": [],
   "source": [
    "games.info()"
   ]
  },
  {
   "cell_type": "markdown",
   "id": "a6b1058d-396c-4b5b-9c9d-c35ef38d6dd7",
   "metadata": {},
   "source": [
    "###\n",
    "### Check for duplicates and nulls"
   ]
  },
  {
   "cell_type": "code",
   "execution_count": null,
   "id": "c4174635-78f3-454f-8529-0f0a468fdc3e",
   "metadata": {},
   "outputs": [],
   "source": [
    "# duplicates\n",
    "games.duplicated().sum()"
   ]
  },
  {
   "cell_type": "code",
   "execution_count": null,
   "id": "60e1fc7d-c57b-4d4a-bff2-f4f67a34a178",
   "metadata": {},
   "outputs": [],
   "source": [
    "# null values\n",
    "games.isnull().sum()"
   ]
  },
  {
   "cell_type": "code",
   "execution_count": null,
   "id": "7266dff9-cd85-4d22-8d88-56719d5bb18a",
   "metadata": {},
   "outputs": [],
   "source": [
    "#show the nulls\n",
    "games[games.isna().any(axis=1)]"
   ]
  },
  {
   "cell_type": "markdown",
   "id": "032b9611-87f6-41a1-9d87-90674a8d250d",
   "metadata": {},
   "source": [
    "NOTE - 99 games from the early part of 2003 season missing data. "
   ]
  },
  {
   "cell_type": "markdown",
   "id": "92c894ab-33c6-4c13-8aa0-88cea6cd0b24",
   "metadata": {},
   "source": [
    "NOTE - GAME_ID format: \n",
    "\n",
    "- 1st digit: 1=pre-season, 2=regular season, >2 = post season,  \n",
    "- 2nd & 3rd digit: last two digits of season year (eg 103######## represents preseason game in 2003)"
   ]
  },
  {
   "cell_type": "markdown",
   "id": "c05da08b-4eff-438e-b0ec-187c3d034407",
   "metadata": {},
   "source": [
    "###\n",
    "### Check distribution of missing games\n",
    "Make sure these are fairly evenly distributed in case we decide to just delete them."
   ]
  },
  {
   "cell_type": "code",
   "execution_count": null,
   "id": "10508f3b-2d12-4953-bf69-34832802c644",
   "metadata": {},
   "outputs": [],
   "source": [
    "# check distribution of missing games \n",
    "df_home = games[games.isna().any(axis=1)].groupby(['HOME_TEAM_ID'])['HOME_TEAM_ID'].count()\n",
    "ax = df_home.plot.bar(x='HOME_TEAM_ID', y='count', rot=90, ylabel=\"No of Games Missing Data\")"
   ]
  },
  {
   "cell_type": "code",
   "execution_count": null,
   "id": "5aa41526-e30c-4f9a-b4f7-aaf8a3d9cfd0",
   "metadata": {},
   "outputs": [],
   "source": [
    "# check distribution of missing games \n",
    "df_visitor = games[games.isna().any(axis=1)].groupby(['VISITOR_TEAM_ID'])['VISITOR_TEAM_ID'].count()\n",
    "ax = df_visitor.plot.bar(x='VISITOR_TEAM_ID', y='count', rot=90, ylabel=\"No of Games Missing Data\")"
   ]
  },
  {
   "cell_type": "code",
   "execution_count": null,
   "id": "40eb9454-99b6-4aa8-8275-fd5637183345",
   "metadata": {},
   "outputs": [],
   "source": [
    "df = pd.merge(df_home, df_visitor, right_index = True, left_index = True)\n",
    "df.plot.bar(stacked = True, ylabel=\"No of Games Missing Data\")"
   ]
  },
  {
   "cell_type": "markdown",
   "id": "ce2cc42b-ea28-4354-8d9a-25752fa31963",
   "metadata": {},
   "source": [
    "###\n",
    "### Verify okay to drop certain fields\n",
    " - Confirm that GAMES_STATUS_TEXT always = \"Final\"\n",
    " - Confirm that HOME_TEAM_ID always = TEAM_ID-home\n",
    " - Confirm that VISITOR_TEAM_ID always = TEAM_ID-away"
   ]
  },
  {
   "cell_type": "code",
   "execution_count": null,
   "id": "e70ce6cd-4484-46f9-98bc-958b8de3d60a",
   "metadata": {},
   "outputs": [],
   "source": [
    "#count all games not Final\n",
    "\n",
    "games[games['GAME_STATUS_TEXT'] != 'Final'].shape[0]"
   ]
  },
  {
   "cell_type": "markdown",
   "id": "3e157fa0-e42b-483f-a21d-f980e1cf919b",
   "metadata": {},
   "source": [
    "###\n",
    "### Describe the data\n"
   ]
  },
  {
   "cell_type": "code",
   "execution_count": null,
   "id": "95e0a942",
   "metadata": {},
   "outputs": [],
   "source": [
    "games['GAME_DATE_EST'].str.split(\" \").str[0]"
   ]
  },
  {
   "cell_type": "code",
   "execution_count": null,
   "id": "0766a159-7865-4cad-ac89-63a94ef582c9",
   "metadata": {},
   "outputs": [],
   "source": [
    "# fix data types first\n",
    "\n",
    "games['GAME_DATE_EST'] = pd.to_datetime(games['GAME_DATE_EST'].str.split(\" \").str[0])\n",
    "\n",
    "category_fields = ['HOME_TEAM_ID', 'VISITOR_TEAM_ID', 'SEASON']\n",
    "\n",
    "for cat in category_fields:\n",
    "    games[cat] = games[cat].astype('category')"
   ]
  },
  {
   "cell_type": "code",
   "execution_count": null,
   "id": "6ab6f518-94ae-4d42-8395-84d1f0b37def",
   "metadata": {},
   "outputs": [],
   "source": [
    "games.describe(include = 'category').T"
   ]
  },
  {
   "cell_type": "markdown",
   "id": "e93225c8-0a8c-4ac7-ad38-f99f686bc817",
   "metadata": {},
   "source": [
    "30 NBA teams and 19 seasons "
   ]
  },
  {
   "cell_type": "code",
   "execution_count": null,
   "id": "4f393dbf-d9ae-47b7-9522-e14d2ae12c1d",
   "metadata": {},
   "outputs": [],
   "source": [
    "games.describe().T.applymap('{:,.4f}'.format)"
   ]
  },
  {
   "cell_type": "markdown",
   "id": "aed53051-44ca-4acb-84d1-7c2449afea40",
   "metadata": {},
   "source": [
    "###\n",
    "### Check anomalies\n",
    "Some games seem to have a lot of points scored"
   ]
  },
  {
   "cell_type": "code",
   "execution_count": null,
   "id": "2d47a4aa-0182-484c-ab33-3f0fb351af05",
   "metadata": {},
   "outputs": [],
   "source": [
    "# max points = 168?\n",
    "games[(games['PTS_home'] > 160) | (games['PTS_away'] > 160) ]"
   ]
  },
  {
   "cell_type": "markdown",
   "id": "d8afc724-8457-4532-a08c-c86dd5a2e239",
   "metadata": {},
   "source": [
    "NOTE - Google search reveals that the 168 point games are overtime games"
   ]
  },
  {
   "cell_type": "markdown",
   "id": "6de35a96-167e-4884-be75-6ed9da4a495b",
   "metadata": {},
   "source": [
    "###\n",
    "### Check Distributions\n"
   ]
  },
  {
   "cell_type": "code",
   "execution_count": null,
   "id": "f0077b5d-379d-463d-9868-4d836335d5ee",
   "metadata": {},
   "outputs": [],
   "source": [
    "value_list = ['PTS_home', 'PTS_away', \n",
    "              'FG_PCT_home', 'FG_PCT_away', \n",
    "              'FG3_PCT_home', 'FG3_PCT_away',\n",
    "              'FT_PCT_home', 'FT_PCT_away', \n",
    "              'REB_home', 'REB_away',\n",
    "              'AST_home', 'AST_away', \n",
    "              'HOME_TEAM_WINS',\n",
    "             ]\n",
    "\n",
    "sns.set(rc={'figure.figsize':(25,25)})\n",
    "for i, column in enumerate(value_list, 1):\n",
    "    plt.subplot(4,4,i)\n",
    "    p=sns.histplot(x=column, data=games, stat='count', kde=True)"
   ]
  },
  {
   "cell_type": "markdown",
   "id": "1a66afcb-1875-48ee-9c19-ffd0b36d239a",
   "metadata": {},
   "source": [
    "###\n",
    "### Group data to check season-by-season variation\n"
   ]
  },
  {
   "cell_type": "code",
   "execution_count": null,
   "id": "25276d2a-fa4c-45b8-a219-d227fe10e500",
   "metadata": {},
   "outputs": [],
   "source": [
    "# summarize data for each season to check season by season variation\n",
    "\n",
    "value_list = ['GAME_ID', 'HOME_TEAM_WINS', 'PTS_home', 'PTS_away', \n",
    "              'FG_PCT_home', 'FT_PCT_home', 'FG3_PCT_home', 'AST_home', 'REB_home',\n",
    "              'FG_PCT_away', 'FT_PCT_away', 'FG3_PCT_away', 'AST_away', 'REB_away', \n",
    "             ]\n",
    "agg_dict = {'GAME_ID': len, 'HOME_TEAM_WINS': np.sum, 'PTS_home': np.mean, 'PTS_away': np.mean,\n",
    "           'FG_PCT_home': np.mean, 'FT_PCT_home': np.mean, 'FG3_PCT_home': np.mean, 'AST_home': np.mean, 'REB_home': np.mean,\n",
    "           'FG_PCT_away': np.mean, 'FT_PCT_away': np.mean, 'FG3_PCT_away': np.mean, 'AST_away': np.mean, 'REB_away': np.mean,\n",
    "           }\n",
    "\n",
    "df = pd.pivot_table(games,index=['SEASON'],\n",
    "                    values=value_list,\n",
    "                    aggfunc=agg_dict,\n",
    "                   )\n",
    "df = df.reset_index()\n",
    "df = df.rename(columns={'GAME_ID': 'GAMES_PLAYED',})\n",
    "\n",
    "df['HOME_WIN_RATIO'] = df['HOME_TEAM_WINS'] / df['GAMES_PLAYED']\n",
    "\n",
    "# move more interesting columns to front\n",
    "column1 = df.pop('GAMES_PLAYED')\n",
    "column2 = df.pop('HOME_TEAM_WINS')\n",
    "column3 = df.pop('HOME_WIN_RATIO')\n",
    "df.insert(1,'GAMES_PLAYED', column1)\n",
    "df.insert(2,'HOME_TEAM_WINS', column2)\n",
    "df.insert(3,'HOME_WIN_RATIO', column3)\n",
    "\n",
    "df"
   ]
  },
  {
   "cell_type": "code",
   "execution_count": null,
   "id": "f57dbe9b-f7ea-41aa-8100-cbbde2c8e1af",
   "metadata": {},
   "outputs": [],
   "source": [
    "value_list = ['PTS_home', 'PTS_away', \n",
    "              'FG_PCT_home', 'FG_PCT_away', \n",
    "              'FG3_PCT_home', 'FG3_PCT_away',\n",
    "              'FT_PCT_home', 'FT_PCT_away', \n",
    "              'REB_home', 'REB_away',\n",
    "              'AST_home', 'AST_away', \n",
    "              'HOME_WIN_RATIO',\n",
    "             ]\n",
    "for i, column in enumerate(value_list, 1):\n",
    "    plt.subplot(4,4,i)\n",
    "    plt.xticks(rotation=65, horizontalalignment='right',)\n",
    "    ax = sns.barplot(data=df, x='SEASON', y=column, color='blue')\n",
    " "
   ]
  },
  {
   "cell_type": "markdown",
   "id": "9156a091-6ce8-488e-81e9-10b1b35ce8e0",
   "metadata": {},
   "source": [
    "NOTE - PTS, REB, AST have trended up the last several seasons, but Home win ratio is down"
   ]
  },
  {
   "cell_type": "code",
   "execution_count": null,
   "id": "3d552264-f0cd-4811-ac1a-0bd1c7288ea2",
   "metadata": {},
   "outputs": [],
   "source": [
    "df.describe().T"
   ]
  },
  {
   "cell_type": "code",
   "execution_count": null,
   "id": "2d415b33-faad-43f4-846b-7377c9d34a79",
   "metadata": {},
   "outputs": [],
   "source": [
    "value_list = ['PTS_home', 'PTS_away', \n",
    "              'FG_PCT_home', 'FG_PCT_away', \n",
    "              'FG3_PCT_home', 'FG3_PCT_away',\n",
    "              'FT_PCT_home', 'FT_PCT_away', \n",
    "              'REB_home', 'REB_away',\n",
    "              'AST_home', 'AST_away', \n",
    "              'HOME_WIN_RATIO',\n",
    "             ]\n",
    "\n",
    "sns.set(rc={'figure.figsize':(25,25)})\n",
    "for i, column in enumerate(value_list, 1):\n",
    "    plt.subplot(4,4,i)\n",
    "    p=sns.histplot(x=column, data=df, stat='count',bins = 20)"
   ]
  },
  {
   "cell_type": "markdown",
   "id": "81a9f5f1-6840-4a63-a965-30d97317bc9c",
   "metadata": {},
   "source": [
    "### \n",
    "### Group to check team-by-team variation for one season"
   ]
  },
  {
   "cell_type": "code",
   "execution_count": null,
   "id": "7e297178-6823-4fc0-87e8-e269226142ca",
   "metadata": {},
   "outputs": [],
   "source": [
    "# summarize data for each team during 2021 to check team-by-team variation\n",
    "\n",
    "games2021 = games[games['SEASON']==2021]\n",
    "\n",
    "value_list = ['GAME_ID', 'HOME_TEAM_WINS', 'PTS_home', 'PTS_away', \n",
    "              'FG_PCT_home', 'FT_PCT_home', 'FG3_PCT_home', 'AST_home', 'REB_home',\n",
    "              'FG_PCT_away', 'FT_PCT_away', 'FG3_PCT_away', 'AST_away', 'REB_away', \n",
    "             ]\n",
    "agg_dict = {'GAME_ID': len, 'HOME_TEAM_WINS': np.sum, 'PTS_home': np.mean, 'PTS_away': np.mean,\n",
    "           'FG_PCT_home': np.mean, 'FT_PCT_home': np.mean, 'FG3_PCT_home': np.mean, 'AST_home': np.mean, 'REB_home': np.mean,\n",
    "           'FG_PCT_away': np.mean, 'FT_PCT_away': np.mean, 'FG3_PCT_away': np.mean, 'AST_away': np.mean, 'REB_away': np.mean,\n",
    "           }\n",
    "\n",
    "df = pd.pivot_table(games2021,index=['HOME_TEAM_ID'],\n",
    "                    values=value_list,\n",
    "                    aggfunc=agg_dict,\n",
    "                   )\n",
    "\n",
    "df = df.reset_index()\n",
    "df = df.rename(columns={'GAME_ID': 'GAMES_PLAYED',})\n",
    "\n",
    "df['HOME_WIN_RATIO'] = df['HOME_TEAM_WINS'] / df['GAMES_PLAYED']\n",
    "\n",
    "# move more interesting columns to front\n",
    "column1 = df.pop('GAMES_PLAYED')\n",
    "column2 = df.pop('HOME_TEAM_WINS')\n",
    "column3 = df.pop('HOME_WIN_RATIO')\n",
    "df.insert(1,'GAMES_PLAYED', column1)\n",
    "df.insert(2,'HOME_TEAM_WINS', column2)\n",
    "df.insert(3,'HOME_WIN_RATIO', column3)\n",
    "\n",
    "df"
   ]
  },
  {
   "cell_type": "code",
   "execution_count": null,
   "id": "2cccd472-ded9-4197-b351-da9450e0d73a",
   "metadata": {},
   "outputs": [],
   "source": [
    "value_list = ['PTS_home', 'PTS_away', \n",
    "              'FG_PCT_home', 'FG_PCT_away', \n",
    "              'FG3_PCT_home', 'FG3_PCT_away',\n",
    "              'FT_PCT_home', 'FT_PCT_away', \n",
    "              'REB_home', 'REB_away',\n",
    "              'AST_home', 'AST_away', \n",
    "              'HOME_WIN_RATIO',\n",
    "             ]\n",
    "for i, column in enumerate(value_list, 1):\n",
    "    plt.subplot(4,4,i)\n",
    "    plt.xticks(rotation=45, horizontalalignment='right',)\n",
    "    ax = sns.barplot(data=df, x='HOME_TEAM_ID', y=column, color='blue')"
   ]
  },
  {
   "cell_type": "code",
   "execution_count": null,
   "id": "45c1f067-8569-4aba-b105-c73b1c391aea",
   "metadata": {},
   "outputs": [],
   "source": [
    "df.describe().T"
   ]
  },
  {
   "cell_type": "code",
   "execution_count": null,
   "id": "7195edd1-63ca-47e9-8b3d-031b9c62723b",
   "metadata": {},
   "outputs": [],
   "source": [
    "value_list = ['PTS_home', 'PTS_away', \n",
    "              'FG_PCT_home', 'FG_PCT_away', \n",
    "              'FG3_PCT_home', 'FG3_PCT_away',\n",
    "              'FT_PCT_home', 'FT_PCT_away', \n",
    "              'REB_home', 'REB_away',\n",
    "              'AST_home', 'AST_away', \n",
    "              'HOME_WIN_RATIO',\n",
    "             ]\n",
    "\n",
    "sns.set(rc={'figure.figsize':(25,25)})\n",
    "for i, column in enumerate(value_list, 1):\n",
    "    plt.subplot(4,4,i)\n",
    "    p=sns.histplot(x=column, data=df, stat='count', bins = 20)"
   ]
  },
  {
   "cell_type": "markdown",
   "id": "f47e8430-518a-41c8-abfc-0bcf19705f0e",
   "metadata": {},
   "source": [
    "###\n",
    "### Correlations"
   ]
  },
  {
   "cell_type": "code",
   "execution_count": null,
   "id": "bceeb1ef-315d-4994-9f09-42fdf36e95b2",
   "metadata": {},
   "outputs": [],
   "source": [
    "# correlation bar chart\n",
    "\n",
    "from matplotlib.colors import TwoSlopeNorm\n",
    "\n",
    "df1 = games.drop(columns=['GAME_ID'])\n",
    "#df1[cat_cols] = OrdinalEncoder().fit_transform(df1[cat_cols])\n",
    "\n",
    "useful_columns =  df1.select_dtypes(include=['number']).columns\n",
    "\n",
    "def get_redundant_pairs(df):\n",
    "    pairs_to_drop = set()\n",
    "    cols = df.columns\n",
    "    for i in range(0,df.shape[1]):\n",
    "        for j in range(0,i+1):\n",
    "            pairs_to_drop.add((cols[i],cols[j]))\n",
    "    return pairs_to_drop\n",
    "\n",
    "def get_correlations(df,n=30):\n",
    "    au_corr = df.corr(method = 'spearman').unstack() #spearman used because not all data is normalized\n",
    "    labels_to_drop = get_redundant_pairs(df)\n",
    "    au_corr = au_corr.drop(labels = labels_to_drop).sort_values(ascending=False)\n",
    "    top_n = au_corr[0:n]    \n",
    "    bottom_n =  au_corr[-n:]\n",
    "    top_corr = pd.concat([top_n, bottom_n])\n",
    "    return top_corr\n",
    "\n",
    "corrplot = get_correlations(df1[useful_columns])\n",
    "\n",
    "\n",
    "fig, ax = plt.subplots(figsize=(15,10))\n",
    "norm = TwoSlopeNorm(vmin=-1, vcenter=0, vmax =1)\n",
    "colors = [plt.cm.RdYlGn(norm(c)) for c in corrplot.values]\n",
    "\n",
    "print(corrplot)\n",
    "\n",
    "corrplot.plot.barh(color=colors)"
   ]
  },
  {
   "cell_type": "markdown",
   "id": "139f8e1c-2523-47eb-9208-8e572e80f189",
   "metadata": {},
   "source": [
    "NOTE \n",
    "- FG_PCT and AST strongly correlated to PTS. \n",
    "- Opposing REB_PCT strongly negatively correlated to FG_PCT."
   ]
  },
  {
   "cell_type": "markdown",
   "id": "10fd75d1-7e6f-48e8-bc3e-7e8c2de7ea91",
   "metadata": {},
   "source": [
    "###\n",
    "# ranking.csv\n",
    "\n",
    "This dataset contains an incremental daily record of the conference standings of each team as it changes each day of the season, updating with current stats such as: \n",
    "- games played\n",
    "- games won\n",
    "- games lost\n",
    "- winning percentage\n",
    "- home record\n",
    "- road record\n"
   ]
  },
  {
   "cell_type": "code",
   "execution_count": null,
   "id": "87e68ff1-a1ff-4a4d-a64e-19b4e22d4bb1",
   "metadata": {},
   "outputs": [],
   "source": [
    "ranking = pd.read_csv(DATAPATH / \"raw\" / \"ranking.csv\")\n",
    "ranking.head()"
   ]
  },
  {
   "cell_type": "code",
   "execution_count": null,
   "id": "5816d276-58bf-43a3-9ae7-b59ef21ae102",
   "metadata": {},
   "outputs": [],
   "source": [
    "ranking.info()"
   ]
  },
  {
   "cell_type": "markdown",
   "id": "dfac0c83-6dbb-4697-a91d-5c0f86fe04ed",
   "metadata": {},
   "source": [
    "###\n",
    "### Check for duplicates and nulls"
   ]
  },
  {
   "cell_type": "code",
   "execution_count": null,
   "id": "ba535ad9-3425-44b1-b9a6-ca5f2dc62d7a",
   "metadata": {},
   "outputs": [],
   "source": [
    "# duplicates\n",
    "ranking.duplicated().sum()"
   ]
  },
  {
   "cell_type": "code",
   "execution_count": null,
   "id": "c655e20b-7e7f-41bf-b9fc-2c36da12f6af",
   "metadata": {},
   "outputs": [],
   "source": [
    "#null values\n",
    "ranking.isnull().sum()"
   ]
  },
  {
   "cell_type": "code",
   "execution_count": null,
   "id": "157ba211-8976-4e18-b422-159a0e7584ce",
   "metadata": {},
   "outputs": [],
   "source": [
    "# most rows have nulls in RETURNTOPLAY\n",
    "# look at those that do not\n",
    "ranking[ranking['RETURNTOPLAY'].notnull()]"
   ]
  },
  {
   "cell_type": "code",
   "execution_count": null,
   "id": "0441cbb3-9b25-4da1-b651-f0d150900a28",
   "metadata": {},
   "outputs": [],
   "source": [
    "ranking[ranking['RETURNTOPLAY'] == 1]"
   ]
  },
  {
   "cell_type": "code",
   "execution_count": null,
   "id": "99c1f52c-7c15-496b-9c28-ab1680b449eb",
   "metadata": {},
   "outputs": [],
   "source": [
    "ranking[ranking['RETURNTOPLAY'] == 0]"
   ]
  },
  {
   "cell_type": "code",
   "execution_count": null,
   "id": "32611e73-6535-43df-a77e-483f4b7303cf",
   "metadata": {},
   "outputs": [],
   "source": [
    "# are any in west conference?\n",
    "df = ranking[ranking['RETURNTOPLAY'].notnull()]\n",
    "df[df['CONFERENCE'] == 'West'].shape[0]"
   ]
  },
  {
   "cell_type": "markdown",
   "id": "1795c8e6-cb65-4924-8ca7-80f139a56622",
   "metadata": {},
   "source": [
    "NOTE - Not sure what RETURNTOPLAY means, but it is limited to East Conference stats between 2020-03-12 and 2020-12-10, and is probably of almost no utility at the moment"
   ]
  },
  {
   "cell_type": "code",
   "execution_count": null,
   "id": "baa370cf-b534-4547-b306-62b585701444",
   "metadata": {},
   "outputs": [],
   "source": [
    "# any LEAGUE_ID not 0?\n",
    "ranking[ranking['LEAGUE_ID'] != 0].shape[0]"
   ]
  },
  {
   "cell_type": "markdown",
   "id": "54b55b27-93c3-4c75-ac05-cf96f616afca",
   "metadata": {},
   "source": [
    "NOTE - LEAGUE_ID always 0, can drop"
   ]
  },
  {
   "cell_type": "code",
   "execution_count": null,
   "id": "acbe5bbd-3f89-4fdb-9217-fc3670e208fe",
   "metadata": {},
   "outputs": [],
   "source": [
    "#these fields not needed for processing, analysis, or modeling\n",
    "\n",
    "drop_fields = ['LEAGUE_ID', 'RETURNTOPLAY', 'TEAM']\n",
    "\n",
    "#ranking = ranking.drop(drop_fields,axis=1)"
   ]
  },
  {
   "cell_type": "markdown",
   "id": "8b89db44-064d-4262-9ed8-f582a7eebe4c",
   "metadata": {},
   "source": [
    "###\n",
    "### Describe the data\n"
   ]
  },
  {
   "cell_type": "code",
   "execution_count": null,
   "id": "e926350f-0e9e-4641-9467-1f7a991883f0",
   "metadata": {},
   "outputs": [],
   "source": [
    "# fix data types first\n",
    "\n",
    "ranking['STANDINGSDATE'] = ranking['STANDINGSDATE'].astype('datetime64[ns]')\n",
    "\n",
    "category_fields = ['TEAM_ID', 'CONFERENCE', 'SEASON_ID']\n",
    "\n",
    "for cat in category_fields:\n",
    "    ranking[cat] = ranking[cat].astype('category')"
   ]
  },
  {
   "cell_type": "code",
   "execution_count": null,
   "id": "a0a7c17a-7219-4ab3-a30b-2e9cfa19e966",
   "metadata": {},
   "outputs": [],
   "source": [
    "ranking.describe(include = 'category').T"
   ]
  },
  {
   "cell_type": "code",
   "execution_count": null,
   "id": "8a4009bc-fdfa-4878-abaf-caf11b401f99",
   "metadata": {},
   "outputs": [],
   "source": [
    "# why 39 SEASON_IDs?\n",
    "ranking['SEASON_ID'].value_counts()"
   ]
  },
  {
   "cell_type": "code",
   "execution_count": null,
   "id": "5c89b37e-91f7-4187-9d54-b6cd5308a2b6",
   "metadata": {},
   "outputs": [],
   "source": [
    "ranking[(ranking['SEASON_ID']==12021) & (ranking['G'] > 0)]"
   ]
  },
  {
   "cell_type": "code",
   "execution_count": null,
   "id": "57a84b5c-daa0-4f07-9ca0-82695dfd9198",
   "metadata": {},
   "outputs": [],
   "source": [
    "df = ranking[(ranking['SEASON_ID']==12021)]\n",
    "df.describe().T"
   ]
  },
  {
   "cell_type": "markdown",
   "id": "b22b03d6-da7b-4ca3-b4e1-b502065c2f01",
   "metadata": {},
   "source": [
    "NOTE - SEASON_ID beginning with 1 appears to be preseason games"
   ]
  },
  {
   "cell_type": "code",
   "execution_count": null,
   "id": "446d2533-b294-4967-a3bd-c9205edbb2fd",
   "metadata": {},
   "outputs": [],
   "source": [
    "#flag preseaon stats\n",
    "ranking['PRESEASON'] = ((ranking['SEASON_ID'].astype('int') < 20000).astype('int')).astype('category')\n",
    "ranking"
   ]
  },
  {
   "cell_type": "code",
   "execution_count": null,
   "id": "6b94df5c-00b0-43fe-ae71-e0fdd3a9bc4a",
   "metadata": {},
   "outputs": [],
   "source": [
    "#home record and road record need to be converted to numeric\n",
    "\n",
    "ranking['HOME_W'] = ranking['HOME_RECORD'].apply(lambda x: x.split('-')[0]).astype('int')\n",
    "ranking['HOME_L'] = ranking['HOME_RECORD'].apply(lambda x: x.split('-')[1]).astype('int')\n",
    "ranking['HOME_W_PCT'] = ranking['HOME_W'] / ( ranking['HOME_W'] + ranking['HOME_L'] )\n",
    "\n",
    "ranking['ROAD_W'] = ranking['ROAD_RECORD'].apply(lambda x: x.split('-')[0]).astype('int')\n",
    "ranking['ROAD_L'] = ranking['ROAD_RECORD'].apply(lambda x: x.split('-')[1]).astype('int')\n",
    "ranking['ROAD_W_PCT'] = ranking['ROAD_W'] / ( ranking['ROAD_W'] + ranking['ROAD_L'] )\n"
   ]
  },
  {
   "cell_type": "code",
   "execution_count": null,
   "id": "43eeaca7-23e3-4026-9927-62bc5c1ab8f3",
   "metadata": {},
   "outputs": [],
   "source": [
    "df = ranking[ranking['PRESEASON']==0]\n",
    "df.describe().T"
   ]
  },
  {
   "cell_type": "markdown",
   "id": "93eb8b6d-f42f-431e-a6fd-065ec486fc6b",
   "metadata": {},
   "source": [
    "## Validation"
   ]
  },
  {
   "cell_type": "code",
   "execution_count": null,
   "id": "f5ea9966-7f50-4423-bb4d-2f02da92091b",
   "metadata": {},
   "outputs": [],
   "source": [
    "# check that key fields are always increasing since they represent running totals\n",
    "\n",
    "df = ranking[ranking['PRESEASON']==0]\n",
    "\n",
    "seasons = df[\"SEASON_ID\"].unique().to_list()\n",
    "teams = df[\"TEAM_ID\"].unique().to_list()\n",
    "fields = ['G','W','L','HOME_W','HOME_L','ROAD_W','ROAD_L'] \n",
    "\n",
    "for season in seasons:\n",
    "    for team in teams:\n",
    "        df = ranking[(ranking['SEASON_ID'] == season) & (ranking['TEAM_ID'] == team)]\n",
    "        df = df.set_index('STANDINGSDATE')\n",
    "        df = df.sort_index(ascending=True)\n",
    "        \n",
    "        for field in fields:\n",
    "            increasing = df[field].is_monotonic_increasing\n",
    "            if not(increasing):\n",
    "                print(\"Not increasing:\", season, team, field)\n",
    "\n"
   ]
  },
  {
   "cell_type": "code",
   "execution_count": null,
   "id": "2d8180a9-bc54-47e7-98a6-4460e4c98667",
   "metadata": {},
   "outputs": [],
   "source": [
    "#sample 5 records to validate against historical record on google\n",
    "\n",
    "df = ranking[ranking['PRESEASON']==0]\n",
    "df.sample(n=5)"
   ]
  },
  {
   "cell_type": "code",
   "execution_count": null,
   "id": "289516e7-fae8-4a7f-9af5-bb98aeaa3b81",
   "metadata": {},
   "outputs": [],
   "source": [
    "# make sure each date only has data for 30 teams\n",
    "# from the later merge process in data processing, there appears to be an issue\n",
    "df = ranking.groupby(['STANDINGSDATE']).count()\n",
    "df = df.reset_index()\n",
    "df\n",
    "df[df['TEAM_ID'] > 30]"
   ]
  },
  {
   "cell_type": "code",
   "execution_count": null,
   "id": "4b17199a-4896-4a05-b08b-26bdbbc1f8b7",
   "metadata": {},
   "outputs": [],
   "source": [
    "df = ranking[ranking['STANDINGSDATE'] == '2020-12-28']\n",
    "df['TEAM_ID'].value_counts()"
   ]
  },
  {
   "cell_type": "code",
   "execution_count": null,
   "id": "d5580ecf-265e-4775-8da0-63c410a4b299",
   "metadata": {},
   "outputs": [],
   "source": [
    "df[df['TEAM_ID'] == 1610612752]"
   ]
  },
  {
   "cell_type": "code",
   "execution_count": null,
   "id": "9ec9d4ef-d883-4bac-bb60-a3321d62f63c",
   "metadata": {},
   "outputs": [],
   "source": [
    "df = df[df['TEAM_ID'] == 1610612752]\n",
    "df.duplicated()"
   ]
  },
  {
   "cell_type": "markdown",
   "id": "de4a47ec-364b-45b0-ba02-62932f2bd705",
   "metadata": {},
   "source": [
    "###\n",
    "## game_details.csv"
   ]
  },
  {
   "cell_type": "code",
   "execution_count": null,
   "id": "4e831b3f-ecbc-4f37-b1f8-aeca94a4253a",
   "metadata": {},
   "outputs": [],
   "source": [
    "details = pd.read_csv(DATAPATH / \"raw\" / \"games_details.csv\")\n",
    "details"
   ]
  },
  {
   "cell_type": "code",
   "execution_count": null,
   "id": "5c42ef24-f510-4146-8f95-6aa4258fbfe4",
   "metadata": {},
   "outputs": [],
   "source": [
    "details.info()"
   ]
  },
  {
   "cell_type": "markdown",
   "id": "24e3295a-6baf-4d67-bd20-3d1f2712b8ae",
   "metadata": {},
   "source": [
    "###\n",
    "### Check for duplicates and nulls"
   ]
  },
  {
   "cell_type": "code",
   "execution_count": null,
   "id": "11baf674-4f67-41b2-8c5e-ea657d4778e4",
   "metadata": {},
   "outputs": [],
   "source": [
    "# duplicates\n",
    "details.duplicated().sum()"
   ]
  },
  {
   "cell_type": "code",
   "execution_count": null,
   "id": "e3978921-6e16-4e83-afea-74641868a7b0",
   "metadata": {},
   "outputs": [],
   "source": [
    "#null values\n",
    "details.isnull().sum()"
   ]
  },
  {
   "cell_type": "code",
   "execution_count": null,
   "id": "2d3c9998-e606-46dd-991f-5c4a1b3e0643",
   "metadata": {},
   "outputs": [],
   "source": [
    "#the 105603 nulls across all the key stats seems most important\n",
    "details[details['MIN'].isna()]"
   ]
  },
  {
   "cell_type": "markdown",
   "id": "c6810315-ab4d-4b0d-8892-39ebdcd3cf71",
   "metadata": {},
   "source": [
    "--    \n",
    "**COMMENT field**"
   ]
  },
  {
   "cell_type": "code",
   "execution_count": null,
   "id": "16a0b9a4-7d73-42b6-bba6-39279654b522",
   "metadata": {},
   "outputs": [],
   "source": [
    "# the COMMENT field seems to indicate when the player did not play\n",
    "pd.set_option('display.max_rows', 20)\n",
    "df = details[details['MIN'].isna()]\n",
    "df['COMMENT'].value_counts()"
   ]
  },
  {
   "cell_type": "code",
   "execution_count": null,
   "id": "a48ad370-726b-43f7-b13e-37c11acf32f8",
   "metadata": {},
   "outputs": [],
   "source": [
    "# DNP - Did not play, DND - did not dress, NWT - not with team\n",
    "# are any of these null?\n",
    "df['COMMENT'].isna().sum()"
   ]
  },
  {
   "cell_type": "code",
   "execution_count": null,
   "id": "36fb96fb-db6b-4511-b251-4d1206270e0d",
   "metadata": {},
   "outputs": [],
   "source": [
    "#which one?\n",
    "df[df['COMMENT'].isna()]"
   ]
  },
  {
   "cell_type": "markdown",
   "id": "dfe51a6f-9454-44e8-a9ad-3c9114cd2903",
   "metadata": {},
   "source": [
    "NOTE - records where all stats are missing indicates games where that player did not play. This is indicated in the COMMENT field except for the one record above"
   ]
  },
  {
   "cell_type": "code",
   "execution_count": null,
   "id": "83a7cc69-5887-4270-91ce-92be83a8c14d",
   "metadata": {},
   "outputs": [],
   "source": [
    "#check pattern\n",
    "df[df['COMMENT'].str[4:5] != '-']"
   ]
  },
  {
   "cell_type": "markdown",
   "id": "5d959552-65fb-45e2-8134-597306dbc087",
   "metadata": {},
   "source": [
    "NOTE - 1121 records do not follow the \"XXX -\" pattern"
   ]
  },
  {
   "cell_type": "code",
   "execution_count": null,
   "id": "478efd99-bb5e-4606-a6f5-f25ddd546815",
   "metadata": {},
   "outputs": [],
   "source": [
    "#list the comments that do not follow the pattern\n",
    "df['COMMENT'][df['COMMENT'].str[4:5] != '-'].value_counts()"
   ]
  },
  {
   "cell_type": "code",
   "execution_count": null,
   "id": "471e0950-b942-4c24-9473-e056b864e197",
   "metadata": {},
   "outputs": [],
   "source": [
    "#list any comments when stats not null\n",
    "df = details[details['MIN'].notna()]\n",
    "df['COMMENT'].value_counts().sum()"
   ]
  },
  {
   "cell_type": "markdown",
   "id": "9525b00b-8639-49d9-b6ea-146dceab32dd",
   "metadata": {},
   "source": [
    "NOTE - COMMENT only used when player did not play"
   ]
  },
  {
   "cell_type": "markdown",
   "id": "8545a9c3-92a8-49f1-b040-e2ced19e8f33",
   "metadata": {},
   "source": [
    "--      \n",
    "**MIN field**\n",
    "\n",
    "Minutes played seems to have mixed data: integer minutes and MIN:SEC"
   ]
  },
  {
   "cell_type": "code",
   "execution_count": null,
   "id": "1e5cdbaf-6d9e-44e5-aaff-694f556b98f8",
   "metadata": {},
   "outputs": [],
   "source": [
    "details['MIN'].value_counts()"
   ]
  },
  {
   "cell_type": "code",
   "execution_count": null,
   "id": "15fb5e02-ae5a-4f32-a8b6-15c5ccdb9c9e",
   "metadata": {},
   "outputs": [],
   "source": [
    "# see if any values are left if we filter out nulls, isdigit(), and strings with \":\"\n",
    "df = details[details['MIN'].notna()]\n",
    "df = df[~df['MIN'].str.isdigit()]\n",
    "df = df[~df['MIN'].str.contains(':')]\n",
    "df\n",
    "df[df['GAME_ID'] == 10800045]"
   ]
  },
  {
   "cell_type": "markdown",
   "id": "fd1fb04b-e2a0-447c-9e3e-14cb9c88d7de",
   "metadata": {},
   "source": [
    "NOTE - 12 records have negative minutes played"
   ]
  },
  {
   "cell_type": "code",
   "execution_count": null,
   "id": "015d68cd-ac0d-49d7-843f-45d8e297325d",
   "metadata": {},
   "outputs": [],
   "source": [
    "# convert MIN:SEC to float\n",
    "\n",
    "df = details.loc[details['MIN'].str.contains(':',na=False)]\n",
    "df['MIN_whole'] = df['MIN'].apply(lambda x: x.split(':')[0].split('.')[0]).astype(\"int8\")\n",
    "df['MIN_seconds'] = df['MIN'].apply(lambda x: x.split(':')[1]).astype(\"int8\")\n",
    "df['MIN'] = df['MIN_whole'] + (df['MIN_seconds'] / 60)\n",
    "\n",
    "details['MIN'].loc[details['MIN'].str.contains(':',na=False)] = df['MIN']\n",
    "details['MIN'] = details['MIN'].astype(\"float64\")\n",
    "\n",
    "# convert negatives to positive\n",
    "details['MIN'].loc[details['MIN'] < 0] = -(df['MIN'])\n",
    "\n",
    "details\n"
   ]
  },
  {
   "cell_type": "markdown",
   "id": "96c45605-458a-4a2b-8567-f4df5191ca7f",
   "metadata": {},
   "source": [
    "--     \n",
    "**START_POSITION field**"
   ]
  },
  {
   "cell_type": "code",
   "execution_count": null,
   "id": "7f422700-51d3-4bd3-bc26-31e65f9c4486",
   "metadata": {},
   "outputs": [],
   "source": [
    "details['START_POSITION'].value_counts()"
   ]
  },
  {
   "cell_type": "markdown",
   "id": "ffb32440-d4ce-4eef-98f5-f325002ff04f",
   "metadata": {},
   "source": [
    "NOTE - maybe convert nulls to a character if player did play but did not start"
   ]
  },
  {
   "cell_type": "markdown",
   "id": "56ae9feb-ddf7-4bdf-8c94-9feb8b18da99",
   "metadata": {},
   "source": [
    "### describe data"
   ]
  },
  {
   "cell_type": "code",
   "execution_count": null,
   "id": "df3f6973-3827-4b65-9a5e-1e4144c255a3",
   "metadata": {},
   "outputs": [],
   "source": [
    "details.describe(include = 'float').T.applymap('{:,.4f}'.format)"
   ]
  },
  {
   "cell_type": "markdown",
   "id": "c1f208a4-57e2-4d58-9a71-240b399165e1",
   "metadata": {},
   "source": [
    "###\n",
    "### Check distributions"
   ]
  },
  {
   "cell_type": "code",
   "execution_count": null,
   "id": "6686f02b-1de6-44e0-b425-976e385e4b53",
   "metadata": {},
   "outputs": [],
   "source": [
    "value_list = details.select_dtypes(include=['float']).columns.to_list()\n",
    "\n",
    "df = details[details['MIN'].notna()]\n",
    "\n",
    "sns.set(rc={'figure.figsize':(25,25)})\n",
    "for i, column in enumerate(value_list, 1):\n",
    "    plt.subplot(5,4,i)\n",
    "    ax=sns.histplot(x=column, data=df, stat='count')"
   ]
  },
  {
   "cell_type": "markdown",
   "id": "968eb9bd-7f87-4b92-9b30-ce1a547a94cd",
   "metadata": {},
   "source": [
    "### check outliers "
   ]
  },
  {
   "cell_type": "markdown",
   "id": "3f0c1533-b992-4f83-b15c-3a8d137150db",
   "metadata": {},
   "source": [
    "**96 minutes in one game**"
   ]
  },
  {
   "cell_type": "code",
   "execution_count": null,
   "id": "28b1c684-0dea-4436-8030-08386766350b",
   "metadata": {},
   "outputs": [],
   "source": [
    "#list games where players played more than 60 minutes\n",
    "df.loc[df['MIN'] > 60]"
   ]
  },
  {
   "cell_type": "markdown",
   "id": "71fabc7d-f699-4505-a709-6738030ea4df",
   "metadata": {},
   "source": [
    "**field goal attempts**"
   ]
  },
  {
   "cell_type": "code",
   "execution_count": null,
   "id": "936fd1c2-31f9-4fdf-bbdb-ae2898d46e42",
   "metadata": {},
   "outputs": [],
   "source": [
    "df.loc[df['FGA'] > 40]"
   ]
  },
  {
   "cell_type": "markdown",
   "id": "e7925124-f1fc-44c7-9e9e-c4f63f979122",
   "metadata": {},
   "source": [
    "NOTE - according to a google search, the 50 FGA by Kobe Bryant is correct"
   ]
  },
  {
   "cell_type": "markdown",
   "id": "95e98262-f0cd-4af9-a719-6e12dc85d5bb",
   "metadata": {},
   "source": [
    "**free throw attempts**"
   ]
  },
  {
   "cell_type": "code",
   "execution_count": null,
   "id": "16ad0531-ae33-4ab1-b463-f6a3da63dc4a",
   "metadata": {},
   "outputs": [],
   "source": [
    "df.loc[df['FTA'] > 30]"
   ]
  },
  {
   "cell_type": "markdown",
   "id": "fea96f86-b330-415f-9685-a17a3b120034",
   "metadata": {},
   "source": [
    "NOTE - according to a google search, the 39 FTA by Dwight Howard are correct"
   ]
  }
 ],
 "metadata": {
  "kernelspec": {
   "display_name": "basketball-prediction-klrE3EAW-py3.12",
   "language": "python",
   "name": "python3"
  },
  "language_info": {
   "codemirror_mode": {
    "name": "ipython",
    "version": 3
   },
   "file_extension": ".py",
   "mimetype": "text/x-python",
   "name": "python",
   "nbconvert_exporter": "python",
   "pygments_lexer": "ipython3",
   "version": "3.12.3"
  }
 },
 "nbformat": 4,
 "nbformat_minor": 5
}
